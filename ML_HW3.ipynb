{
 "cells": [
  {
   "cell_type": "markdown",
   "metadata": {
    "id": "kNnrjkIUWEDh"
   },
   "source": [
    "# Homework 3\n",
    "\n",
    "DUE Nov 15th at 11:59 PM"
   ]
  },
  {
   "cell_type": "markdown",
   "metadata": {
    "id": "EbpTqmT4WhaB"
   },
   "source": [
    "## Problem 1\n",
    "\n",
    "In this problem, you will implement a simple feed-forward neural network using PyTorch, a straight-forward and simple-to-pickup framework for quickly prototyping deep learning model. \n",
    "\n",
    "PyTorch provides 2 powerful things. First, a nice data structure called Tensor (basically a matrix, similar to Numpy ndarray). Tensor is optimized for matrix calculation and can be loaded to a GPU. Tensor is also implemented so that it's easy to calculate and pass back chains of gradients, which is extremely useful for backpropagation on neural network. Second, a nice inner mechanism called Autograd that nicely maps variables involved a chain of calculations and efficiently calculates their gradients via the chain rule when needed. Read more here: https://towardsdatascience.com/pytorch-autograd-understanding-the-heart-of-pytorchs-magic-2686cd94ec95  \n",
    "\n",
    "You will define a neural network class in PyTorch and use the network to learn a classification task on the famous KDD CUP 99 dataset. You can refer to Problem 2 to see how a network class can be defined, how to use a PyTorch's DataLoader, and how a training loop may looks like.\n",
    "\n",
    "There are many greate tutorial on PyTorch out there. For example, this video on Youtube explains how to build a simple network in PyTorch quite clearly: https://www.youtube.com/watch?v=oPhxf2fXHkQ\n",
    "\n",
    "### Part a\n",
    "Firstly, load and inspect the \"**KDD CUP 99**\" dataset."
   ]
  },
  {
   "cell_type": "code",
   "execution_count": 2,
   "metadata": {
    "id": "qyL0okEBWggC"
   },
   "outputs": [],
   "source": [
    "from sklearn.datasets import fetch_kddcup99\n",
    "from sklearn.preprocessing import OrdinalEncoder, LabelEncoder\n",
    "import torch\n",
    "\n",
    "X, y = fetch_kddcup99(return_X_y=True, percent10=True)\n",
    "\n",
    "# enc = OrdinalEncoder()\n",
    "# enc.fit(X[:,1:4])\n",
    "# X[:,1:4] = enc.transform(X[:,1:4])\n",
    "\n",
    "# lab = LabelEncoder()\n",
    "# lab.fit(y)\n",
    "# y = lab.transform(y)"
   ]
  },
  {
   "cell_type": "code",
   "execution_count": 3,
   "metadata": {},
   "outputs": [
    {
     "data": {
      "text/plain": [
       "array([[0, b'tcp', b'http', ..., 0.0, 0.0, 0.0],\n",
       "       [0, b'tcp', b'http', ..., 0.0, 0.0, 0.0],\n",
       "       [0, b'tcp', b'http', ..., 0.0, 0.0, 0.0],\n",
       "       ...,\n",
       "       [0, b'tcp', b'http', ..., 0.01, 0.0, 0.0],\n",
       "       [0, b'tcp', b'http', ..., 0.01, 0.0, 0.0],\n",
       "       [0, b'tcp', b'http', ..., 0.01, 0.0, 0.0]], dtype=object)"
      ]
     },
     "execution_count": 3,
     "metadata": {},
     "output_type": "execute_result"
    }
   ],
   "source": [
    "X"
   ]
  },
  {
   "cell_type": "markdown",
   "metadata": {
    "id": "BD09sAm-52_u"
   },
   "source": [
    "Split them into a train set (70%), a validation set (10%), and a test set (20%). Then, create a PyTorch's DataLoader for the train set, a DataLoader for the validation set, and a DataLoader for the test set.\n",
    "\n",
    "You can read about PyTorch's DataLoader from:\n",
    "\n",
    "*   https://stanford.edu/~shervine/blog/pytorch-how-to-generate-data-parallel\n",
    "*   https://pytorch.org/docs/stable/data.html#torch.utils.data.DataLoader\n",
    "\n"
   ]
  },
  {
   "cell_type": "code",
   "execution_count": 82,
   "metadata": {},
   "outputs": [],
   "source": [
    "class Dataset(torch.utils.data.Dataset):\n",
    "    # Characterizes a dataset for PyTorch'\n",
    "    def __init__(self, X, y):\n",
    "        #'Initialization'\n",
    "        self.labels = torch.tensor(y)\n",
    "        self.features = torch.tensor(X)\n",
    "\n",
    "    def __len__(self):\n",
    "        #'Denotes the total number of samples'\n",
    "        return len(self.labels)\n",
    "\n",
    "    def __getitem__(self, index):\n",
    "        #'Generates one sample of data'\n",
    "        # Select sample\n",
    "        return self.features[index], self.labels[index]"
   ]
  },
  {
   "cell_type": "code",
   "execution_count": 83,
   "metadata": {
    "id": "tnwd2ylj5BD4"
   },
   "outputs": [],
   "source": [
    "from sklearn.model_selection import train_test_split\n",
    "from torch.utils.data import DataLoader\n",
    "import numpy as np\n",
    "\n",
    "# Define test and train\n",
    "X_train, X_test, y_train, y_test = train_test_split(X,y,\n",
    "                                                    test_size=0.2, random_state=123,\n",
    "                                                    shuffle=True)\n",
    "\n",
    "# Split part of train into validation set\n",
    "X_train, X_val, y_train, y_val = train_test_split(X_train, y_train,\n",
    "                                                 test_size = 0.125, random_state=123,\n",
    "                                                 shuffle=True)\n",
    "\n",
    "X_train = np.array(X_train, dtype=float)\n",
    "X_val = np.array(X_val, dtype=float)\n",
    "X_test = np.array(X_test, dtype=float)"
   ]
  },
  {
   "cell_type": "code",
   "execution_count": 84,
   "metadata": {},
   "outputs": [],
   "source": [
    "# Create Datasets to input to loaders\n",
    "train_dataset = Dataset(X_train, y_train)\n",
    "val_dataset = Dataset(X_val, y_val)\n",
    "test_dataset = Dataset(X_test, y_test)\n",
    "\n",
    "# Create data loaders\n",
    "train_loader = DataLoader(train_dataset, batch_size=100, shuffle=True, num_workers=0)\n",
    "val_loader = DataLoader(val_dataset, batch_size=100, shuffle=True, num_workers=0)\n",
    "test_loader = DataLoader(test_dataset, batch_size=100, shuffle=True, num_workers=0)"
   ]
  },
  {
   "cell_type": "markdown",
   "metadata": {
    "id": "ZuEYUkVdWpYw"
   },
   "source": [
    "### Part b \n",
    "Create a Python class for our neural network model. The network should have 1 input layer, 1 hidden layer, and 1 output layer. You are free to choose the size of the hidden layer (it may affect the performance). Use ReLU as the activation function (torch.relu)."
   ]
  },
  {
   "cell_type": "code",
   "execution_count": 85,
   "metadata": {},
   "outputs": [],
   "source": [
    "input_size = 41\n",
    "hidden_size = 64\n",
    "num_classes = 23"
   ]
  },
  {
   "cell_type": "code",
   "execution_count": 86,
   "metadata": {
    "id": "68ti8_83WzHP"
   },
   "outputs": [],
   "source": [
    "import torch.nn as nn\n",
    "\n",
    "# Any Pytorch's network class is an extension of the torch.nn.Module parent class.\n",
    "# To define a network class, you need to define at least 2 methods: \n",
    "# an __init__() method (constructor) and a forward() method\n",
    "class SimpleNetwork(torch.nn.Module):\n",
    "    # Create the network class by filling in this block of code\n",
    "\n",
    "    # Create the constructor. Add any additional arguments as you wish\n",
    "    def __init__(self, input_size, hidden_size, num_classes):\n",
    "        super().__init__()\n",
    "        self.l1 = nn.Linear(input_size, hidden_size) \n",
    "        self.relu = nn.ReLU()\n",
    "        self.l2 = nn.Linear(hidden_size, num_classes) \n",
    "    \n",
    "    # Define the feed forward function.\n",
    "    # x is the input example/examples.\n",
    "    # Add any additional arguments as you wish.\n",
    "    def forward(self, x):\n",
    "        out = self.l1(x)\n",
    "        out = self.relu(out)\n",
    "        out = self.l2(out)\n",
    "        return out"
   ]
  },
  {
   "cell_type": "markdown",
   "metadata": {
    "id": "ONBn93ldWz8n"
   },
   "source": [
    "### Part c \n",
    "Train the network using the training dataset. Use the SGD optimizer and CrossEntropyLoss. After each epoch, record the current loss and the current training accuracy. The current training accuracy is obtained by evaluating the model on the train dataset. Use the DataLoaders defined in part a to efficiently pass training and testing data.\n",
    "\n",
    "You can learn about the available optimizers at:\n",
    "https://pytorch.org/docs/stable/optim.html\n",
    "\n",
    "You can learn about the available loss functions at:\n",
    "https://pytorch.org/docs/stable/nn.html#loss-functions"
   ]
  },
  {
   "cell_type": "code",
   "execution_count": 87,
   "metadata": {
    "scrolled": true
   },
   "outputs": [
    {
     "name": "stdout",
     "output_type": "stream",
     "text": [
      "Epoch [1/100], Loss: 112.0067\n",
      "Accuracy of the network on training set: 64.9254 %\n",
      "Accuracy of the network on validation set: 65.06 %\n",
      "Epoch [2/100], Loss: 0.5963\n",
      "Accuracy of the network on training set: 80.2319 %\n",
      "Accuracy of the network on validation set: 79.94 %\n",
      "Epoch [3/100], Loss: 0.4339\n",
      "Accuracy of the network on training set: 81.0783 %\n",
      "Accuracy of the network on validation set: 80.8 %\n",
      "Epoch [4/100], Loss: 0.6055\n",
      "Accuracy of the network on training set: 80.1246 %\n",
      "Accuracy of the network on validation set: 79.87 %\n",
      "Epoch [5/100], Loss: 0.4929\n",
      "Accuracy of the network on training set: 80.6246 %\n",
      "Accuracy of the network on validation set: 80.33 %\n",
      "Epoch [6/100], Loss: 0.4164\n",
      "Accuracy of the network on training set: 80.9198 %\n",
      "Accuracy of the network on validation set: 80.66 %\n",
      "Epoch [7/100], Loss: 0.4200\n",
      "Accuracy of the network on training set: 80.9103 %\n",
      "Accuracy of the network on validation set: 80.62 %\n",
      "Epoch [8/100], Loss: 0.3959\n",
      "Accuracy of the network on training set: 80.8518 %\n",
      "Accuracy of the network on validation set: 80.56 %\n",
      "Epoch [9/100], Loss: 0.6321\n",
      "Accuracy of the network on training set: 80.7986 %\n",
      "Accuracy of the network on validation set: 80.55 %\n",
      "Epoch [10/100], Loss: 0.4591\n",
      "Accuracy of the network on training set: 81.0919 %\n",
      "Accuracy of the network on validation set: 80.78 %\n",
      "Epoch [11/100], Loss: 0.4037\n",
      "Accuracy of the network on training set: 81.1202 %\n",
      "Accuracy of the network on validation set: 80.82 %\n",
      "Epoch [12/100], Loss: 0.5305\n",
      "Accuracy of the network on training set: 80.0899 %\n",
      "Accuracy of the network on validation set: 79.8 %\n",
      "Epoch [13/100], Loss: 0.5205\n",
      "Accuracy of the network on training set: 80.1379 %\n",
      "Accuracy of the network on validation set: 79.87 %\n",
      "Epoch [14/100], Loss: 0.4428\n",
      "Accuracy of the network on training set: 80.1503 %\n",
      "Accuracy of the network on validation set: 79.88 %\n",
      "Epoch [15/100], Loss: 0.5225\n",
      "Accuracy of the network on training set: 80.8741 %\n",
      "Accuracy of the network on validation set: 80.59 %\n",
      "Epoch [16/100], Loss: 0.4725\n",
      "Accuracy of the network on training set: 80.9643 %\n",
      "Accuracy of the network on validation set: 80.69 %\n",
      "Epoch [17/100], Loss: 0.3620\n",
      "Accuracy of the network on training set: 81.0199 %\n",
      "Accuracy of the network on validation set: 80.75 %\n",
      "Epoch [18/100], Loss: 0.4256\n",
      "Accuracy of the network on training set: 80.8741 %\n",
      "Accuracy of the network on validation set: 80.6 %\n",
      "Epoch [19/100], Loss: 0.5597\n",
      "Accuracy of the network on training set: 80.9105 %\n",
      "Accuracy of the network on validation set: 80.65 %\n",
      "Epoch [20/100], Loss: 0.4471\n",
      "Accuracy of the network on training set: 81.0251 %\n",
      "Accuracy of the network on validation set: 80.76 %\n",
      "Epoch [21/100], Loss: 0.5164\n",
      "Accuracy of the network on training set: 81.0285 %\n",
      "Accuracy of the network on validation set: 80.75 %\n",
      "Epoch [22/100], Loss: 0.5334\n",
      "Accuracy of the network on training set: 81.0421 %\n",
      "Accuracy of the network on validation set: 80.77 %\n",
      "Epoch [23/100], Loss: 0.3617\n",
      "Accuracy of the network on training set: 81.0919 %\n",
      "Accuracy of the network on validation set: 80.81 %\n",
      "Epoch [24/100], Loss: 0.5227\n",
      "Accuracy of the network on training set: 80.9507 %\n",
      "Accuracy of the network on validation set: 80.68 %\n",
      "Epoch [25/100], Loss: 0.4347\n",
      "Accuracy of the network on training set: 81.0465 %\n",
      "Accuracy of the network on validation set: 80.78 %\n",
      "Epoch [26/100], Loss: 0.5830\n",
      "Accuracy of the network on training set: 81.0459 %\n",
      "Accuracy of the network on validation set: 80.77 %\n",
      "Epoch [27/100], Loss: 0.5943\n",
      "Accuracy of the network on training set: 81.0548 %\n",
      "Accuracy of the network on validation set: 80.78 %\n",
      "Epoch [28/100], Loss: 0.4437\n",
      "Accuracy of the network on training set: 81.1824 %\n",
      "Accuracy of the network on validation set: 80.89 %\n",
      "Epoch [29/100], Loss: 0.5831\n",
      "Accuracy of the network on training set: 80.6754 %\n",
      "Accuracy of the network on validation set: 80.39 %\n",
      "Epoch [30/100], Loss: 0.4350\n",
      "Accuracy of the network on training set: 81.0233 %\n",
      "Accuracy of the network on validation set: 80.75 %\n",
      "Epoch [31/100], Loss: 0.4116\n",
      "Accuracy of the network on training set: 81.2318 %\n",
      "Accuracy of the network on validation set: 80.94 %\n",
      "Epoch [32/100], Loss: 0.4170\n",
      "Accuracy of the network on training set: 81.2425 %\n",
      "Accuracy of the network on validation set: 80.94 %\n",
      "Epoch [33/100], Loss: 0.4724\n",
      "Accuracy of the network on training set: 81.2711 %\n",
      "Accuracy of the network on validation set: 80.98 %\n",
      "Epoch [34/100], Loss: 0.4598\n",
      "Accuracy of the network on training set: 81.1832 %\n",
      "Accuracy of the network on validation set: 80.89 %\n",
      "Epoch [35/100], Loss: 0.1042\n",
      "Accuracy of the network on training set: 98.9477 %\n",
      "Accuracy of the network on validation set: 98.94 %\n",
      "Epoch [36/100], Loss: 0.6946\n",
      "Accuracy of the network on training set: 42.0853 %\n",
      "Accuracy of the network on validation set: 42.06 %\n",
      "Epoch [37/100], Loss: 0.5031\n",
      "Accuracy of the network on training set: 81.0933 %\n",
      "Accuracy of the network on validation set: 80.83 %\n",
      "Epoch [38/100], Loss: 0.4371\n",
      "Accuracy of the network on training set: 81.1847 %\n",
      "Accuracy of the network on validation set: 80.88 %\n",
      "Epoch [39/100], Loss: 0.3963\n",
      "Accuracy of the network on training set: 81.1827 %\n",
      "Accuracy of the network on validation set: 80.88 %\n",
      "Epoch [40/100], Loss: 0.4179\n",
      "Accuracy of the network on training set: 81.1913 %\n",
      "Accuracy of the network on validation set: 80.9 %\n",
      "Epoch [41/100], Loss: 0.5508\n",
      "Accuracy of the network on training set: 80.3487 %\n",
      "Accuracy of the network on validation set: 80.07 %\n",
      "Epoch [42/100], Loss: 0.5251\n",
      "Accuracy of the network on training set: 81.0638 %\n",
      "Accuracy of the network on validation set: 80.77 %\n",
      "Epoch [43/100], Loss: 0.4144\n",
      "Accuracy of the network on training set: 81.0728 %\n",
      "Accuracy of the network on validation set: 80.79 %\n",
      "Epoch [44/100], Loss: 0.5570\n",
      "Accuracy of the network on training set: 81.0930 %\n",
      "Accuracy of the network on validation set: 80.82 %\n",
      "Epoch [45/100], Loss: 0.5640\n",
      "Accuracy of the network on training set: 81.0762 %\n",
      "Accuracy of the network on validation set: 80.79 %\n",
      "Epoch [46/100], Loss: 0.4187\n",
      "Accuracy of the network on training set: 81.0600 %\n",
      "Accuracy of the network on validation set: 80.78 %\n",
      "Epoch [47/100], Loss: 0.3815\n",
      "Accuracy of the network on training set: 81.1983 %\n",
      "Accuracy of the network on validation set: 80.92 %\n",
      "Epoch [48/100], Loss: 0.3395\n",
      "Accuracy of the network on training set: 81.0974 %\n",
      "Accuracy of the network on validation set: 80.82 %\n",
      "Epoch [49/100], Loss: 0.4505\n",
      "Accuracy of the network on training set: 81.0950 %\n",
      "Accuracy of the network on validation set: 80.79 %\n",
      "Epoch [50/100], Loss: 0.5068\n",
      "Accuracy of the network on training set: 81.2055 %\n",
      "Accuracy of the network on validation set: 80.9 %\n",
      "Epoch [51/100], Loss: 0.4581\n",
      "Accuracy of the network on training set: 81.1054 %\n",
      "Accuracy of the network on validation set: 80.82 %\n",
      "Epoch [52/100], Loss: 0.4862\n",
      "Accuracy of the network on training set: 81.1052 %\n",
      "Accuracy of the network on validation set: 80.82 %\n",
      "Epoch [53/100], Loss: 0.5072\n",
      "Accuracy of the network on training set: 81.1286 %\n",
      "Accuracy of the network on validation set: 80.85 %\n",
      "Epoch [54/100], Loss: 0.4483\n",
      "Accuracy of the network on training set: 81.2440 %\n",
      "Accuracy of the network on validation set: 80.94 %\n",
      "Epoch [55/100], Loss: 0.3213\n",
      "Accuracy of the network on training set: 83.2861 %\n",
      "Accuracy of the network on validation set: 83.02 %\n",
      "Epoch [56/100], Loss: 0.3901\n",
      "Accuracy of the network on training set: 83.6129 %\n",
      "Accuracy of the network on validation set: 83.34 %\n",
      "Epoch [57/100], Loss: 0.5030\n",
      "Accuracy of the network on training set: 83.4113 %\n",
      "Accuracy of the network on validation set: 83.14 %\n",
      "Epoch [58/100], Loss: 0.4304\n",
      "Accuracy of the network on training set: 80.5549 %\n",
      "Accuracy of the network on validation set: 80.26 %\n",
      "Epoch [59/100], Loss: 0.4358\n",
      "Accuracy of the network on training set: 83.2766 %\n",
      "Accuracy of the network on validation set: 83.06 %\n",
      "Epoch [60/100], Loss: 0.3693\n",
      "Accuracy of the network on training set: 83.3454 %\n",
      "Accuracy of the network on validation set: 83.11 %\n",
      "Epoch [61/100], Loss: 0.4241\n",
      "Accuracy of the network on training set: 83.4159 %\n",
      "Accuracy of the network on validation set: 83.18 %\n",
      "Epoch [62/100], Loss: 0.4106\n",
      "Accuracy of the network on training set: 83.7462 %\n",
      "Accuracy of the network on validation set: 83.49 %\n",
      "Epoch [63/100], Loss: 0.4020\n",
      "Accuracy of the network on training set: 80.3270 %\n",
      "Accuracy of the network on validation set: 80.1 %\n"
     ]
    },
    {
     "name": "stdout",
     "output_type": "stream",
     "text": [
      "Epoch [64/100], Loss: 0.4535\n",
      "Accuracy of the network on training set: 80.4875 %\n",
      "Accuracy of the network on validation set: 80.25 %\n",
      "Epoch [65/100], Loss: 0.5326\n",
      "Accuracy of the network on training set: 82.0201 %\n",
      "Accuracy of the network on validation set: 81.73 %\n",
      "Epoch [66/100], Loss: 0.4580\n",
      "Accuracy of the network on training set: 80.4936 %\n",
      "Accuracy of the network on validation set: 80.27 %\n",
      "Epoch [67/100], Loss: 0.6374\n",
      "Accuracy of the network on training set: 80.3845 %\n",
      "Accuracy of the network on validation set: 80.11 %\n",
      "Epoch [68/100], Loss: 0.3933\n",
      "Accuracy of the network on training set: 81.2176 %\n",
      "Accuracy of the network on validation set: 80.94 %\n",
      "Epoch [69/100], Loss: 0.5192\n",
      "Accuracy of the network on training set: 81.6228 %\n",
      "Accuracy of the network on validation set: 81.34 %\n",
      "Epoch [70/100], Loss: 0.5353\n",
      "Accuracy of the network on training set: 81.6265 %\n",
      "Accuracy of the network on validation set: 81.31 %\n",
      "Epoch [71/100], Loss: 0.4523\n",
      "Accuracy of the network on training set: 81.5832 %\n",
      "Accuracy of the network on validation set: 81.26 %\n",
      "Epoch [72/100], Loss: 0.4149\n",
      "Accuracy of the network on training set: 82.5114 %\n",
      "Accuracy of the network on validation set: 82.27 %\n",
      "Epoch [73/100], Loss: 0.4766\n",
      "Accuracy of the network on training set: 83.1965 %\n",
      "Accuracy of the network on validation set: 82.98 %\n",
      "Epoch [74/100], Loss: 0.5230\n",
      "Accuracy of the network on training set: 83.3168 %\n",
      "Accuracy of the network on validation set: 83.11 %\n",
      "Epoch [75/100], Loss: 0.4658\n",
      "Accuracy of the network on training set: 83.2005 %\n",
      "Accuracy of the network on validation set: 82.98 %\n",
      "Epoch [76/100], Loss: 0.4168\n",
      "Accuracy of the network on training set: 81.5381 %\n",
      "Accuracy of the network on validation set: 81.23 %\n",
      "Epoch [77/100], Loss: 0.4869\n",
      "Accuracy of the network on training set: 83.5076 %\n",
      "Accuracy of the network on validation set: 83.27 %\n",
      "Epoch [78/100], Loss: 0.5952\n",
      "Accuracy of the network on training set: 83.6580 %\n",
      "Accuracy of the network on validation set: 83.44 %\n",
      "Epoch [79/100], Loss: 0.4281\n",
      "Accuracy of the network on training set: 83.6837 %\n",
      "Accuracy of the network on validation set: 83.46 %\n",
      "Epoch [80/100], Loss: 0.4975\n",
      "Accuracy of the network on training set: 83.5652 %\n",
      "Accuracy of the network on validation set: 83.34 %\n",
      "Epoch [81/100], Loss: 0.4093\n",
      "Accuracy of the network on training set: 83.5594 %\n",
      "Accuracy of the network on validation set: 83.31 %\n",
      "Epoch [82/100], Loss: 0.4961\n",
      "Accuracy of the network on training set: 83.7222 %\n",
      "Accuracy of the network on validation set: 83.49 %\n",
      "Epoch [83/100], Loss: 0.3804\n",
      "Accuracy of the network on training set: 83.5897 %\n",
      "Accuracy of the network on validation set: 83.37 %\n",
      "Epoch [84/100], Loss: 0.5407\n",
      "Accuracy of the network on training set: 83.4547 %\n",
      "Accuracy of the network on validation set: 83.21 %\n",
      "Epoch [85/100], Loss: 0.5036\n",
      "Accuracy of the network on training set: 83.7022 %\n",
      "Accuracy of the network on validation set: 83.46 %\n",
      "Epoch [86/100], Loss: 0.4343\n",
      "Accuracy of the network on training set: 83.4504 %\n",
      "Accuracy of the network on validation set: 83.2 %\n",
      "Epoch [87/100], Loss: 0.4536\n",
      "Accuracy of the network on training set: 83.6372 %\n",
      "Accuracy of the network on validation set: 83.4 %\n",
      "Epoch [88/100], Loss: 0.3002\n",
      "Accuracy of the network on training set: 83.7453 %\n",
      "Accuracy of the network on validation set: 83.51 %\n",
      "Epoch [89/100], Loss: 0.5756\n",
      "Accuracy of the network on training set: 83.6068 %\n",
      "Accuracy of the network on validation set: 83.38 %\n",
      "Epoch [90/100], Loss: 0.4668\n",
      "Accuracy of the network on training set: 83.7502 %\n",
      "Accuracy of the network on validation set: 83.52 %\n",
      "Epoch [91/100], Loss: 0.5210\n",
      "Accuracy of the network on training set: 83.7210 %\n",
      "Accuracy of the network on validation set: 83.48 %\n",
      "Epoch [92/100], Loss: 0.4359\n",
      "Accuracy of the network on training set: 83.7442 %\n",
      "Accuracy of the network on validation set: 83.5 %\n",
      "Epoch [93/100], Loss: 0.4162\n",
      "Accuracy of the network on training set: 83.7476 %\n",
      "Accuracy of the network on validation set: 83.5 %\n",
      "Epoch [94/100], Loss: 0.4263\n",
      "Accuracy of the network on training set: 83.6583 %\n",
      "Accuracy of the network on validation set: 83.42 %\n",
      "Epoch [95/100], Loss: 0.3675\n",
      "Accuracy of the network on training set: 83.7615 %\n",
      "Accuracy of the network on validation set: 83.51 %\n",
      "Epoch [96/100], Loss: 0.4359\n",
      "Accuracy of the network on training set: 83.7887 %\n",
      "Accuracy of the network on validation set: 83.56 %\n",
      "Epoch [97/100], Loss: 0.4512\n",
      "Accuracy of the network on training set: 81.0644 %\n",
      "Accuracy of the network on validation set: 80.78 %\n",
      "Epoch [98/100], Loss: 0.5873\n",
      "Accuracy of the network on training set: 81.2150 %\n",
      "Accuracy of the network on validation set: 80.93 %\n",
      "Epoch [99/100], Loss: 0.5753\n",
      "Accuracy of the network on training set: 81.1517 %\n",
      "Accuracy of the network on validation set: 80.87 %\n",
      "Epoch [100/100], Loss: 0.5022\n",
      "Accuracy of the network on training set: 81.1749 %\n",
      "Accuracy of the network on validation set: 80.9 %\n"
     ]
    }
   ],
   "source": [
    "device = torch.device('cuda' if torch.cuda.is_available() else 'cpu')\n",
    "model = SimpleNetwork(input_size, hidden_size, num_classes).to(device)\n",
    "\n",
    "LEARNING_RATE = 0.01\n",
    "EPOCHS = 100\n",
    "\n",
    "# number of parameters in model is equal to number of hidden channels\n",
    "criterion = nn.CrossEntropyLoss()\n",
    "optimizer = torch.optim.SGD(model.parameters(), lr=LEARNING_RATE)  \n",
    "\n",
    "training_acc = []\n",
    "validation_acc = []\n",
    "losses = []\n",
    "n_total_steps = len(train_loader)\n",
    "\n",
    "for epoch in range(EPOCHS):\n",
    "    for i, (features, labels) in enumerate(train_loader):\n",
    "        \n",
    "        features = features.to(device)\n",
    "        labels = labels.to(device)\n",
    "        \n",
    "        # Forward pass\n",
    "        outputs = model(features.float())  \n",
    "        loss = criterion(outputs, labels)\n",
    "        \n",
    "        # Reset the gradients, backpropogate, optimize\n",
    "        optimizer.zero_grad()\n",
    "        loss.backward()  # backwards pass\n",
    "        optimizer.step()  # gradient descent\n",
    "        \n",
    "        if i == 0:\n",
    "            losses.append(loss.item())\n",
    "            print (f'Epoch [{epoch+1}/{EPOCHS}], Loss: {loss.item():.4f}')\n",
    "            # Compute train accuracy\n",
    "            with torch.no_grad():\n",
    "                n_correct = 0\n",
    "                n_samples = 0\n",
    "                for features, labels in train_loader:\n",
    "                    features = features.to(device)\n",
    "                    labels = labels.to(device)\n",
    "                    outputs = model(features.float())\n",
    "                    _, predicted = torch.max(outputs.data, 1)\n",
    "                    n_samples += labels.size(0)\n",
    "                    n_correct += (predicted == labels).sum().item()\n",
    "\n",
    "            train_acc = n_correct / n_samples\n",
    "\n",
    "            training_acc.append(train_acc)\n",
    "            print(f'Accuracy of the network on training set: {100*train_acc:.4f} %')\n",
    "            \n",
    "            with torch.no_grad():\n",
    "                n_correct = 0\n",
    "                n_samples = 0\n",
    "                for features, labels in val_loader:\n",
    "                    features = features.to(device)\n",
    "                    labels = labels.to(device)\n",
    "                    outputs = model(features.float())\n",
    "                    _, predicted = torch.max(outputs.data, 1)\n",
    "                    n_samples += labels.size(0)\n",
    "                    n_correct += (predicted == labels).sum().item()\n",
    "            \n",
    "            val_acc = n_correct / n_samples\n",
    "            validation_acc.append(val_acc)\n",
    "            print(f'Accuracy of the network on validation set: {100*val_acc:.4} %')\n",
    "\n"
   ]
  },
  {
   "cell_type": "markdown",
   "metadata": {
    "id": "j31M2YA4W-yk"
   },
   "source": [
    "Plot how the loss and the training accuracy and the validation accuracy change over the epochs. Is there a point where overfitting occurs? If you cannot spot one, answer no. "
   ]
  },
  {
   "cell_type": "code",
   "execution_count": 88,
   "metadata": {
    "id": "EiAD2opxW_gY"
   },
   "outputs": [
    {
     "data": {
      "image/png": "[encoded data removed]",
      "text/plain": [
       "<Figure size 720x216 with 2 Axes>"
      ]
     },
     "metadata": {
      "needs_background": "light"
     },
     "output_type": "display_data"
    }
   ],
   "source": [
    "import matplotlib.pyplot as plt\n",
    "\n",
    "fig, ax = plt.subplots(nrows=1, ncols=2, figsize=(10,3))\n",
    "ax[0].plot(range(EPOCHS), training_acc, label = \"Train Accuracy\")\n",
    "ax[0].plot(range(EPOCHS), validation_acc, label = \"Validation Accuracy\")\n",
    "ax[0].set_title('Training Accuracies')\n",
    "ax[1].plot(range(EPOCHS), losses)\n",
    "ax[1].set_title('Losses')\n",
    "fig.tight_layout()\n",
    "\n",
    "plt.show()"
   ]
  },
  {
   "cell_type": "markdown",
   "metadata": {},
   "source": [
    "It looks like there is point where overfitting occurs at roughly the 35th point, and as a result, the model's accuracy suffers immediately after. However, it is able to still converge back to a fairly consistent result"
   ]
  },
  {
   "cell_type": "markdown",
   "metadata": {
    "id": "pCRxAtjnXB55"
   },
   "source": [
    "### Part d \n",
    "Evaluate the model on the test dataset. Print out the accuracy. Does this accuracy agrees with the training accuracy showed on the plot?"
   ]
  },
  {
   "cell_type": "code",
   "execution_count": 89,
   "metadata": {
    "id": "uGAvfpWuXHLM"
   },
   "outputs": [
    {
     "name": "stdout",
     "output_type": "stream",
     "text": [
      "Accuracy of the network on test set: 81.0414452709883\n"
     ]
    }
   ],
   "source": [
    "def test(model, criterion, test_loader):\n",
    "    # Turn the model to testing mode (gradients will not be calculated)\n",
    "    model.eval()\n",
    "    test_loss = 0\n",
    "    correct = 0\n",
    "    with torch.no_grad():\n",
    "        for features, labels in test_loader:\n",
    "            features = features.to(device)\n",
    "            labels = labels.to(device)\n",
    "            outputs = model(features.float())\n",
    "            test_loss += criterion(outputs, labels).item()  # sum up batch loss\n",
    "            pred = outputs.argmax(dim=1, keepdim=True)  # get the index of the max log-probability\n",
    "            correct += pred.eq(labels.view_as(pred)).sum().item()\n",
    "            \n",
    "    print(f'Accuracy of the network on test set: {100 * correct / len(test_loader.dataset)}')\n",
    "    \n",
    "criterion = nn.CrossEntropyLoss()\n",
    "test(model, criterion, test_loader)\n"
   ]
  },
  {
   "cell_type": "markdown",
   "metadata": {},
   "source": [
    "Based on our results from the training data, the accuarcy here lines up."
   ]
  },
  {
   "cell_type": "markdown",
   "metadata": {
    "id": "fnF9NTStY73w"
   },
   "source": [
    "## Problem 2\n",
    "\n",
    "In this problem, we will investigate the effects of various common hyperparameters on the performance of a neural network. In the following cell, you can find a network class already defined for you. You can initiate network instances with different hyperparameters by changing the constructor's arguments.\n",
    "\n",
    "You are graded based on how you implement and execute the experiments. Since there is some randomness in initiating and training a neural network, there is no guarantee that you will get an expected result for an experiment or that your results should be similar to those of your peers. The expected outcome is that you execute the experiments correctly and the conclusion you get are consistent with your results. For each experiments, try to run the code multiple times and record the average results like what we did in Homework 2 (it will take some time to run, as expected when training any neural network)."
   ]
  },
  {
   "cell_type": "code",
   "execution_count": 21,
   "metadata": {
    "executionInfo": {
     "elapsed": 26623,
     "status": "ok",
     "timestamp": 1636073089521,
     "user": {
      "displayName": "Kha-Dinh Luong",
      "photoUrl": "https://lh3.googleusercontent.com/a/default-user=s64",
      "userId": "12651085651574501268"
     },
     "user_tz": 420
    },
    "id": "Gomk6vh0ZjQJ"
   },
   "outputs": [],
   "source": [
    "import torch\n",
    "import torch.nn as nn\n",
    "import torch.nn.functional as F\n",
    "\n",
    "class mnist_network(torch.nn.Module):\n",
    "    \n",
    "    def __init__(self, num_hidden_layers=1, layer_size = 100, activation=None):\n",
    "        super(mnist_network, self).__init__()\n",
    "        # layers of the network\n",
    "        self.num_hidden_layers = num_hidden_layers\n",
    "        self.layer_size = layer_size\n",
    "        self.activation = activation\n",
    "\n",
    "        if(self.activation == 'relu'):\n",
    "            self.activation = F.relu\n",
    "        elif(self.activation == 'tanh'):\n",
    "            self.activation = torch.tanh\n",
    "\n",
    "        self.layers = nn.ModuleList([nn.Linear(784,self.layer_size)])\n",
    "        for i in range(1, self.num_hidden_layers):\n",
    "            self.layers.append(nn.Linear(self.layer_size,self.layer_size))\n",
    "        self.layers.append(nn.Linear(self.layer_size,10))\n",
    "\n",
    "    def forward(self, x):\n",
    "        # converting each image into a vector\n",
    "        batch_size = x.shape[0]\n",
    "        x = x.reshape(batch_size,-1)\n",
    "        # rest of the forward pass \n",
    "        for i in range(self.num_hidden_layers+1):\n",
    "            x = self.layers[i](x)\n",
    "            if(self.activation is not None):\n",
    "                x = self.activation(x)\n",
    "        return x"
   ]
  },
  {
   "cell_type": "markdown",
   "metadata": {
    "id": "X0DVPRosZkSF"
   },
   "source": [
    "Run the following code to load the MNIST dataset. For the sake of simplicity, we do not have a validation set in this problem."
   ]
  },
  {
   "cell_type": "code",
   "execution_count": 22,
   "metadata": {
    "id": "eJ8_gdWvZtpU"
   },
   "outputs": [],
   "source": [
    "import torch\n",
    "from torchvision import datasets, transforms\n",
    "\n",
    "transform=transforms.Compose([\n",
    "        transforms.ToTensor(),\n",
    "        transforms.Normalize((0.1307,), (0.3081,))\n",
    "        ])\n",
    "\n",
    "dataset1 = datasets.MNIST('../data', train=True, download=True,\n",
    "                    transform=transform)\n",
    "dataset2 = datasets.MNIST('../data', train=False,\n",
    "                    transform=transform)\n",
    "\n",
    "# DataLoader is a nice tool provided by PyTorch for passing training or testing examples\n",
    "train_loader = torch.utils.data.DataLoader(dataset1, batch_size=64)\n",
    "test_loader = torch.utils.data.DataLoader(dataset2, batch_size=1000)"
   ]
  },
  {
   "cell_type": "markdown",
   "metadata": {
    "id": "HCTzQwi5GdRk"
   },
   "source": [
    "Here is an example of training and testing a model:"
   ]
  },
  {
   "cell_type": "code",
   "execution_count": 40,
   "metadata": {
    "id": "TaSecQQAoDHb",
    "scrolled": true
   },
   "outputs": [
    {
     "name": "stdout",
     "output_type": "stream",
     "text": [
      "Train Epoch: 1 [0/60000 (0%)]\tLoss: 2.312148\n",
      "Train Epoch: 1 [6400/60000 (11%)]\tLoss: 1.661013\n",
      "Train Epoch: 1 [12800/60000 (21%)]\tLoss: 1.153798\n",
      "Train Epoch: 1 [19200/60000 (32%)]\tLoss: 0.890773\n",
      "Train Epoch: 1 [25600/60000 (43%)]\tLoss: 0.601178\n",
      "Train Epoch: 1 [32000/60000 (53%)]\tLoss: 0.625142\n",
      "Train Epoch: 1 [38400/60000 (64%)]\tLoss: 0.615317\n",
      "Train Epoch: 1 [44800/60000 (75%)]\tLoss: 0.800792\n",
      "Train Epoch: 1 [51200/60000 (85%)]\tLoss: 0.657874\n",
      "Train Epoch: 1 [57600/60000 (96%)]\tLoss: 0.708585\n",
      "\n",
      "Test set: Average loss: 0.5738, Accuracy: 8494/10000 (85%)\n",
      "\n",
      "Train Epoch: 2 [0/60000 (0%)]\tLoss: 0.560406\n",
      "Train Epoch: 2 [6400/60000 (11%)]\tLoss: 0.346600\n",
      "Train Epoch: 2 [12800/60000 (21%)]\tLoss: 0.263422\n",
      "Train Epoch: 2 [19200/60000 (32%)]\tLoss: 0.404671\n",
      "Train Epoch: 2 [25600/60000 (43%)]\tLoss: 0.278740\n",
      "Train Epoch: 2 [32000/60000 (53%)]\tLoss: 0.366671\n",
      "Train Epoch: 2 [38400/60000 (64%)]\tLoss: 0.221094\n",
      "Train Epoch: 2 [44800/60000 (75%)]\tLoss: 0.428373\n",
      "Train Epoch: 2 [51200/60000 (85%)]\tLoss: 0.348852\n",
      "Train Epoch: 2 [57600/60000 (96%)]\tLoss: 0.437842\n",
      "\n",
      "Test set: Average loss: 0.3023, Accuracy: 9119/10000 (91%)\n",
      "\n",
      "Train Epoch: 3 [0/60000 (0%)]\tLoss: 0.201378\n",
      "Train Epoch: 3 [6400/60000 (11%)]\tLoss: 0.259739\n",
      "Train Epoch: 3 [12800/60000 (21%)]\tLoss: 0.195460\n",
      "Train Epoch: 3 [19200/60000 (32%)]\tLoss: 0.329895\n",
      "Train Epoch: 3 [25600/60000 (43%)]\tLoss: 0.216567\n",
      "Train Epoch: 3 [32000/60000 (53%)]\tLoss: 0.321375\n",
      "Train Epoch: 3 [38400/60000 (64%)]\tLoss: 0.194861\n",
      "Train Epoch: 3 [44800/60000 (75%)]\tLoss: 0.403567\n",
      "Train Epoch: 3 [51200/60000 (85%)]\tLoss: 0.313561\n",
      "Train Epoch: 3 [57600/60000 (96%)]\tLoss: 0.432743\n",
      "\n",
      "Test set: Average loss: 0.2783, Accuracy: 9190/10000 (92%)\n",
      "\n",
      "Train Epoch: 4 [0/60000 (0%)]\tLoss: 0.164790\n",
      "Train Epoch: 4 [6400/60000 (11%)]\tLoss: 0.240532\n",
      "Train Epoch: 4 [12800/60000 (21%)]\tLoss: 0.171940\n",
      "Train Epoch: 4 [19200/60000 (32%)]\tLoss: 0.292491\n",
      "Train Epoch: 4 [25600/60000 (43%)]\tLoss: 0.187159\n",
      "Train Epoch: 4 [32000/60000 (53%)]\tLoss: 0.299042\n",
      "Train Epoch: 4 [38400/60000 (64%)]\tLoss: 0.178126\n",
      "Train Epoch: 4 [44800/60000 (75%)]\tLoss: 0.389411\n",
      "Train Epoch: 4 [51200/60000 (85%)]\tLoss: 0.284042\n",
      "Train Epoch: 4 [57600/60000 (96%)]\tLoss: 0.414966\n",
      "\n",
      "Test set: Average loss: 0.2626, Accuracy: 9238/10000 (92%)\n",
      "\n",
      "Train Epoch: 5 [0/60000 (0%)]\tLoss: 0.143980\n",
      "Train Epoch: 5 [6400/60000 (11%)]\tLoss: 0.230140\n",
      "Train Epoch: 5 [12800/60000 (21%)]\tLoss: 0.159278\n",
      "Train Epoch: 5 [19200/60000 (32%)]\tLoss: 0.260374\n",
      "Train Epoch: 5 [25600/60000 (43%)]\tLoss: 0.167460\n",
      "Train Epoch: 5 [32000/60000 (53%)]\tLoss: 0.282735\n",
      "Train Epoch: 5 [38400/60000 (64%)]\tLoss: 0.163291\n",
      "Train Epoch: 5 [44800/60000 (75%)]\tLoss: 0.373959\n",
      "Train Epoch: 5 [51200/60000 (85%)]\tLoss: 0.258135\n",
      "Train Epoch: 5 [57600/60000 (96%)]\tLoss: 0.393625\n",
      "\n",
      "Test set: Average loss: 0.2491, Accuracy: 9261/10000 (93%)\n",
      "\n"
     ]
    }
   ],
   "source": [
    "import torch.nn as nn\n",
    "import torch.optim as optim\n",
    "import itertools\n",
    "\n",
    "def train(model, criterion, train_loader, optimizer, epoch):\n",
    "    # Turn the model to training mode (gradients will be calculated)\n",
    "    model.train()\n",
    "    for batch_idx, (data, target) in enumerate(train_loader):\n",
    "        # We have to call zero_grad() on the optimizer to remove gradients from the previous data pass.\n",
    "        # Otherwise, the gradients will be accumulated throughout many passes.\n",
    "        optimizer.zero_grad()\n",
    "        # Pass in the data and obtain the output.\n",
    "        # When you pass the data directly by calling model(data), the model will internally pass the data through the forward() function.\n",
    "        output = model(data)\n",
    "        # Compare the output and the ground truth and calculate the loss.\n",
    "        loss = criterion(output, target)\n",
    "        # From the calculated loss, call backward() to calculate the gradients for all the paramters in the network.\n",
    "        loss.backward()\n",
    "        # Update the parameters according to the gradients. \n",
    "        optimizer.step()\n",
    "        if batch_idx % 100 == 0:\n",
    "            print('Train Epoch: {} [{}/{} ({:.0f}%)]\\tLoss: {:.6f}'.format(\n",
    "                epoch, batch_idx * len(data), len(train_loader.dataset),\n",
    "                100. * batch_idx / len(train_loader), loss.item()))\n",
    "\n",
    "\n",
    "def test(model, criterion, test_loader):\n",
    "    # Turn the model to testing mode (gradients will not be calculated)\n",
    "    model.eval()\n",
    "    test_loss = 0\n",
    "    correct = 0\n",
    "    with torch.no_grad():\n",
    "        for data, target in test_loader:\n",
    "            output = model(data)\n",
    "            test_loss += criterion(output, target).item()  # sum up batch loss\n",
    "            pred = output.argmax(dim=1, keepdim=True)  # get the index of the max log-probability\n",
    "            correct += pred.eq(target.view_as(pred)).sum().item()\n",
    "    accuracy = 100. * correct / len(test_loader.dataset)\n",
    "    test_loss /= len(test_loader.dataset)\n",
    "\n",
    "    print('\\nTest set: Average loss: {:.4f}, Accuracy: {}/{} ({:.0f}%)\\n'.format(\n",
    "        test_loss, correct, len(test_loader.dataset),\n",
    "        100. * correct / len(test_loader.dataset)))\n",
    "    \n",
    "    return accuracy\n",
    "\n",
    "# Number of training epochs\n",
    "epochs = 5\n",
    "# Learning rate\n",
    "lr = 0.01\n",
    "\n",
    "# Create the model\n",
    "model = mnist_network(num_hidden_layers=1,layer_size=20,activation='relu')\n",
    "\n",
    "# Define the training and testing loss\n",
    "train_criterion = nn.CrossEntropyLoss()\n",
    "test_criterion = nn.CrossEntropyLoss(reduction='sum')\n",
    "\n",
    "# Define the optimizer\n",
    "# We have to specify the learning rate and the parameters that the optimizer should update during training.\n",
    "# In this case, we specify that the optimizer should update all the parameters from our model.\n",
    "optimizer = optim.SGD(model.parameters(),lr=lr)\n",
    "\n",
    "for epoch in range(1, epochs + 1):\n",
    "    # Training\n",
    "    train(model, train_criterion, train_loader, optimizer, epoch)\n",
    "    # Testing\n",
    "    test(model, test_criterion, test_loader)\n"
   ]
  },
  {
   "cell_type": "markdown",
   "metadata": {
    "id": "tnm5pgiLhBmM"
   },
   "source": [
    "## Part a"
   ]
  },
  {
   "cell_type": "markdown",
   "metadata": {
    "id": "spGF1F_NZvt1"
   },
   "source": [
    "First, we will investigate the effect of varying the size of the hidden layer. Create 3 one-hidden-layer networks with the sizes of the hidden layers being 5, 20, 50, respectively. We will call these the 5-network, the 20-network, and the 50-network. All networks should use ReLU activation."
   ]
  },
  {
   "cell_type": "markdown",
   "metadata": {
    "id": "mLDj0aMPaOP6"
   },
   "source": [
    "Train the 5-network on the MNIST dataset for 10 epochs with learning rate 0.001. After each epoch, record the current training accuracy of the network. "
   ]
  },
  {
   "cell_type": "code",
   "execution_count": 41,
   "metadata": {
    "id": "rFtFPtnOayqM",
    "scrolled": true
   },
   "outputs": [
    {
     "name": "stdout",
     "output_type": "stream",
     "text": [
      "Train Epoch: 1 [0/60000 (0%)]\tLoss: 2.321440\n",
      "Train Epoch: 1 [6400/60000 (11%)]\tLoss: 2.208445\n",
      "Train Epoch: 1 [12800/60000 (21%)]\tLoss: 2.209888\n",
      "Train Epoch: 1 [19200/60000 (32%)]\tLoss: 2.199331\n",
      "Train Epoch: 1 [25600/60000 (43%)]\tLoss: 1.964409\n",
      "Train Epoch: 1 [32000/60000 (53%)]\tLoss: 1.998427\n",
      "Train Epoch: 1 [38400/60000 (64%)]\tLoss: 2.061806\n",
      "Train Epoch: 1 [44800/60000 (75%)]\tLoss: 2.065061\n",
      "Train Epoch: 1 [51200/60000 (85%)]\tLoss: 2.017438\n",
      "Train Epoch: 1 [57600/60000 (96%)]\tLoss: 2.168442\n",
      "\n",
      "Test set: Average loss: 1.9569, Accuracy: 22724/60000 (38%)\n",
      "\n",
      "Train Epoch: 2 [0/60000 (0%)]\tLoss: 1.875798\n",
      "Train Epoch: 2 [6400/60000 (11%)]\tLoss: 1.841540\n",
      "Train Epoch: 2 [12800/60000 (21%)]\tLoss: 1.966337\n",
      "Train Epoch: 2 [19200/60000 (32%)]\tLoss: 1.961886\n",
      "Train Epoch: 2 [25600/60000 (43%)]\tLoss: 1.657763\n",
      "Train Epoch: 2 [32000/60000 (53%)]\tLoss: 1.735698\n",
      "Train Epoch: 2 [38400/60000 (64%)]\tLoss: 1.806366\n",
      "Train Epoch: 2 [44800/60000 (75%)]\tLoss: 1.913833\n",
      "Train Epoch: 2 [51200/60000 (85%)]\tLoss: 1.841156\n",
      "Train Epoch: 2 [57600/60000 (96%)]\tLoss: 1.993012\n",
      "\n",
      "Test set: Average loss: 1.7405, Accuracy: 25020/60000 (42%)\n",
      "\n",
      "Train Epoch: 3 [0/60000 (0%)]\tLoss: 1.595093\n",
      "Train Epoch: 3 [6400/60000 (11%)]\tLoss: 1.622040\n",
      "Train Epoch: 3 [12800/60000 (21%)]\tLoss: 1.774720\n",
      "Train Epoch: 3 [19200/60000 (32%)]\tLoss: 1.788640\n",
      "Train Epoch: 3 [25600/60000 (43%)]\tLoss: 1.467511\n",
      "Train Epoch: 3 [32000/60000 (53%)]\tLoss: 1.523957\n",
      "Train Epoch: 3 [38400/60000 (64%)]\tLoss: 1.610221\n",
      "Train Epoch: 3 [44800/60000 (75%)]\tLoss: 1.786236\n",
      "Train Epoch: 3 [51200/60000 (85%)]\tLoss: 1.711848\n",
      "Train Epoch: 3 [57600/60000 (96%)]\tLoss: 1.908397\n",
      "\n",
      "Test set: Average loss: 1.6107, Accuracy: 26327/60000 (44%)\n",
      "\n",
      "Train Epoch: 4 [0/60000 (0%)]\tLoss: 1.445289\n",
      "Train Epoch: 4 [6400/60000 (11%)]\tLoss: 1.504944\n",
      "Train Epoch: 4 [12800/60000 (21%)]\tLoss: 1.647934\n",
      "Train Epoch: 4 [19200/60000 (32%)]\tLoss: 1.706139\n",
      "Train Epoch: 4 [25600/60000 (43%)]\tLoss: 1.368004\n",
      "Train Epoch: 4 [32000/60000 (53%)]\tLoss: 1.414211\n",
      "Train Epoch: 4 [38400/60000 (64%)]\tLoss: 1.508293\n",
      "Train Epoch: 4 [44800/60000 (75%)]\tLoss: 1.696847\n",
      "Train Epoch: 4 [51200/60000 (85%)]\tLoss: 1.639622\n",
      "Train Epoch: 4 [57600/60000 (96%)]\tLoss: 1.865132\n",
      "\n",
      "Test set: Average loss: 1.5359, Accuracy: 27569/60000 (46%)\n",
      "\n",
      "Train Epoch: 5 [0/60000 (0%)]\tLoss: 1.366419\n",
      "Train Epoch: 5 [6400/60000 (11%)]\tLoss: 1.438758\n",
      "Train Epoch: 5 [12800/60000 (21%)]\tLoss: 1.561051\n",
      "Train Epoch: 5 [19200/60000 (32%)]\tLoss: 1.658328\n",
      "Train Epoch: 5 [25600/60000 (43%)]\tLoss: 1.306920\n",
      "Train Epoch: 5 [32000/60000 (53%)]\tLoss: 1.341393\n",
      "Train Epoch: 5 [38400/60000 (64%)]\tLoss: 1.447988\n",
      "Train Epoch: 5 [44800/60000 (75%)]\tLoss: 1.632639\n",
      "Train Epoch: 5 [51200/60000 (85%)]\tLoss: 1.592777\n",
      "Train Epoch: 5 [57600/60000 (96%)]\tLoss: 1.835964\n",
      "\n",
      "Test set: Average loss: 1.4850, Accuracy: 28724/60000 (48%)\n",
      "\n",
      "Train Epoch: 6 [0/60000 (0%)]\tLoss: 1.314261\n",
      "Train Epoch: 6 [6400/60000 (11%)]\tLoss: 1.392637\n",
      "Train Epoch: 6 [12800/60000 (21%)]\tLoss: 1.494554\n",
      "Train Epoch: 6 [19200/60000 (32%)]\tLoss: 1.626842\n",
      "Train Epoch: 6 [25600/60000 (43%)]\tLoss: 1.261460\n",
      "Train Epoch: 6 [32000/60000 (53%)]\tLoss: 1.292435\n",
      "Train Epoch: 6 [38400/60000 (64%)]\tLoss: 1.408106\n",
      "Train Epoch: 6 [44800/60000 (75%)]\tLoss: 1.585056\n",
      "Train Epoch: 6 [51200/60000 (85%)]\tLoss: 1.561042\n",
      "Train Epoch: 6 [57600/60000 (96%)]\tLoss: 1.813286\n",
      "\n",
      "Test set: Average loss: 1.4467, Accuracy: 29744/60000 (50%)\n",
      "\n",
      "Train Epoch: 7 [0/60000 (0%)]\tLoss: 1.273937\n",
      "Train Epoch: 7 [6400/60000 (11%)]\tLoss: 1.357681\n",
      "Train Epoch: 7 [12800/60000 (21%)]\tLoss: 1.441472\n",
      "Train Epoch: 7 [19200/60000 (32%)]\tLoss: 1.602588\n",
      "Train Epoch: 7 [25600/60000 (43%)]\tLoss: 1.224352\n",
      "Train Epoch: 7 [32000/60000 (53%)]\tLoss: 1.257230\n",
      "Train Epoch: 7 [38400/60000 (64%)]\tLoss: 1.381082\n",
      "Train Epoch: 7 [44800/60000 (75%)]\tLoss: 1.548830\n",
      "Train Epoch: 7 [51200/60000 (85%)]\tLoss: 1.536857\n",
      "Train Epoch: 7 [57600/60000 (96%)]\tLoss: 1.794150\n",
      "\n",
      "Test set: Average loss: 1.4165, Accuracy: 30452/60000 (51%)\n",
      "\n",
      "Train Epoch: 8 [0/60000 (0%)]\tLoss: 1.240835\n",
      "Train Epoch: 8 [6400/60000 (11%)]\tLoss: 1.331462\n",
      "Train Epoch: 8 [12800/60000 (21%)]\tLoss: 1.397474\n",
      "Train Epoch: 8 [19200/60000 (32%)]\tLoss: 1.583604\n",
      "Train Epoch: 8 [25600/60000 (43%)]\tLoss: 1.194715\n",
      "Train Epoch: 8 [32000/60000 (53%)]\tLoss: 1.230296\n",
      "Train Epoch: 8 [38400/60000 (64%)]\tLoss: 1.361830\n",
      "Train Epoch: 8 [44800/60000 (75%)]\tLoss: 1.519452\n",
      "Train Epoch: 8 [51200/60000 (85%)]\tLoss: 1.518716\n",
      "Train Epoch: 8 [57600/60000 (96%)]\tLoss: 1.778399\n",
      "\n",
      "Test set: Average loss: 1.3922, Accuracy: 30887/60000 (51%)\n",
      "\n",
      "Train Epoch: 9 [0/60000 (0%)]\tLoss: 1.213635\n",
      "Train Epoch: 9 [6400/60000 (11%)]\tLoss: 1.311694\n",
      "Train Epoch: 9 [12800/60000 (21%)]\tLoss: 1.360272\n",
      "Train Epoch: 9 [19200/60000 (32%)]\tLoss: 1.568353\n",
      "Train Epoch: 9 [25600/60000 (43%)]\tLoss: 1.171842\n",
      "Train Epoch: 9 [32000/60000 (53%)]\tLoss: 1.209202\n",
      "Train Epoch: 9 [38400/60000 (64%)]\tLoss: 1.348386\n",
      "Train Epoch: 9 [44800/60000 (75%)]\tLoss: 1.495468\n",
      "Train Epoch: 9 [51200/60000 (85%)]\tLoss: 1.504374\n",
      "Train Epoch: 9 [57600/60000 (96%)]\tLoss: 1.764977\n",
      "\n",
      "Test set: Average loss: 1.3724, Accuracy: 31155/60000 (52%)\n",
      "\n",
      "Train Epoch: 10 [0/60000 (0%)]\tLoss: 1.191072\n",
      "Train Epoch: 10 [6400/60000 (11%)]\tLoss: 1.298062\n",
      "Train Epoch: 10 [12800/60000 (21%)]\tLoss: 1.329031\n",
      "Train Epoch: 10 [19200/60000 (32%)]\tLoss: 1.555923\n",
      "Train Epoch: 10 [25600/60000 (43%)]\tLoss: 1.155095\n",
      "Train Epoch: 10 [32000/60000 (53%)]\tLoss: 1.191846\n",
      "Train Epoch: 10 [38400/60000 (64%)]\tLoss: 1.338663\n",
      "Train Epoch: 10 [44800/60000 (75%)]\tLoss: 1.475884\n",
      "Train Epoch: 10 [51200/60000 (85%)]\tLoss: 1.492763\n",
      "Train Epoch: 10 [57600/60000 (96%)]\tLoss: 1.754420\n",
      "\n",
      "Test set: Average loss: 1.3561, Accuracy: 31408/60000 (52%)\n",
      "\n"
     ]
    }
   ],
   "source": [
    "# Number of training epochs\n",
    "epochs = 10\n",
    "# Learning rate\n",
    "lr = 0.001\n",
    "\n",
    "# Create the model\n",
    "model_5 = mnist_network(num_hidden_layers=1,layer_size=5,activation='relu')\n",
    "\n",
    "# Define the training and testing loss\n",
    "train_criterion = nn.CrossEntropyLoss()\n",
    "test_criterion = nn.CrossEntropyLoss(reduction='sum')\n",
    "\n",
    "# Define the optimizer\n",
    "# We have to specify the learning rate and the parameters that the optimizer should update during training.\n",
    "# In this case, we specify that the optimizer should update all the parameters from our model.\n",
    "optimizer = optim.SGD(model_5.parameters(),lr=lr)\n",
    "\n",
    "train_5 = []\n",
    "\n",
    "for epoch in range(1, epochs + 1):\n",
    "        # Training\n",
    "        train(model_5, train_criterion, train_loader, optimizer, epoch)\n",
    "        # Testing\n",
    "        train_5.append(test(model_5, test_criterion, train_loader))"
   ]
  },
  {
   "cell_type": "markdown",
   "metadata": {
    "id": "ShqrwsCjazpB"
   },
   "source": [
    "Test the trained 5-network on the test data. Print out the accuracy."
   ]
  },
  {
   "cell_type": "code",
   "execution_count": 42,
   "metadata": {
    "id": "DUbHZYLxa5yw"
   },
   "outputs": [
    {
     "name": "stdout",
     "output_type": "stream",
     "text": [
      "\n",
      "Test set: Average loss: 1.3408, Accuracy: 5252/10000 (53%)\n",
      "\n"
     ]
    },
    {
     "data": {
      "text/plain": [
       "52.52"
      ]
     },
     "execution_count": 42,
     "metadata": {},
     "output_type": "execute_result"
    }
   ],
   "source": [
    "test(model_5, test_criterion, test_loader)"
   ]
  },
  {
   "cell_type": "markdown",
   "metadata": {
    "id": "b39B1xD9bhez"
   },
   "source": [
    "Train the 20-network on the MNIST dataset for 10 epochs with learning rate 0.001. After each epoch, record the current training accuracy of the network. "
   ]
  },
  {
   "cell_type": "code",
   "execution_count": 43,
   "metadata": {
    "id": "yKUZhq6lbfvB"
   },
   "outputs": [
    {
     "name": "stdout",
     "output_type": "stream",
     "text": [
      "Train Epoch: 1 [0/60000 (0%)]\tLoss: 2.317551\n",
      "Train Epoch: 1 [6400/60000 (11%)]\tLoss: 2.228011\n",
      "Train Epoch: 1 [12800/60000 (21%)]\tLoss: 2.240905\n",
      "Train Epoch: 1 [19200/60000 (32%)]\tLoss: 2.129658\n",
      "Train Epoch: 1 [25600/60000 (43%)]\tLoss: 2.076414\n",
      "Train Epoch: 1 [32000/60000 (53%)]\tLoss: 2.021779\n",
      "Train Epoch: 1 [38400/60000 (64%)]\tLoss: 1.940824\n",
      "Train Epoch: 1 [44800/60000 (75%)]\tLoss: 2.206467\n",
      "Train Epoch: 1 [51200/60000 (85%)]\tLoss: 1.881568\n",
      "Train Epoch: 1 [57600/60000 (96%)]\tLoss: 1.686215\n",
      "\n",
      "Test set: Average loss: 1.7618, Accuracy: 29224/60000 (49%)\n",
      "\n",
      "Train Epoch: 2 [0/60000 (0%)]\tLoss: 1.756814\n",
      "Train Epoch: 2 [6400/60000 (11%)]\tLoss: 1.633259\n",
      "Train Epoch: 2 [12800/60000 (21%)]\tLoss: 1.617725\n",
      "Train Epoch: 2 [19200/60000 (32%)]\tLoss: 1.500919\n",
      "Train Epoch: 2 [25600/60000 (43%)]\tLoss: 1.376581\n",
      "Train Epoch: 2 [32000/60000 (53%)]\tLoss: 1.399405\n",
      "Train Epoch: 2 [38400/60000 (64%)]\tLoss: 1.417740\n",
      "Train Epoch: 2 [44800/60000 (75%)]\tLoss: 1.695238\n",
      "Train Epoch: 2 [51200/60000 (85%)]\tLoss: 1.391897\n",
      "Train Epoch: 2 [57600/60000 (96%)]\tLoss: 1.231258\n",
      "\n",
      "Test set: Average loss: 1.3073, Accuracy: 37845/60000 (63%)\n",
      "\n",
      "Train Epoch: 3 [0/60000 (0%)]\tLoss: 1.347686\n",
      "Train Epoch: 3 [6400/60000 (11%)]\tLoss: 1.257826\n",
      "Train Epoch: 3 [12800/60000 (21%)]\tLoss: 1.144017\n",
      "Train Epoch: 3 [19200/60000 (32%)]\tLoss: 1.200168\n",
      "Train Epoch: 3 [25600/60000 (43%)]\tLoss: 1.031729\n",
      "Train Epoch: 3 [32000/60000 (53%)]\tLoss: 1.119624\n",
      "Train Epoch: 3 [38400/60000 (64%)]\tLoss: 1.194929\n",
      "Train Epoch: 3 [44800/60000 (75%)]\tLoss: 1.426228\n",
      "Train Epoch: 3 [51200/60000 (85%)]\tLoss: 1.201401\n",
      "Train Epoch: 3 [57600/60000 (96%)]\tLoss: 1.064206\n",
      "\n",
      "Test set: Average loss: 1.1284, Accuracy: 39874/60000 (66%)\n",
      "\n",
      "Train Epoch: 4 [0/60000 (0%)]\tLoss: 1.163255\n",
      "Train Epoch: 4 [6400/60000 (11%)]\tLoss: 1.096178\n",
      "Train Epoch: 4 [12800/60000 (21%)]\tLoss: 0.941166\n",
      "Train Epoch: 4 [19200/60000 (32%)]\tLoss: 1.068254\n",
      "Train Epoch: 4 [25600/60000 (43%)]\tLoss: 0.882248\n",
      "Train Epoch: 4 [32000/60000 (53%)]\tLoss: 0.991922\n",
      "Train Epoch: 4 [38400/60000 (64%)]\tLoss: 1.078296\n",
      "Train Epoch: 4 [44800/60000 (75%)]\tLoss: 1.291503\n",
      "Train Epoch: 4 [51200/60000 (85%)]\tLoss: 1.092905\n",
      "Train Epoch: 4 [57600/60000 (96%)]\tLoss: 0.972041\n",
      "\n",
      "Test set: Average loss: 1.0271, Accuracy: 40855/60000 (68%)\n",
      "\n",
      "Train Epoch: 5 [0/60000 (0%)]\tLoss: 1.044743\n",
      "Train Epoch: 5 [6400/60000 (11%)]\tLoss: 0.998121\n",
      "Train Epoch: 5 [12800/60000 (21%)]\tLoss: 0.823461\n",
      "Train Epoch: 5 [19200/60000 (32%)]\tLoss: 0.984143\n",
      "Train Epoch: 5 [25600/60000 (43%)]\tLoss: 0.790498\n",
      "Train Epoch: 5 [32000/60000 (53%)]\tLoss: 0.913644\n",
      "Train Epoch: 5 [38400/60000 (64%)]\tLoss: 1.003321\n",
      "Train Epoch: 5 [44800/60000 (75%)]\tLoss: 1.204571\n",
      "Train Epoch: 5 [51200/60000 (85%)]\tLoss: 1.013789\n",
      "Train Epoch: 5 [57600/60000 (96%)]\tLoss: 0.908981\n",
      "\n",
      "Test set: Average loss: 0.9577, Accuracy: 41634/60000 (69%)\n",
      "\n",
      "Train Epoch: 6 [0/60000 (0%)]\tLoss: 0.957021\n",
      "Train Epoch: 6 [6400/60000 (11%)]\tLoss: 0.930360\n",
      "Train Epoch: 6 [12800/60000 (21%)]\tLoss: 0.745000\n",
      "Train Epoch: 6 [19200/60000 (32%)]\tLoss: 0.922439\n",
      "Train Epoch: 6 [25600/60000 (43%)]\tLoss: 0.728423\n",
      "Train Epoch: 6 [32000/60000 (53%)]\tLoss: 0.862371\n",
      "Train Epoch: 6 [38400/60000 (64%)]\tLoss: 0.946467\n",
      "Train Epoch: 6 [44800/60000 (75%)]\tLoss: 1.143029\n",
      "Train Epoch: 6 [51200/60000 (85%)]\tLoss: 0.956005\n",
      "Train Epoch: 6 [57600/60000 (96%)]\tLoss: 0.864212\n",
      "\n",
      "Test set: Average loss: 0.9089, Accuracy: 42818/60000 (71%)\n",
      "\n",
      "Train Epoch: 7 [0/60000 (0%)]\tLoss: 0.893874\n",
      "Train Epoch: 7 [6400/60000 (11%)]\tLoss: 0.886713\n",
      "Train Epoch: 7 [12800/60000 (21%)]\tLoss: 0.689993\n",
      "Train Epoch: 7 [19200/60000 (32%)]\tLoss: 0.881252\n",
      "Train Epoch: 7 [25600/60000 (43%)]\tLoss: 0.686079\n",
      "Train Epoch: 7 [32000/60000 (53%)]\tLoss: 0.828426\n",
      "Train Epoch: 7 [38400/60000 (64%)]\tLoss: 0.907147\n",
      "Train Epoch: 7 [44800/60000 (75%)]\tLoss: 1.097515\n",
      "Train Epoch: 7 [51200/60000 (85%)]\tLoss: 0.913405\n",
      "Train Epoch: 7 [57600/60000 (96%)]\tLoss: 0.831053\n",
      "\n",
      "Test set: Average loss: 0.8737, Accuracy: 43894/60000 (73%)\n",
      "\n",
      "Train Epoch: 8 [0/60000 (0%)]\tLoss: 0.846168\n",
      "Train Epoch: 8 [6400/60000 (11%)]\tLoss: 0.857395\n",
      "Train Epoch: 8 [12800/60000 (21%)]\tLoss: 0.650536\n",
      "Train Epoch: 8 [19200/60000 (32%)]\tLoss: 0.851669\n",
      "Train Epoch: 8 [25600/60000 (43%)]\tLoss: 0.656288\n",
      "Train Epoch: 8 [32000/60000 (53%)]\tLoss: 0.805344\n",
      "Train Epoch: 8 [38400/60000 (64%)]\tLoss: 0.879373\n",
      "Train Epoch: 8 [44800/60000 (75%)]\tLoss: 1.062770\n",
      "Train Epoch: 8 [51200/60000 (85%)]\tLoss: 0.881151\n",
      "Train Epoch: 8 [57600/60000 (96%)]\tLoss: 0.806592\n",
      "\n",
      "Test set: Average loss: 0.8475, Accuracy: 44695/60000 (74%)\n",
      "\n",
      "Train Epoch: 9 [0/60000 (0%)]\tLoss: 0.809421\n",
      "Train Epoch: 9 [6400/60000 (11%)]\tLoss: 0.835507\n",
      "Train Epoch: 9 [12800/60000 (21%)]\tLoss: 0.620108\n",
      "Train Epoch: 9 [19200/60000 (32%)]\tLoss: 0.829331\n",
      "Train Epoch: 9 [25600/60000 (43%)]\tLoss: 0.634724\n",
      "Train Epoch: 9 [32000/60000 (53%)]\tLoss: 0.788642\n",
      "Train Epoch: 9 [38400/60000 (64%)]\tLoss: 0.857706\n",
      "Train Epoch: 9 [44800/60000 (75%)]\tLoss: 1.035580\n",
      "Train Epoch: 9 [51200/60000 (85%)]\tLoss: 0.856389\n",
      "Train Epoch: 9 [57600/60000 (96%)]\tLoss: 0.788387\n",
      "\n",
      "Test set: Average loss: 0.8272, Accuracy: 45331/60000 (76%)\n",
      "\n",
      "Train Epoch: 10 [0/60000 (0%)]\tLoss: 0.780313\n",
      "Train Epoch: 10 [6400/60000 (11%)]\tLoss: 0.819248\n",
      "Train Epoch: 10 [12800/60000 (21%)]\tLoss: 0.596329\n",
      "Train Epoch: 10 [19200/60000 (32%)]\tLoss: 0.811330\n",
      "Train Epoch: 10 [25600/60000 (43%)]\tLoss: 0.618445\n",
      "Train Epoch: 10 [32000/60000 (53%)]\tLoss: 0.776778\n",
      "Train Epoch: 10 [38400/60000 (64%)]\tLoss: 0.839723\n",
      "Train Epoch: 10 [44800/60000 (75%)]\tLoss: 1.013773\n",
      "Train Epoch: 10 [51200/60000 (85%)]\tLoss: 0.837873\n",
      "Train Epoch: 10 [57600/60000 (96%)]\tLoss: 0.774376\n",
      "\n",
      "Test set: Average loss: 0.8110, Accuracy: 45830/60000 (76%)\n",
      "\n"
     ]
    }
   ],
   "source": [
    "model_20 = mnist_network(num_hidden_layers=1,layer_size=20,activation='relu')\n",
    "optimizer = optim.SGD(model_20.parameters(),lr=lr)\n",
    "\n",
    "train_20 = []\n",
    "\n",
    "for epoch in range(1, epochs + 1):\n",
    "        # Training\n",
    "        train(model_20, train_criterion, train_loader, optimizer, epoch)\n",
    "        # Testing\n",
    "        train_20.append(test(model_20, test_criterion, train_loader))"
   ]
  },
  {
   "cell_type": "markdown",
   "metadata": {
    "id": "lqezVf-ybfVR"
   },
   "source": [
    "Test the trained 20-network on the test data. Print out the accuracy."
   ]
  },
  {
   "cell_type": "code",
   "execution_count": 44,
   "metadata": {
    "id": "1JwFDxuubeki"
   },
   "outputs": [
    {
     "name": "stdout",
     "output_type": "stream",
     "text": [
      "\n",
      "Test set: Average loss: 0.7815, Accuracy: 7730/10000 (77%)\n",
      "\n"
     ]
    },
    {
     "data": {
      "text/plain": [
       "77.3"
      ]
     },
     "execution_count": 44,
     "metadata": {},
     "output_type": "execute_result"
    }
   ],
   "source": [
    "test(model_20, test_criterion, test_loader)"
   ]
  },
  {
   "cell_type": "markdown",
   "metadata": {
    "id": "TYFzQ_AObdp0"
   },
   "source": [
    "Train the 50-network on the MNIST dataset for 10 epochs with learning rate 0.001. After each epoch, record the current training accuracy of the network. "
   ]
  },
  {
   "cell_type": "code",
   "execution_count": 45,
   "metadata": {
    "id": "FpQiI7o-bzdv"
   },
   "outputs": [
    {
     "name": "stdout",
     "output_type": "stream",
     "text": [
      "Train Epoch: 1 [0/60000 (0%)]\tLoss: 2.298186\n",
      "Train Epoch: 1 [6400/60000 (11%)]\tLoss: 2.266451\n",
      "Train Epoch: 1 [12800/60000 (21%)]\tLoss: 2.189259\n",
      "Train Epoch: 1 [19200/60000 (32%)]\tLoss: 2.049706\n",
      "Train Epoch: 1 [25600/60000 (43%)]\tLoss: 2.027826\n",
      "Train Epoch: 1 [32000/60000 (53%)]\tLoss: 1.910260\n",
      "Train Epoch: 1 [38400/60000 (64%)]\tLoss: 1.848434\n",
      "Train Epoch: 1 [44800/60000 (75%)]\tLoss: 1.915681\n",
      "Train Epoch: 1 [51200/60000 (85%)]\tLoss: 1.741885\n",
      "Train Epoch: 1 [57600/60000 (96%)]\tLoss: 1.581292\n",
      "\n",
      "Test set: Average loss: 1.5920, Accuracy: 34350/60000 (57%)\n",
      "\n",
      "Train Epoch: 2 [0/60000 (0%)]\tLoss: 1.628133\n",
      "Train Epoch: 2 [6400/60000 (11%)]\tLoss: 1.541206\n",
      "Train Epoch: 2 [12800/60000 (21%)]\tLoss: 1.418858\n",
      "Train Epoch: 2 [19200/60000 (32%)]\tLoss: 1.353191\n",
      "Train Epoch: 2 [25600/60000 (43%)]\tLoss: 1.233823\n",
      "Train Epoch: 2 [32000/60000 (53%)]\tLoss: 1.278089\n",
      "Train Epoch: 2 [38400/60000 (64%)]\tLoss: 1.314813\n",
      "Train Epoch: 2 [44800/60000 (75%)]\tLoss: 1.413110\n",
      "Train Epoch: 2 [51200/60000 (85%)]\tLoss: 1.310634\n",
      "Train Epoch: 2 [57600/60000 (96%)]\tLoss: 1.116786\n",
      "\n",
      "Test set: Average loss: 1.1994, Accuracy: 39641/60000 (66%)\n",
      "\n",
      "Train Epoch: 3 [0/60000 (0%)]\tLoss: 1.258184\n",
      "Train Epoch: 3 [6400/60000 (11%)]\tLoss: 1.198323\n",
      "Train Epoch: 3 [12800/60000 (21%)]\tLoss: 1.021117\n",
      "Train Epoch: 3 [19200/60000 (32%)]\tLoss: 1.089432\n",
      "Train Epoch: 3 [25600/60000 (43%)]\tLoss: 0.936937\n",
      "Train Epoch: 3 [32000/60000 (53%)]\tLoss: 1.037165\n",
      "Train Epoch: 3 [38400/60000 (64%)]\tLoss: 1.089594\n",
      "Train Epoch: 3 [44800/60000 (75%)]\tLoss: 1.202116\n",
      "Train Epoch: 3 [51200/60000 (85%)]\tLoss: 1.127207\n",
      "Train Epoch: 3 [57600/60000 (96%)]\tLoss: 0.949338\n",
      "\n",
      "Test set: Average loss: 1.0377, Accuracy: 41147/60000 (69%)\n",
      "\n",
      "Train Epoch: 4 [0/60000 (0%)]\tLoss: 1.078277\n",
      "Train Epoch: 4 [6400/60000 (11%)]\tLoss: 1.048785\n",
      "Train Epoch: 4 [12800/60000 (21%)]\tLoss: 0.849161\n",
      "Train Epoch: 4 [19200/60000 (32%)]\tLoss: 0.976227\n",
      "Train Epoch: 4 [25600/60000 (43%)]\tLoss: 0.805352\n",
      "Train Epoch: 4 [32000/60000 (53%)]\tLoss: 0.923850\n",
      "Train Epoch: 4 [38400/60000 (64%)]\tLoss: 0.976337\n",
      "Train Epoch: 4 [44800/60000 (75%)]\tLoss: 1.099885\n",
      "Train Epoch: 4 [51200/60000 (85%)]\tLoss: 1.025159\n",
      "Train Epoch: 4 [57600/60000 (96%)]\tLoss: 0.864643\n",
      "\n",
      "Test set: Average loss: 0.9517, Accuracy: 42549/60000 (71%)\n",
      "\n",
      "Train Epoch: 5 [0/60000 (0%)]\tLoss: 0.973912\n",
      "Train Epoch: 5 [6400/60000 (11%)]\tLoss: 0.966628\n",
      "Train Epoch: 5 [12800/60000 (21%)]\tLoss: 0.753371\n",
      "Train Epoch: 5 [19200/60000 (32%)]\tLoss: 0.913916\n",
      "Train Epoch: 5 [25600/60000 (43%)]\tLoss: 0.730780\n",
      "Train Epoch: 5 [32000/60000 (53%)]\tLoss: 0.861041\n",
      "Train Epoch: 5 [38400/60000 (64%)]\tLoss: 0.912786\n",
      "Train Epoch: 5 [44800/60000 (75%)]\tLoss: 1.039184\n",
      "Train Epoch: 5 [51200/60000 (85%)]\tLoss: 0.958342\n",
      "Train Epoch: 5 [57600/60000 (96%)]\tLoss: 0.812257\n",
      "\n",
      "Test set: Average loss: 0.8994, Accuracy: 43665/60000 (73%)\n",
      "\n",
      "Train Epoch: 6 [0/60000 (0%)]\tLoss: 0.906911\n",
      "Train Epoch: 6 [6400/60000 (11%)]\tLoss: 0.915169\n",
      "Train Epoch: 6 [12800/60000 (21%)]\tLoss: 0.693767\n",
      "Train Epoch: 6 [19200/60000 (32%)]\tLoss: 0.873584\n",
      "Train Epoch: 6 [25600/60000 (43%)]\tLoss: 0.682414\n",
      "Train Epoch: 6 [32000/60000 (53%)]\tLoss: 0.824000\n",
      "Train Epoch: 6 [38400/60000 (64%)]\tLoss: 0.871938\n",
      "Train Epoch: 6 [44800/60000 (75%)]\tLoss: 1.000326\n",
      "Train Epoch: 6 [51200/60000 (85%)]\tLoss: 0.912071\n",
      "Train Epoch: 6 [57600/60000 (96%)]\tLoss: 0.778144\n",
      "\n",
      "Test set: Average loss: 0.8642, Accuracy: 44488/60000 (74%)\n",
      "\n",
      "Train Epoch: 7 [0/60000 (0%)]\tLoss: 0.860060\n",
      "Train Epoch: 7 [6400/60000 (11%)]\tLoss: 0.879856\n",
      "Train Epoch: 7 [12800/60000 (21%)]\tLoss: 0.652376\n",
      "Train Epoch: 7 [19200/60000 (32%)]\tLoss: 0.845697\n",
      "Train Epoch: 7 [25600/60000 (43%)]\tLoss: 0.649507\n",
      "Train Epoch: 7 [32000/60000 (53%)]\tLoss: 0.799385\n",
      "Train Epoch: 7 [38400/60000 (64%)]\tLoss: 0.842351\n",
      "Train Epoch: 7 [44800/60000 (75%)]\tLoss: 0.973335\n",
      "Train Epoch: 7 [51200/60000 (85%)]\tLoss: 0.877140\n",
      "Train Epoch: 7 [57600/60000 (96%)]\tLoss: 0.755018\n",
      "\n",
      "Test set: Average loss: 0.8387, Accuracy: 45109/60000 (75%)\n",
      "\n",
      "Train Epoch: 8 [0/60000 (0%)]\tLoss: 0.824947\n",
      "Train Epoch: 8 [6400/60000 (11%)]\tLoss: 0.855702\n",
      "Train Epoch: 8 [12800/60000 (21%)]\tLoss: 0.621496\n",
      "Train Epoch: 8 [19200/60000 (32%)]\tLoss: 0.825064\n",
      "Train Epoch: 8 [25600/60000 (43%)]\tLoss: 0.626086\n",
      "Train Epoch: 8 [32000/60000 (53%)]\tLoss: 0.782028\n",
      "Train Epoch: 8 [38400/60000 (64%)]\tLoss: 0.820530\n",
      "Train Epoch: 8 [44800/60000 (75%)]\tLoss: 0.953454\n",
      "Train Epoch: 8 [51200/60000 (85%)]\tLoss: 0.848978\n",
      "Train Epoch: 8 [57600/60000 (96%)]\tLoss: 0.738381\n",
      "\n",
      "Test set: Average loss: 0.8190, Accuracy: 45576/60000 (76%)\n",
      "\n",
      "Train Epoch: 9 [0/60000 (0%)]\tLoss: 0.797276\n",
      "Train Epoch: 9 [6400/60000 (11%)]\tLoss: 0.837142\n",
      "Train Epoch: 9 [12800/60000 (21%)]\tLoss: 0.596835\n",
      "Train Epoch: 9 [19200/60000 (32%)]\tLoss: 0.808428\n",
      "Train Epoch: 9 [25600/60000 (43%)]\tLoss: 0.608451\n",
      "Train Epoch: 9 [32000/60000 (53%)]\tLoss: 0.768819\n",
      "Train Epoch: 9 [38400/60000 (64%)]\tLoss: 0.803843\n",
      "Train Epoch: 9 [44800/60000 (75%)]\tLoss: 0.937671\n",
      "Train Epoch: 9 [51200/60000 (85%)]\tLoss: 0.825218\n",
      "Train Epoch: 9 [57600/60000 (96%)]\tLoss: 0.726467\n",
      "\n",
      "Test set: Average loss: 0.8032, Accuracy: 45973/60000 (77%)\n",
      "\n",
      "Train Epoch: 10 [0/60000 (0%)]\tLoss: 0.775361\n",
      "Train Epoch: 10 [6400/60000 (11%)]\tLoss: 0.822661\n",
      "Train Epoch: 10 [12800/60000 (21%)]\tLoss: 0.576997\n",
      "Train Epoch: 10 [19200/60000 (32%)]\tLoss: 0.794504\n",
      "Train Epoch: 10 [25600/60000 (43%)]\tLoss: 0.594659\n",
      "Train Epoch: 10 [32000/60000 (53%)]\tLoss: 0.758383\n",
      "Train Epoch: 10 [38400/60000 (64%)]\tLoss: 0.790371\n",
      "Train Epoch: 10 [44800/60000 (75%)]\tLoss: 0.924863\n",
      "Train Epoch: 10 [51200/60000 (85%)]\tLoss: 0.805281\n",
      "Train Epoch: 10 [57600/60000 (96%)]\tLoss: 0.717186\n",
      "\n",
      "Test set: Average loss: 0.7902, Accuracy: 46302/60000 (77%)\n",
      "\n"
     ]
    }
   ],
   "source": [
    "model_50 = mnist_network(num_hidden_layers=1,layer_size=50,activation='relu')\n",
    "optimizer = optim.SGD(model_50.parameters(),lr=lr)\n",
    "\n",
    "train_50 = []\n",
    "\n",
    "for epoch in range(1, epochs + 1):\n",
    "        # Training\n",
    "        train(model_50, train_criterion, train_loader, optimizer, epoch)\n",
    "        # Testing\n",
    "        train_50.append(test(model_50, test_criterion, train_loader))"
   ]
  },
  {
   "cell_type": "markdown",
   "metadata": {
    "id": "GnTUT4Gkb0D3"
   },
   "source": [
    "Test the trained 50-network on the test data. Print out the accuracy."
   ]
  },
  {
   "cell_type": "code",
   "execution_count": 46,
   "metadata": {
    "id": "XcjuzPU-b7AU"
   },
   "outputs": [
    {
     "name": "stdout",
     "output_type": "stream",
     "text": [
      "\n",
      "Test set: Average loss: 0.7651, Accuracy: 7840/10000 (78%)\n",
      "\n"
     ]
    },
    {
     "data": {
      "text/plain": [
       "78.4"
      ]
     },
     "execution_count": 46,
     "metadata": {},
     "output_type": "execute_result"
    }
   ],
   "source": [
    "test(model_50, test_criterion, test_loader)"
   ]
  },
  {
   "cell_type": "markdown",
   "metadata": {
    "id": "6JdznrIAb7jy"
   },
   "source": [
    "Plot the training accuracies over the epochs of the networks on the same figure (there should 3 line plots/scatter plots). "
   ]
  },
  {
   "cell_type": "code",
   "execution_count": 47,
   "metadata": {
    "id": "lrzcDMwhcOJP"
   },
   "outputs": [
    {
     "data": {
      "text/plain": [
       "<matplotlib.legend.Legend at 0x7fb52c218fa0>"
      ]
     },
     "execution_count": 47,
     "metadata": {},
     "output_type": "execute_result"
    },
    {
     "data": {
      "image/png": "[encoded data removed]",
      "text/plain": [
       "<Figure size 432x288 with 1 Axes>"
      ]
     },
     "metadata": {
      "needs_background": "light"
     },
     "output_type": "display_data"
    }
   ],
   "source": [
    "plt.plot(train_5, label = '5 layer')\n",
    "plt.plot(train_20, label = '20 layer')\n",
    "plt.plot(train_50, label = '50 layer')\n",
    "plt.legend()"
   ]
  },
  {
   "cell_type": "markdown",
   "metadata": {
    "id": "TmC8m-SRcOkP"
   },
   "source": [
    "What is your conclustion on the effect of varying the hidden layer size on the performance of a neural network trained on the MNIST dataset?"
   ]
  },
  {
   "cell_type": "markdown",
   "metadata": {},
   "source": [
    "It looks like the greater the layers size we have, the more effective the network becomes after we include more epochs, though the difference is more severe in adding the first few channels more."
   ]
  },
  {
   "cell_type": "markdown",
   "metadata": {
    "id": "gdlMt7WdhE4b"
   },
   "source": [
    "## Part b"
   ]
  },
  {
   "cell_type": "markdown",
   "metadata": {
    "id": "SGBCmQHDa69o"
   },
   "source": [
    "Now, we will investigate the effect of varying the number of hidden layers. Create 3 networks with 1, 2, and 3 hidden layers, respectively. The size of all hidden layers should be 20 and the activation function is ReLU. We will call these the 1-network, the 2-network, and the 3-network."
   ]
  },
  {
   "cell_type": "code",
   "execution_count": 52,
   "metadata": {
    "id": "qbZfJ7Abbc2P"
   },
   "outputs": [],
   "source": [
    "# Number of training epochs\n",
    "epochs = 10\n",
    "# Learning rate\n",
    "lr = 0.001\n",
    "\n",
    "# Define the training and testing loss\n",
    "train_criterion = nn.CrossEntropyLoss()\n",
    "test_criterion = nn.CrossEntropyLoss(reduction='sum')"
   ]
  },
  {
   "cell_type": "markdown",
   "metadata": {
    "id": "f9RMn8b9cm9i"
   },
   "source": [
    "Train the 1-network on the MNIST dataset for 10 epochs with learning rate 0.001. After each epoch, \n",
    "\n",
    "---\n",
    "\n",
    "record the current training accuracy of the network. "
   ]
  },
  {
   "cell_type": "code",
   "execution_count": 53,
   "metadata": {
    "id": "km6IknYlcm9j"
   },
   "outputs": [
    {
     "name": "stdout",
     "output_type": "stream",
     "text": [
      "Train Epoch: 1 [0/60000 (0%)]\tLoss: 2.351165\n",
      "Train Epoch: 1 [6400/60000 (11%)]\tLoss: 2.237006\n",
      "Train Epoch: 1 [12800/60000 (21%)]\tLoss: 2.093750\n",
      "Train Epoch: 1 [19200/60000 (32%)]\tLoss: 1.929818\n",
      "Train Epoch: 1 [25600/60000 (43%)]\tLoss: 1.974377\n",
      "Train Epoch: 1 [32000/60000 (53%)]\tLoss: 1.875087\n",
      "Train Epoch: 1 [38400/60000 (64%)]\tLoss: 1.556570\n",
      "Train Epoch: 1 [44800/60000 (75%)]\tLoss: 1.673218\n",
      "Train Epoch: 1 [51200/60000 (85%)]\tLoss: 1.564982\n",
      "Train Epoch: 1 [57600/60000 (96%)]\tLoss: 1.275017\n",
      "\n",
      "Test set: Average loss: 1.4415, Accuracy: 36236/60000 (60%)\n",
      "\n",
      "Train Epoch: 2 [0/60000 (0%)]\tLoss: 1.484977\n",
      "Train Epoch: 2 [6400/60000 (11%)]\tLoss: 1.304284\n",
      "Train Epoch: 2 [12800/60000 (21%)]\tLoss: 1.314311\n",
      "Train Epoch: 2 [19200/60000 (32%)]\tLoss: 1.219861\n",
      "Train Epoch: 2 [25600/60000 (43%)]\tLoss: 1.491711\n",
      "Train Epoch: 2 [32000/60000 (53%)]\tLoss: 1.412746\n",
      "Train Epoch: 2 [38400/60000 (64%)]\tLoss: 1.019302\n",
      "Train Epoch: 2 [44800/60000 (75%)]\tLoss: 1.235540\n",
      "Train Epoch: 2 [51200/60000 (85%)]\tLoss: 1.194130\n",
      "Train Epoch: 2 [57600/60000 (96%)]\tLoss: 0.936995\n",
      "\n",
      "Test set: Average loss: 1.1157, Accuracy: 40358/60000 (67%)\n",
      "\n",
      "Train Epoch: 3 [0/60000 (0%)]\tLoss: 1.199095\n",
      "Train Epoch: 3 [6400/60000 (11%)]\tLoss: 0.981038\n",
      "Train Epoch: 3 [12800/60000 (21%)]\tLoss: 1.004695\n",
      "Train Epoch: 3 [19200/60000 (32%)]\tLoss: 0.984115\n",
      "Train Epoch: 3 [25600/60000 (43%)]\tLoss: 1.298311\n",
      "Train Epoch: 3 [32000/60000 (53%)]\tLoss: 1.197006\n",
      "Train Epoch: 3 [38400/60000 (64%)]\tLoss: 0.807701\n",
      "Train Epoch: 3 [44800/60000 (75%)]\tLoss: 1.035766\n",
      "Train Epoch: 3 [51200/60000 (85%)]\tLoss: 1.028638\n",
      "Train Epoch: 3 [57600/60000 (96%)]\tLoss: 0.810643\n",
      "\n",
      "Test set: Average loss: 0.9677, Accuracy: 41877/60000 (70%)\n",
      "\n",
      "Train Epoch: 4 [0/60000 (0%)]\tLoss: 1.072543\n",
      "Train Epoch: 4 [6400/60000 (11%)]\tLoss: 0.834296\n",
      "Train Epoch: 4 [12800/60000 (21%)]\tLoss: 0.839809\n",
      "Train Epoch: 4 [19200/60000 (32%)]\tLoss: 0.861094\n",
      "Train Epoch: 4 [25600/60000 (43%)]\tLoss: 1.042221\n",
      "Train Epoch: 4 [32000/60000 (53%)]\tLoss: 0.997864\n",
      "Train Epoch: 4 [38400/60000 (64%)]\tLoss: 0.596406\n",
      "Train Epoch: 4 [44800/60000 (75%)]\tLoss: 0.840835\n",
      "Train Epoch: 4 [51200/60000 (85%)]\tLoss: 0.862188\n",
      "Train Epoch: 4 [57600/60000 (96%)]\tLoss: 0.621421\n",
      "\n",
      "Test set: Average loss: 0.7775, Accuracy: 47279/60000 (79%)\n",
      "\n",
      "Train Epoch: 5 [0/60000 (0%)]\tLoss: 0.874938\n",
      "Train Epoch: 5 [6400/60000 (11%)]\tLoss: 0.700077\n",
      "Train Epoch: 5 [12800/60000 (21%)]\tLoss: 0.613795\n",
      "Train Epoch: 5 [19200/60000 (32%)]\tLoss: 0.705972\n",
      "Train Epoch: 5 [25600/60000 (43%)]\tLoss: 0.930886\n",
      "Train Epoch: 5 [32000/60000 (53%)]\tLoss: 0.914301\n",
      "Train Epoch: 5 [38400/60000 (64%)]\tLoss: 0.497558\n",
      "Train Epoch: 5 [44800/60000 (75%)]\tLoss: 0.738562\n",
      "Train Epoch: 5 [51200/60000 (85%)]\tLoss: 0.768493\n",
      "Train Epoch: 5 [57600/60000 (96%)]\tLoss: 0.564168\n",
      "\n",
      "Test set: Average loss: 0.7090, Accuracy: 47976/60000 (80%)\n",
      "\n",
      "Train Epoch: 6 [0/60000 (0%)]\tLoss: 0.796533\n",
      "Train Epoch: 6 [6400/60000 (11%)]\tLoss: 0.618517\n",
      "Train Epoch: 6 [12800/60000 (21%)]\tLoss: 0.556085\n",
      "Train Epoch: 6 [19200/60000 (32%)]\tLoss: 0.639029\n",
      "Train Epoch: 6 [25600/60000 (43%)]\tLoss: 0.880295\n",
      "Train Epoch: 6 [32000/60000 (53%)]\tLoss: 0.858960\n",
      "Train Epoch: 6 [38400/60000 (64%)]\tLoss: 0.450602\n",
      "Train Epoch: 6 [44800/60000 (75%)]\tLoss: 0.685937\n",
      "Train Epoch: 6 [51200/60000 (85%)]\tLoss: 0.709698\n",
      "Train Epoch: 6 [57600/60000 (96%)]\tLoss: 0.533448\n",
      "\n",
      "Test set: Average loss: 0.6645, Accuracy: 48341/60000 (81%)\n",
      "\n",
      "Train Epoch: 7 [0/60000 (0%)]\tLoss: 0.745914\n",
      "Train Epoch: 7 [6400/60000 (11%)]\tLoss: 0.567364\n",
      "Train Epoch: 7 [12800/60000 (21%)]\tLoss: 0.519716\n",
      "Train Epoch: 7 [19200/60000 (32%)]\tLoss: 0.597483\n",
      "Train Epoch: 7 [25600/60000 (43%)]\tLoss: 0.838515\n",
      "Train Epoch: 7 [32000/60000 (53%)]\tLoss: 0.818532\n",
      "Train Epoch: 7 [38400/60000 (64%)]\tLoss: 0.419259\n",
      "Train Epoch: 7 [44800/60000 (75%)]\tLoss: 0.652005\n",
      "Train Epoch: 7 [51200/60000 (85%)]\tLoss: 0.670342\n",
      "Train Epoch: 7 [57600/60000 (96%)]\tLoss: 0.512509\n",
      "\n",
      "Test set: Average loss: 0.6324, Accuracy: 48574/60000 (81%)\n",
      "\n",
      "Train Epoch: 8 [0/60000 (0%)]\tLoss: 0.708307\n",
      "Train Epoch: 8 [6400/60000 (11%)]\tLoss: 0.532710\n",
      "Train Epoch: 8 [12800/60000 (21%)]\tLoss: 0.493294\n",
      "Train Epoch: 8 [19200/60000 (32%)]\tLoss: 0.571182\n",
      "Train Epoch: 8 [25600/60000 (43%)]\tLoss: 0.806093\n",
      "Train Epoch: 8 [32000/60000 (53%)]\tLoss: 0.789693\n",
      "Train Epoch: 8 [38400/60000 (64%)]\tLoss: 0.395340\n",
      "Train Epoch: 8 [44800/60000 (75%)]\tLoss: 0.627926\n",
      "Train Epoch: 8 [51200/60000 (85%)]\tLoss: 0.641709\n",
      "Train Epoch: 8 [57600/60000 (96%)]\tLoss: 0.496980\n",
      "\n",
      "Test set: Average loss: 0.6083, Accuracy: 48752/60000 (81%)\n",
      "\n",
      "Train Epoch: 9 [0/60000 (0%)]\tLoss: 0.679113\n",
      "Train Epoch: 9 [6400/60000 (11%)]\tLoss: 0.508260\n",
      "Train Epoch: 9 [12800/60000 (21%)]\tLoss: 0.473366\n",
      "Train Epoch: 9 [19200/60000 (32%)]\tLoss: 0.553933\n",
      "Train Epoch: 9 [25600/60000 (43%)]\tLoss: 0.780387\n",
      "Train Epoch: 9 [32000/60000 (53%)]\tLoss: 0.768840\n",
      "Train Epoch: 9 [38400/60000 (64%)]\tLoss: 0.376863\n",
      "Train Epoch: 9 [44800/60000 (75%)]\tLoss: 0.610905\n",
      "Train Epoch: 9 [51200/60000 (85%)]\tLoss: 0.619284\n",
      "Train Epoch: 9 [57600/60000 (96%)]\tLoss: 0.485507\n",
      "\n",
      "Test set: Average loss: 0.5895, Accuracy: 48896/60000 (81%)\n",
      "\n",
      "Train Epoch: 10 [0/60000 (0%)]\tLoss: 0.654934\n",
      "Train Epoch: 10 [6400/60000 (11%)]\tLoss: 0.490679\n",
      "Train Epoch: 10 [12800/60000 (21%)]\tLoss: 0.458022\n",
      "Train Epoch: 10 [19200/60000 (32%)]\tLoss: 0.541221\n",
      "Train Epoch: 10 [25600/60000 (43%)]\tLoss: 0.760644\n",
      "Train Epoch: 10 [32000/60000 (53%)]\tLoss: 0.752690\n",
      "Train Epoch: 10 [38400/60000 (64%)]\tLoss: 0.362441\n",
      "Train Epoch: 10 [44800/60000 (75%)]\tLoss: 0.598285\n",
      "Train Epoch: 10 [51200/60000 (85%)]\tLoss: 0.601211\n",
      "Train Epoch: 10 [57600/60000 (96%)]\tLoss: 0.475790\n",
      "\n",
      "Test set: Average loss: 0.5746, Accuracy: 49030/60000 (82%)\n",
      "\n"
     ]
    }
   ],
   "source": [
    "model_1 = mnist_network(num_hidden_layers=1,layer_size=20,activation='relu')\n",
    "optimizer = optim.SGD(model_1.parameters(),lr=lr)\n",
    "\n",
    "train_1 = []\n",
    "\n",
    "for epoch in range(1, epochs + 1):\n",
    "        # Training\n",
    "        train(model_1, train_criterion, train_loader, optimizer, epoch)\n",
    "        train_1.append(test(model_1, test_criterion, train_loader))"
   ]
  },
  {
   "cell_type": "markdown",
   "metadata": {
    "id": "sHW3-J4vcm9k"
   },
   "source": [
    "Test the trained 1-network on the test data. Print out the accuracy."
   ]
  },
  {
   "cell_type": "code",
   "execution_count": 54,
   "metadata": {
    "id": "iROIK0lgcm9m"
   },
   "outputs": [
    {
     "name": "stdout",
     "output_type": "stream",
     "text": [
      "\n",
      "Test set: Average loss: 0.5615, Accuracy: 8222/10000 (82%)\n",
      "\n"
     ]
    },
    {
     "data": {
      "text/plain": [
       "82.22"
      ]
     },
     "execution_count": 54,
     "metadata": {},
     "output_type": "execute_result"
    }
   ],
   "source": [
    "test(model_1, test_criterion, test_loader)"
   ]
  },
  {
   "cell_type": "markdown",
   "metadata": {
    "id": "37h7g55ecm9n"
   },
   "source": [
    "Train the 2-network on the MNIST dataset for 10 epochs with learning rate 0.001. After each epoch, record the current training accuracy of the network. "
   ]
  },
  {
   "cell_type": "code",
   "execution_count": 55,
   "metadata": {
    "id": "_c7TL_5Icm9o"
   },
   "outputs": [
    {
     "name": "stdout",
     "output_type": "stream",
     "text": [
      "Train Epoch: 1 [0/60000 (0%)]\tLoss: 2.325221\n",
      "Train Epoch: 1 [6400/60000 (11%)]\tLoss: 2.305492\n",
      "Train Epoch: 1 [12800/60000 (21%)]\tLoss: 2.301848\n",
      "Train Epoch: 1 [19200/60000 (32%)]\tLoss: 2.260953\n",
      "Train Epoch: 1 [25600/60000 (43%)]\tLoss: 2.275739\n",
      "Train Epoch: 1 [32000/60000 (53%)]\tLoss: 2.241323\n",
      "Train Epoch: 1 [38400/60000 (64%)]\tLoss: 2.214609\n",
      "Train Epoch: 1 [44800/60000 (75%)]\tLoss: 2.261936\n",
      "Train Epoch: 1 [51200/60000 (85%)]\tLoss: 2.209897\n",
      "Train Epoch: 1 [57600/60000 (96%)]\tLoss: 2.157484\n",
      "\n",
      "Test set: Average loss: 0.5746, Accuracy: 49030/60000 (82%)\n",
      "\n",
      "Train Epoch: 2 [0/60000 (0%)]\tLoss: 2.153461\n",
      "Train Epoch: 2 [6400/60000 (11%)]\tLoss: 2.113545\n",
      "Train Epoch: 2 [12800/60000 (21%)]\tLoss: 2.206012\n",
      "Train Epoch: 2 [19200/60000 (32%)]\tLoss: 1.969792\n",
      "Train Epoch: 2 [25600/60000 (43%)]\tLoss: 2.003573\n",
      "Train Epoch: 2 [32000/60000 (53%)]\tLoss: 1.958805\n",
      "Train Epoch: 2 [38400/60000 (64%)]\tLoss: 1.955050\n",
      "Train Epoch: 2 [44800/60000 (75%)]\tLoss: 2.122275\n",
      "Train Epoch: 2 [51200/60000 (85%)]\tLoss: 1.954876\n",
      "Train Epoch: 2 [57600/60000 (96%)]\tLoss: 1.888553\n",
      "\n",
      "Test set: Average loss: 0.5746, Accuracy: 49030/60000 (82%)\n",
      "\n",
      "Train Epoch: 3 [0/60000 (0%)]\tLoss: 1.820627\n",
      "Train Epoch: 3 [6400/60000 (11%)]\tLoss: 1.759484\n",
      "Train Epoch: 3 [12800/60000 (21%)]\tLoss: 1.991349\n",
      "Train Epoch: 3 [19200/60000 (32%)]\tLoss: 1.668006\n",
      "Train Epoch: 3 [25600/60000 (43%)]\tLoss: 1.688461\n",
      "Train Epoch: 3 [32000/60000 (53%)]\tLoss: 1.643827\n",
      "Train Epoch: 3 [38400/60000 (64%)]\tLoss: 1.612760\n",
      "Train Epoch: 3 [44800/60000 (75%)]\tLoss: 1.944686\n",
      "Train Epoch: 3 [51200/60000 (85%)]\tLoss: 1.683515\n",
      "Train Epoch: 3 [57600/60000 (96%)]\tLoss: 1.552363\n",
      "\n",
      "Test set: Average loss: 0.5746, Accuracy: 49030/60000 (82%)\n",
      "\n",
      "Train Epoch: 4 [0/60000 (0%)]\tLoss: 1.531962\n",
      "Train Epoch: 4 [6400/60000 (11%)]\tLoss: 1.490770\n",
      "Train Epoch: 4 [12800/60000 (21%)]\tLoss: 1.727600\n",
      "Train Epoch: 4 [19200/60000 (32%)]\tLoss: 1.419731\n",
      "Train Epoch: 4 [25600/60000 (43%)]\tLoss: 1.418502\n",
      "Train Epoch: 4 [32000/60000 (53%)]\tLoss: 1.418193\n",
      "Train Epoch: 4 [38400/60000 (64%)]\tLoss: 1.333709\n",
      "Train Epoch: 4 [44800/60000 (75%)]\tLoss: 1.755605\n",
      "Train Epoch: 4 [51200/60000 (85%)]\tLoss: 1.451314\n",
      "Train Epoch: 4 [57600/60000 (96%)]\tLoss: 1.286769\n",
      "\n",
      "Test set: Average loss: 0.5746, Accuracy: 49030/60000 (82%)\n",
      "\n",
      "Train Epoch: 5 [0/60000 (0%)]\tLoss: 1.314415\n",
      "Train Epoch: 5 [6400/60000 (11%)]\tLoss: 1.280101\n",
      "Train Epoch: 5 [12800/60000 (21%)]\tLoss: 1.512478\n",
      "Train Epoch: 5 [19200/60000 (32%)]\tLoss: 1.223100\n",
      "Train Epoch: 5 [25600/60000 (43%)]\tLoss: 1.227224\n",
      "Train Epoch: 5 [32000/60000 (53%)]\tLoss: 1.251781\n",
      "Train Epoch: 5 [38400/60000 (64%)]\tLoss: 1.156390\n",
      "Train Epoch: 5 [44800/60000 (75%)]\tLoss: 1.611154\n",
      "Train Epoch: 5 [51200/60000 (85%)]\tLoss: 1.304353\n",
      "Train Epoch: 5 [57600/60000 (96%)]\tLoss: 1.128117\n",
      "\n",
      "Test set: Average loss: 0.5746, Accuracy: 49030/60000 (82%)\n",
      "\n",
      "Train Epoch: 6 [0/60000 (0%)]\tLoss: 1.171854\n",
      "Train Epoch: 6 [6400/60000 (11%)]\tLoss: 1.143544\n",
      "Train Epoch: 6 [12800/60000 (21%)]\tLoss: 1.372679\n",
      "Train Epoch: 6 [19200/60000 (32%)]\tLoss: 1.099954\n",
      "Train Epoch: 6 [25600/60000 (43%)]\tLoss: 1.122496\n",
      "Train Epoch: 6 [32000/60000 (53%)]\tLoss: 1.152708\n",
      "Train Epoch: 6 [38400/60000 (64%)]\tLoss: 1.057380\n",
      "Train Epoch: 6 [44800/60000 (75%)]\tLoss: 1.519413\n",
      "Train Epoch: 6 [51200/60000 (85%)]\tLoss: 1.212132\n",
      "Train Epoch: 6 [57600/60000 (96%)]\tLoss: 1.041719\n",
      "\n",
      "Test set: Average loss: 0.5746, Accuracy: 49030/60000 (82%)\n",
      "\n",
      "Train Epoch: 7 [0/60000 (0%)]\tLoss: 1.075606\n",
      "Train Epoch: 7 [6400/60000 (11%)]\tLoss: 1.063624\n",
      "Train Epoch: 7 [12800/60000 (21%)]\tLoss: 1.289917\n",
      "Train Epoch: 7 [19200/60000 (32%)]\tLoss: 1.026551\n",
      "Train Epoch: 7 [25600/60000 (43%)]\tLoss: 1.052520\n",
      "Train Epoch: 7 [32000/60000 (53%)]\tLoss: 1.094956\n",
      "Train Epoch: 7 [38400/60000 (64%)]\tLoss: 1.000678\n",
      "Train Epoch: 7 [44800/60000 (75%)]\tLoss: 1.456095\n",
      "Train Epoch: 7 [51200/60000 (85%)]\tLoss: 1.143332\n",
      "Train Epoch: 7 [57600/60000 (96%)]\tLoss: 0.989034\n",
      "\n",
      "Test set: Average loss: 0.5746, Accuracy: 49030/60000 (82%)\n",
      "\n",
      "Train Epoch: 8 [0/60000 (0%)]\tLoss: 1.006169\n",
      "Train Epoch: 8 [6400/60000 (11%)]\tLoss: 1.014295\n",
      "Train Epoch: 8 [12800/60000 (21%)]\tLoss: 1.236329\n",
      "Train Epoch: 8 [19200/60000 (32%)]\tLoss: 0.978822\n",
      "Train Epoch: 8 [25600/60000 (43%)]\tLoss: 1.003454\n",
      "Train Epoch: 8 [32000/60000 (53%)]\tLoss: 1.061629\n",
      "Train Epoch: 8 [38400/60000 (64%)]\tLoss: 0.965616\n",
      "Train Epoch: 8 [44800/60000 (75%)]\tLoss: 1.410911\n",
      "Train Epoch: 8 [51200/60000 (85%)]\tLoss: 1.090428\n",
      "Train Epoch: 8 [57600/60000 (96%)]\tLoss: 0.952378\n",
      "\n",
      "Test set: Average loss: 0.5746, Accuracy: 49030/60000 (82%)\n",
      "\n",
      "Train Epoch: 9 [0/60000 (0%)]\tLoss: 0.950642\n",
      "Train Epoch: 9 [6400/60000 (11%)]\tLoss: 0.979889\n",
      "Train Epoch: 9 [12800/60000 (21%)]\tLoss: 1.197840\n",
      "Train Epoch: 9 [19200/60000 (32%)]\tLoss: 0.949107\n",
      "Train Epoch: 9 [25600/60000 (43%)]\tLoss: 0.966146\n",
      "Train Epoch: 9 [32000/60000 (53%)]\tLoss: 1.038035\n",
      "Train Epoch: 9 [38400/60000 (64%)]\tLoss: 0.942617\n",
      "Train Epoch: 9 [44800/60000 (75%)]\tLoss: 1.378685\n",
      "Train Epoch: 9 [51200/60000 (85%)]\tLoss: 1.048139\n",
      "Train Epoch: 9 [57600/60000 (96%)]\tLoss: 0.921625\n",
      "\n",
      "Test set: Average loss: 0.5746, Accuracy: 49030/60000 (82%)\n",
      "\n",
      "Train Epoch: 10 [0/60000 (0%)]\tLoss: 0.906483\n",
      "Train Epoch: 10 [6400/60000 (11%)]\tLoss: 0.953474\n",
      "Train Epoch: 10 [12800/60000 (21%)]\tLoss: 1.168054\n",
      "Train Epoch: 10 [19200/60000 (32%)]\tLoss: 0.928759\n",
      "Train Epoch: 10 [25600/60000 (43%)]\tLoss: 0.937555\n",
      "Train Epoch: 10 [32000/60000 (53%)]\tLoss: 1.021101\n",
      "Train Epoch: 10 [38400/60000 (64%)]\tLoss: 0.924393\n",
      "Train Epoch: 10 [44800/60000 (75%)]\tLoss: 1.354418\n",
      "Train Epoch: 10 [51200/60000 (85%)]\tLoss: 1.015701\n",
      "Train Epoch: 10 [57600/60000 (96%)]\tLoss: 0.897101\n",
      "\n",
      "Test set: Average loss: 0.5746, Accuracy: 49030/60000 (82%)\n",
      "\n"
     ]
    }
   ],
   "source": [
    "model_2 = mnist_network(num_hidden_layers=2,layer_size=20,activation='relu')\n",
    "optimizer = optim.SGD(model_2.parameters(),lr=lr)\n",
    "\n",
    "train_2 = []\n",
    "\n",
    "for epoch in range(1, epochs + 1):\n",
    "        # Training\n",
    "        train(model_2, train_criterion, train_loader, optimizer, epoch)\n",
    "        train_2.append(test(model_1, test_criterion, train_loader))"
   ]
  },
  {
   "cell_type": "markdown",
   "metadata": {
    "id": "8fJGIL1Hcm9p"
   },
   "source": [
    "Test the trained 2-network on the test data. Print out the accuracy."
   ]
  },
  {
   "cell_type": "code",
   "execution_count": 56,
   "metadata": {
    "id": "m7Sr0On6cm9p"
   },
   "outputs": [
    {
     "name": "stdout",
     "output_type": "stream",
     "text": [
      "\n",
      "Test set: Average loss: 1.0217, Accuracy: 6507/10000 (65%)\n",
      "\n"
     ]
    },
    {
     "data": {
      "text/plain": [
       "65.07"
      ]
     },
     "execution_count": 56,
     "metadata": {},
     "output_type": "execute_result"
    }
   ],
   "source": [
    "test(model_2, test_criterion, test_loader)"
   ]
  },
  {
   "cell_type": "markdown",
   "metadata": {
    "id": "T3KteClMcm9q"
   },
   "source": [
    "Train the 3-network on the MNIST dataset for 10 epochs with learning rate 0.001. After each epoch, record the current training accuracy of the network. "
   ]
  },
  {
   "cell_type": "code",
   "execution_count": 57,
   "metadata": {
    "id": "thWHY7rWcm9r"
   },
   "outputs": [
    {
     "name": "stdout",
     "output_type": "stream",
     "text": [
      "Train Epoch: 1 [0/60000 (0%)]\tLoss: 2.302562\n",
      "Train Epoch: 1 [6400/60000 (11%)]\tLoss: 2.303644\n",
      "Train Epoch: 1 [12800/60000 (21%)]\tLoss: 2.302970\n",
      "Train Epoch: 1 [19200/60000 (32%)]\tLoss: 2.314267\n",
      "Train Epoch: 1 [25600/60000 (43%)]\tLoss: 2.308614\n",
      "Train Epoch: 1 [32000/60000 (53%)]\tLoss: 2.293324\n",
      "Train Epoch: 1 [38400/60000 (64%)]\tLoss: 2.290712\n",
      "Train Epoch: 1 [44800/60000 (75%)]\tLoss: 2.297036\n",
      "Train Epoch: 1 [51200/60000 (85%)]\tLoss: 2.299915\n",
      "Train Epoch: 1 [57600/60000 (96%)]\tLoss: 2.299205\n",
      "\n",
      "Test set: Average loss: 0.5746, Accuracy: 49030/60000 (82%)\n",
      "\n",
      "Train Epoch: 2 [0/60000 (0%)]\tLoss: 2.294710\n",
      "Train Epoch: 2 [6400/60000 (11%)]\tLoss: 2.294097\n",
      "Train Epoch: 2 [12800/60000 (21%)]\tLoss: 2.296114\n",
      "Train Epoch: 2 [19200/60000 (32%)]\tLoss: 2.309779\n",
      "Train Epoch: 2 [25600/60000 (43%)]\tLoss: 2.296661\n",
      "Train Epoch: 2 [32000/60000 (53%)]\tLoss: 2.280991\n",
      "Train Epoch: 2 [38400/60000 (64%)]\tLoss: 2.271788\n",
      "Train Epoch: 2 [44800/60000 (75%)]\tLoss: 2.274253\n",
      "Train Epoch: 2 [51200/60000 (85%)]\tLoss: 2.280630\n",
      "Train Epoch: 2 [57600/60000 (96%)]\tLoss: 2.274354\n",
      "\n",
      "Test set: Average loss: 0.5746, Accuracy: 49030/60000 (82%)\n",
      "\n",
      "Train Epoch: 3 [0/60000 (0%)]\tLoss: 2.258916\n",
      "Train Epoch: 3 [6400/60000 (11%)]\tLoss: 2.260136\n",
      "Train Epoch: 3 [12800/60000 (21%)]\tLoss: 2.279160\n",
      "Train Epoch: 3 [19200/60000 (32%)]\tLoss: 2.270591\n",
      "Train Epoch: 3 [25600/60000 (43%)]\tLoss: 2.271703\n",
      "Train Epoch: 3 [32000/60000 (53%)]\tLoss: 2.248841\n",
      "Train Epoch: 3 [38400/60000 (64%)]\tLoss: 2.221462\n",
      "Train Epoch: 3 [44800/60000 (75%)]\tLoss: 2.222509\n",
      "Train Epoch: 3 [51200/60000 (85%)]\tLoss: 2.233599\n",
      "Train Epoch: 3 [57600/60000 (96%)]\tLoss: 2.223000\n",
      "\n",
      "Test set: Average loss: 0.5746, Accuracy: 49030/60000 (82%)\n",
      "\n",
      "Train Epoch: 4 [0/60000 (0%)]\tLoss: 2.188464\n",
      "Train Epoch: 4 [6400/60000 (11%)]\tLoss: 2.190552\n",
      "Train Epoch: 4 [12800/60000 (21%)]\tLoss: 2.249191\n",
      "Train Epoch: 4 [19200/60000 (32%)]\tLoss: 2.188062\n",
      "Train Epoch: 4 [25600/60000 (43%)]\tLoss: 2.227818\n",
      "Train Epoch: 4 [32000/60000 (53%)]\tLoss: 2.188554\n",
      "Train Epoch: 4 [38400/60000 (64%)]\tLoss: 2.112998\n",
      "Train Epoch: 4 [44800/60000 (75%)]\tLoss: 2.122437\n",
      "Train Epoch: 4 [51200/60000 (85%)]\tLoss: 2.144279\n",
      "Train Epoch: 4 [57600/60000 (96%)]\tLoss: 2.126651\n",
      "\n",
      "Test set: Average loss: 0.5746, Accuracy: 49030/60000 (82%)\n",
      "\n",
      "Train Epoch: 5 [0/60000 (0%)]\tLoss: 2.067403\n",
      "Train Epoch: 5 [6400/60000 (11%)]\tLoss: 2.069472\n",
      "Train Epoch: 5 [12800/60000 (21%)]\tLoss: 2.208099\n",
      "Train Epoch: 5 [19200/60000 (32%)]\tLoss: 2.095124\n",
      "Train Epoch: 5 [25600/60000 (43%)]\tLoss: 2.169632\n",
      "Train Epoch: 5 [32000/60000 (53%)]\tLoss: 2.114424\n",
      "Train Epoch: 5 [38400/60000 (64%)]\tLoss: 1.997360\n",
      "Train Epoch: 5 [44800/60000 (75%)]\tLoss: 2.018411\n",
      "Train Epoch: 5 [51200/60000 (85%)]\tLoss: 2.065549\n",
      "Train Epoch: 5 [57600/60000 (96%)]\tLoss: 2.056535\n",
      "\n",
      "Test set: Average loss: 0.5746, Accuracy: 49030/60000 (82%)\n",
      "\n",
      "Train Epoch: 6 [0/60000 (0%)]\tLoss: 1.979900\n",
      "Train Epoch: 6 [6400/60000 (11%)]\tLoss: 1.965487\n",
      "Train Epoch: 6 [12800/60000 (21%)]\tLoss: 2.150515\n",
      "Train Epoch: 6 [19200/60000 (32%)]\tLoss: 2.040139\n",
      "Train Epoch: 6 [25600/60000 (43%)]\tLoss: 2.105255\n",
      "Train Epoch: 6 [32000/60000 (53%)]\tLoss: 2.031651\n",
      "Train Epoch: 6 [38400/60000 (64%)]\tLoss: 1.899890\n",
      "Train Epoch: 6 [44800/60000 (75%)]\tLoss: 1.911468\n",
      "Train Epoch: 6 [51200/60000 (85%)]\tLoss: 1.982568\n",
      "Train Epoch: 6 [57600/60000 (96%)]\tLoss: 1.994272\n",
      "\n",
      "Test set: Average loss: 0.5746, Accuracy: 49030/60000 (82%)\n",
      "\n",
      "Train Epoch: 7 [0/60000 (0%)]\tLoss: 1.886821\n",
      "Train Epoch: 7 [6400/60000 (11%)]\tLoss: 1.843724\n",
      "Train Epoch: 7 [12800/60000 (21%)]\tLoss: 2.060527\n",
      "Train Epoch: 7 [19200/60000 (32%)]\tLoss: 1.976303\n",
      "Train Epoch: 7 [25600/60000 (43%)]\tLoss: 2.010366\n",
      "Train Epoch: 7 [32000/60000 (53%)]\tLoss: 1.918582\n",
      "Train Epoch: 7 [38400/60000 (64%)]\tLoss: 1.754093\n",
      "Train Epoch: 7 [44800/60000 (75%)]\tLoss: 1.763331\n",
      "Train Epoch: 7 [51200/60000 (85%)]\tLoss: 1.848082\n",
      "Train Epoch: 7 [57600/60000 (96%)]\tLoss: 1.886458\n",
      "\n",
      "Test set: Average loss: 0.5746, Accuracy: 49030/60000 (82%)\n",
      "\n",
      "Train Epoch: 8 [0/60000 (0%)]\tLoss: 1.722288\n",
      "Train Epoch: 8 [6400/60000 (11%)]\tLoss: 1.634319\n",
      "Train Epoch: 8 [12800/60000 (21%)]\tLoss: 1.916767\n",
      "Train Epoch: 8 [19200/60000 (32%)]\tLoss: 1.803691\n",
      "Train Epoch: 8 [25600/60000 (43%)]\tLoss: 1.836590\n",
      "Train Epoch: 8 [32000/60000 (53%)]\tLoss: 1.719116\n",
      "Train Epoch: 8 [38400/60000 (64%)]\tLoss: 1.522881\n",
      "Train Epoch: 8 [44800/60000 (75%)]\tLoss: 1.605103\n",
      "Train Epoch: 8 [51200/60000 (85%)]\tLoss: 1.621219\n",
      "Train Epoch: 8 [57600/60000 (96%)]\tLoss: 1.699002\n",
      "\n",
      "Test set: Average loss: 0.5746, Accuracy: 49030/60000 (82%)\n",
      "\n",
      "Train Epoch: 9 [0/60000 (0%)]\tLoss: 1.511993\n",
      "Train Epoch: 9 [6400/60000 (11%)]\tLoss: 1.376002\n",
      "Train Epoch: 9 [12800/60000 (21%)]\tLoss: 1.673275\n",
      "Train Epoch: 9 [19200/60000 (32%)]\tLoss: 1.577297\n",
      "Train Epoch: 9 [25600/60000 (43%)]\tLoss: 1.609170\n",
      "Train Epoch: 9 [32000/60000 (53%)]\tLoss: 1.463794\n",
      "Train Epoch: 9 [38400/60000 (64%)]\tLoss: 1.249712\n",
      "Train Epoch: 9 [44800/60000 (75%)]\tLoss: 1.425193\n",
      "Train Epoch: 9 [51200/60000 (85%)]\tLoss: 1.391497\n",
      "Train Epoch: 9 [57600/60000 (96%)]\tLoss: 1.343554\n",
      "\n",
      "Test set: Average loss: 0.5746, Accuracy: 49030/60000 (82%)\n",
      "\n",
      "Train Epoch: 10 [0/60000 (0%)]\tLoss: 1.301243\n",
      "Train Epoch: 10 [6400/60000 (11%)]\tLoss: 1.156901\n",
      "Train Epoch: 10 [12800/60000 (21%)]\tLoss: 1.378169\n",
      "Train Epoch: 10 [19200/60000 (32%)]\tLoss: 1.381629\n",
      "Train Epoch: 10 [25600/60000 (43%)]\tLoss: 1.437446\n",
      "Train Epoch: 10 [32000/60000 (53%)]\tLoss: 1.292783\n",
      "Train Epoch: 10 [38400/60000 (64%)]\tLoss: 1.017623\n",
      "Train Epoch: 10 [44800/60000 (75%)]\tLoss: 1.284842\n",
      "Train Epoch: 10 [51200/60000 (85%)]\tLoss: 1.243222\n",
      "Train Epoch: 10 [57600/60000 (96%)]\tLoss: 1.135275\n",
      "\n",
      "Test set: Average loss: 0.5746, Accuracy: 49030/60000 (82%)\n",
      "\n"
     ]
    }
   ],
   "source": [
    "model_3 = mnist_network(num_hidden_layers=3,layer_size=20,activation='relu')\n",
    "optimizer = optim.SGD(model_3.parameters(),lr=lr)\n",
    "\n",
    "train_3 = []\n",
    "\n",
    "for epoch in range(1, epochs + 1):\n",
    "        # Training\n",
    "        train(model_3, train_criterion, train_loader, optimizer, epoch)\n",
    "        train_3.append(test(model_1, test_criterion, train_loader))"
   ]
  },
  {
   "cell_type": "markdown",
   "metadata": {
    "id": "cB4nTkYecm9s"
   },
   "source": [
    "Test the trained 3-network on the test data. Print out the accuracy."
   ]
  },
  {
   "cell_type": "code",
   "execution_count": 58,
   "metadata": {
    "id": "176L8ou0cm9t"
   },
   "outputs": [
    {
     "name": "stdout",
     "output_type": "stream",
     "text": [
      "\n",
      "Test set: Average loss: 1.2027, Accuracy: 6328/10000 (63%)\n",
      "\n"
     ]
    },
    {
     "data": {
      "text/plain": [
       "63.28"
      ]
     },
     "execution_count": 58,
     "metadata": {},
     "output_type": "execute_result"
    }
   ],
   "source": [
    "test(model_3, test_criterion, test_loader)"
   ]
  },
  {
   "cell_type": "markdown",
   "metadata": {
    "id": "CW0D0CWWcm9t"
   },
   "source": [
    "Plot the training accuracies over the epochs of the networks on the same figure (there should 3 line plots/scatter plots). "
   ]
  },
  {
   "cell_type": "code",
   "execution_count": 59,
   "metadata": {
    "id": "gW6JCxpmcm9t"
   },
   "outputs": [
    {
     "data": {
      "text/plain": [
       "<matplotlib.legend.Legend at 0x7fb53012fee0>"
      ]
     },
     "execution_count": 59,
     "metadata": {},
     "output_type": "execute_result"
    },
    {
     "data": {
      "image/png": "[encoded data removed]",
      "text/plain": [
       "<Figure size 432x288 with 1 Axes>"
      ]
     },
     "metadata": {
      "needs_background": "light"
     },
     "output_type": "display_data"
    }
   ],
   "source": [
    "plt.plot(train_1, label = '1 layer')\n",
    "plt.plot(train_2, label = '2 layer')\n",
    "plt.plot(train_3, label = '3 layer')\n",
    "plt.legend()"
   ]
  },
  {
   "cell_type": "markdown",
   "metadata": {
    "id": "65eqaTMbcm9u"
   },
   "source": [
    "What is your conclustion on the effect of varying the number of hidden layers on the performance of a neural network trained on the MNIST dataset?"
   ]
  },
  {
   "cell_type": "markdown",
   "metadata": {},
   "source": [
    "My training accuracies for the 2nd and 3rd layer were approximately the same, so adding another hidden layer will train the model faster, but doesn't necessarily make the model more accurate after a certain number of epochs."
   ]
  },
  {
   "cell_type": "markdown",
   "metadata": {
    "id": "vfrIobY5hJe5"
   },
   "source": [
    "## Part c"
   ]
  },
  {
   "cell_type": "markdown",
   "metadata": {
    "id": "ZX_rfiw5c6ZL"
   },
   "source": [
    "Next, we will investigate the effects of varying the activation functions on a neural network. Create 3 networks. The first network has Sigmoid activation (Sigmoid-network). The second network has ReLU activation (ReLU-network). The third network has Tanh activation (Tanh-network). All networks have one hidden layer with size 20."
   ]
  },
  {
   "cell_type": "code",
   "execution_count": 60,
   "metadata": {
    "id": "vboiquSGc4cE"
   },
   "outputs": [],
   "source": [
    "# Number of training epochs\n",
    "epochs = 10\n",
    "# Learning rate\n",
    "lr = 0.001\n",
    "\n",
    "# Define the training and testing loss\n",
    "train_criterion = nn.CrossEntropyLoss()\n",
    "test_criterion = nn.CrossEntropyLoss(reduction='sum')"
   ]
  },
  {
   "cell_type": "markdown",
   "metadata": {
    "id": "py5w8S3Cd9E0"
   },
   "source": [
    "Train the Sigmoid-network on the MNIST dataset for 10 epochs with learning rate 0.001. After each epoch, record the current training accuracy of the network. "
   ]
  },
  {
   "cell_type": "code",
   "execution_count": 61,
   "metadata": {
    "id": "3dGgpGwyd9E2"
   },
   "outputs": [
    {
     "name": "stdout",
     "output_type": "stream",
     "text": [
      "Train Epoch: 1 [0/60000 (0%)]\tLoss: 2.301595\n",
      "Train Epoch: 1 [6400/60000 (11%)]\tLoss: 2.309707\n",
      "Train Epoch: 1 [12800/60000 (21%)]\tLoss: 2.303554\n",
      "Train Epoch: 1 [19200/60000 (32%)]\tLoss: 2.304775\n",
      "Train Epoch: 1 [25600/60000 (43%)]\tLoss: 2.297797\n",
      "Train Epoch: 1 [32000/60000 (53%)]\tLoss: 2.294732\n",
      "Train Epoch: 1 [38400/60000 (64%)]\tLoss: 2.285025\n",
      "Train Epoch: 1 [44800/60000 (75%)]\tLoss: 2.315665\n",
      "Train Epoch: 1 [51200/60000 (85%)]\tLoss: 2.292294\n",
      "Train Epoch: 1 [57600/60000 (96%)]\tLoss: 2.287698\n",
      "\n",
      "Test set: Average loss: 2.2899, Accuracy: 5922/60000 (10%)\n",
      "\n",
      "Train Epoch: 2 [0/60000 (0%)]\tLoss: 2.287932\n",
      "Train Epoch: 2 [6400/60000 (11%)]\tLoss: 2.295752\n",
      "Train Epoch: 2 [12800/60000 (21%)]\tLoss: 2.292507\n",
      "Train Epoch: 2 [19200/60000 (32%)]\tLoss: 2.288934\n",
      "Train Epoch: 2 [25600/60000 (43%)]\tLoss: 2.284253\n",
      "Train Epoch: 2 [32000/60000 (53%)]\tLoss: 2.282168\n",
      "Train Epoch: 2 [38400/60000 (64%)]\tLoss: 2.270616\n",
      "Train Epoch: 2 [44800/60000 (75%)]\tLoss: 2.304687\n",
      "Train Epoch: 2 [51200/60000 (85%)]\tLoss: 2.279253\n",
      "Train Epoch: 2 [57600/60000 (96%)]\tLoss: 2.274067\n",
      "\n",
      "Test set: Average loss: 2.2768, Accuracy: 8358/60000 (14%)\n",
      "\n",
      "Train Epoch: 3 [0/60000 (0%)]\tLoss: 2.274616\n",
      "Train Epoch: 3 [6400/60000 (11%)]\tLoss: 2.281997\n",
      "Train Epoch: 3 [12800/60000 (21%)]\tLoss: 2.281560\n",
      "Train Epoch: 3 [19200/60000 (32%)]\tLoss: 2.273484\n",
      "Train Epoch: 3 [25600/60000 (43%)]\tLoss: 2.271089\n",
      "Train Epoch: 3 [32000/60000 (53%)]\tLoss: 2.269976\n",
      "Train Epoch: 3 [38400/60000 (64%)]\tLoss: 2.256835\n",
      "Train Epoch: 3 [44800/60000 (75%)]\tLoss: 2.294069\n",
      "Train Epoch: 3 [51200/60000 (85%)]\tLoss: 2.266760\n",
      "Train Epoch: 3 [57600/60000 (96%)]\tLoss: 2.261118\n",
      "\n",
      "Test set: Average loss: 2.2642, Accuracy: 11930/60000 (20%)\n",
      "\n",
      "Train Epoch: 4 [0/60000 (0%)]\tLoss: 2.262172\n",
      "Train Epoch: 4 [6400/60000 (11%)]\tLoss: 2.268850\n",
      "Train Epoch: 4 [12800/60000 (21%)]\tLoss: 2.270884\n",
      "Train Epoch: 4 [19200/60000 (32%)]\tLoss: 2.259145\n",
      "Train Epoch: 4 [25600/60000 (43%)]\tLoss: 2.258778\n",
      "Train Epoch: 4 [32000/60000 (53%)]\tLoss: 2.258431\n",
      "Train Epoch: 4 [38400/60000 (64%)]\tLoss: 2.243957\n",
      "Train Epoch: 4 [44800/60000 (75%)]\tLoss: 2.284070\n",
      "Train Epoch: 4 [51200/60000 (85%)]\tLoss: 2.255064\n",
      "Train Epoch: 4 [57600/60000 (96%)]\tLoss: 2.249102\n",
      "\n",
      "Test set: Average loss: 2.2525, Accuracy: 14705/60000 (25%)\n",
      "\n",
      "Train Epoch: 5 [0/60000 (0%)]\tLoss: 2.250757\n",
      "Train Epoch: 5 [6400/60000 (11%)]\tLoss: 2.256540\n",
      "Train Epoch: 5 [12800/60000 (21%)]\tLoss: 2.260612\n",
      "Train Epoch: 5 [19200/60000 (32%)]\tLoss: 2.246204\n",
      "Train Epoch: 5 [25600/60000 (43%)]\tLoss: 2.247457\n",
      "Train Epoch: 5 [32000/60000 (53%)]\tLoss: 2.247637\n",
      "Train Epoch: 5 [38400/60000 (64%)]\tLoss: 2.232019\n",
      "Train Epoch: 5 [44800/60000 (75%)]\tLoss: 2.274724\n",
      "Train Epoch: 5 [51200/60000 (85%)]\tLoss: 2.244221\n",
      "Train Epoch: 5 [57600/60000 (96%)]\tLoss: 2.238004\n",
      "\n",
      "Test set: Average loss: 2.2417, Accuracy: 18829/60000 (31%)\n",
      "\n",
      "Train Epoch: 6 [0/60000 (0%)]\tLoss: 2.240258\n",
      "Train Epoch: 6 [6400/60000 (11%)]\tLoss: 2.245085\n",
      "Train Epoch: 6 [12800/60000 (21%)]\tLoss: 2.250801\n",
      "Train Epoch: 6 [19200/60000 (32%)]\tLoss: 2.234568\n",
      "Train Epoch: 6 [25600/60000 (43%)]\tLoss: 2.237023\n",
      "Train Epoch: 6 [32000/60000 (53%)]\tLoss: 2.237560\n",
      "Train Epoch: 6 [38400/60000 (64%)]\tLoss: 2.220931\n",
      "Train Epoch: 6 [44800/60000 (75%)]\tLoss: 2.265945\n",
      "Train Epoch: 6 [51200/60000 (85%)]\tLoss: 2.234161\n",
      "Train Epoch: 6 [57600/60000 (96%)]\tLoss: 2.227687\n",
      "\n",
      "Test set: Average loss: 2.2316, Accuracy: 23221/60000 (39%)\n",
      "\n",
      "Train Epoch: 7 [0/60000 (0%)]\tLoss: 2.230493\n",
      "Train Epoch: 7 [6400/60000 (11%)]\tLoss: 2.234391\n",
      "Train Epoch: 7 [12800/60000 (21%)]\tLoss: 2.241434\n",
      "Train Epoch: 7 [19200/60000 (32%)]\tLoss: 2.223974\n",
      "Train Epoch: 7 [25600/60000 (43%)]\tLoss: 2.227299\n",
      "Train Epoch: 7 [32000/60000 (53%)]\tLoss: 2.228103\n",
      "Train Epoch: 7 [38400/60000 (64%)]\tLoss: 2.210568\n",
      "Train Epoch: 7 [44800/60000 (75%)]\tLoss: 2.257609\n",
      "Train Epoch: 7 [51200/60000 (85%)]\tLoss: 2.224752\n",
      "Train Epoch: 7 [57600/60000 (96%)]\tLoss: 2.217993\n",
      "\n",
      "Test set: Average loss: 2.2221, Accuracy: 26780/60000 (45%)\n",
      "\n",
      "Train Epoch: 8 [0/60000 (0%)]\tLoss: 2.221304\n",
      "Train Epoch: 8 [6400/60000 (11%)]\tLoss: 2.224339\n",
      "Train Epoch: 8 [12800/60000 (21%)]\tLoss: 2.232463\n",
      "Train Epoch: 8 [19200/60000 (32%)]\tLoss: 2.214160\n",
      "Train Epoch: 8 [25600/60000 (43%)]\tLoss: 2.218123\n",
      "Train Epoch: 8 [32000/60000 (53%)]\tLoss: 2.219155\n",
      "Train Epoch: 8 [38400/60000 (64%)]\tLoss: 2.200808\n",
      "Train Epoch: 8 [44800/60000 (75%)]\tLoss: 2.249600\n",
      "Train Epoch: 8 [51200/60000 (85%)]\tLoss: 2.215869\n",
      "Train Epoch: 8 [57600/60000 (96%)]\tLoss: 2.208789\n",
      "\n",
      "Test set: Average loss: 2.2131, Accuracy: 29391/60000 (49%)\n",
      "\n",
      "Train Epoch: 9 [0/60000 (0%)]\tLoss: 2.212569\n",
      "Train Epoch: 9 [6400/60000 (11%)]\tLoss: 2.214814\n",
      "Train Epoch: 9 [12800/60000 (21%)]\tLoss: 2.223830\n",
      "Train Epoch: 9 [19200/60000 (32%)]\tLoss: 2.204919\n",
      "Train Epoch: 9 [25600/60000 (43%)]\tLoss: 2.209368\n",
      "Train Epoch: 9 [32000/60000 (53%)]\tLoss: 2.210621\n",
      "Train Epoch: 9 [38400/60000 (64%)]\tLoss: 2.191550\n",
      "Train Epoch: 9 [44800/60000 (75%)]\tLoss: 2.241825\n",
      "Train Epoch: 9 [51200/60000 (85%)]\tLoss: 2.207404\n",
      "Train Epoch: 9 [57600/60000 (96%)]\tLoss: 2.199971\n",
      "\n",
      "Test set: Average loss: 2.2045, Accuracy: 31297/60000 (52%)\n",
      "\n",
      "Train Epoch: 10 [0/60000 (0%)]\tLoss: 2.204198\n",
      "Train Epoch: 10 [6400/60000 (11%)]\tLoss: 2.205724\n",
      "Train Epoch: 10 [12800/60000 (21%)]\tLoss: 2.215479\n",
      "Train Epoch: 10 [19200/60000 (32%)]\tLoss: 2.196106\n",
      "Train Epoch: 10 [25600/60000 (43%)]\tLoss: 2.200945\n",
      "Train Epoch: 10 [32000/60000 (53%)]\tLoss: 2.202423\n",
      "Train Epoch: 10 [38400/60000 (64%)]\tLoss: 2.182712\n",
      "Train Epoch: 10 [44800/60000 (75%)]\tLoss: 2.234219\n",
      "Train Epoch: 10 [51200/60000 (85%)]\tLoss: 2.199275\n",
      "Train Epoch: 10 [57600/60000 (96%)]\tLoss: 2.191464\n",
      "\n",
      "Test set: Average loss: 2.1961, Accuracy: 32870/60000 (55%)\n",
      "\n"
     ]
    }
   ],
   "source": [
    "model_s = mnist_network(num_hidden_layers=1,layer_size=20,activation='relu')\n",
    "model_s.activation = torch.nn.Sigmoid()\n",
    "optimizer = optim.SGD(model_s.parameters(),lr=lr)\n",
    "\n",
    "train_s = []\n",
    "\n",
    "for epoch in range(1, epochs + 1):\n",
    "        # Training\n",
    "        train(model_s, train_criterion, train_loader, optimizer, epoch)\n",
    "        train_s.append(test(model_s, test_criterion, train_loader))"
   ]
  },
  {
   "cell_type": "markdown",
   "metadata": {
    "id": "V6PTSxcDd9E2"
   },
   "source": [
    "Test the trained Sigmoid-network on the test data. Print out the accuracy."
   ]
  },
  {
   "cell_type": "code",
   "execution_count": 62,
   "metadata": {
    "id": "qKhk1nq7d9E3"
   },
   "outputs": [
    {
     "name": "stdout",
     "output_type": "stream",
     "text": [
      "\n",
      "Test set: Average loss: 2.1945, Accuracy: 5561/10000 (56%)\n",
      "\n"
     ]
    },
    {
     "data": {
      "text/plain": [
       "55.61"
      ]
     },
     "execution_count": 62,
     "metadata": {},
     "output_type": "execute_result"
    }
   ],
   "source": [
    "test(model_s, test_criterion, test_loader)"
   ]
  },
  {
   "cell_type": "markdown",
   "metadata": {
    "id": "2hpbsbN1d9E4"
   },
   "source": [
    "Train the ReLU-network on the MNIST dataset for 10 epochs with learning rate 0.001. After each epoch, record the current training accuracy of the network. "
   ]
  },
  {
   "cell_type": "code",
   "execution_count": 63,
   "metadata": {
    "id": "fu3wbDf2d9E7"
   },
   "outputs": [
    {
     "name": "stdout",
     "output_type": "stream",
     "text": [
      "Train Epoch: 1 [0/60000 (0%)]\tLoss: 2.281887\n",
      "Train Epoch: 1 [6400/60000 (11%)]\tLoss: 2.217042\n",
      "Train Epoch: 1 [12800/60000 (21%)]\tLoss: 2.294579\n",
      "Train Epoch: 1 [19200/60000 (32%)]\tLoss: 2.148053\n",
      "Train Epoch: 1 [25600/60000 (43%)]\tLoss: 2.133491\n",
      "Train Epoch: 1 [32000/60000 (53%)]\tLoss: 2.118838\n",
      "Train Epoch: 1 [38400/60000 (64%)]\tLoss: 2.027254\n",
      "Train Epoch: 1 [44800/60000 (75%)]\tLoss: 2.099699\n",
      "Train Epoch: 1 [51200/60000 (85%)]\tLoss: 1.917426\n",
      "Train Epoch: 1 [57600/60000 (96%)]\tLoss: 1.996129\n",
      "\n",
      "Test set: Average loss: 1.8640, Accuracy: 24642/60000 (41%)\n",
      "\n",
      "Train Epoch: 2 [0/60000 (0%)]\tLoss: 1.756914\n",
      "Train Epoch: 2 [6400/60000 (11%)]\tLoss: 1.699863\n",
      "Train Epoch: 2 [12800/60000 (21%)]\tLoss: 1.960794\n",
      "Train Epoch: 2 [19200/60000 (32%)]\tLoss: 1.649650\n",
      "Train Epoch: 2 [25600/60000 (43%)]\tLoss: 1.533370\n",
      "Train Epoch: 2 [32000/60000 (53%)]\tLoss: 1.644837\n",
      "Train Epoch: 2 [38400/60000 (64%)]\tLoss: 1.634581\n",
      "Train Epoch: 2 [44800/60000 (75%)]\tLoss: 1.531609\n",
      "Train Epoch: 2 [51200/60000 (85%)]\tLoss: 1.450205\n",
      "Train Epoch: 2 [57600/60000 (96%)]\tLoss: 1.526274\n",
      "\n",
      "Test set: Average loss: 1.3516, Accuracy: 37826/60000 (63%)\n",
      "\n",
      "Train Epoch: 3 [0/60000 (0%)]\tLoss: 1.316581\n",
      "Train Epoch: 3 [6400/60000 (11%)]\tLoss: 1.239222\n",
      "Train Epoch: 3 [12800/60000 (21%)]\tLoss: 1.241424\n",
      "Train Epoch: 3 [19200/60000 (32%)]\tLoss: 1.120924\n",
      "Train Epoch: 3 [25600/60000 (43%)]\tLoss: 0.940467\n",
      "Train Epoch: 3 [32000/60000 (53%)]\tLoss: 1.094005\n",
      "Train Epoch: 3 [38400/60000 (64%)]\tLoss: 1.064625\n",
      "Train Epoch: 3 [44800/60000 (75%)]\tLoss: 1.016214\n",
      "Train Epoch: 3 [51200/60000 (85%)]\tLoss: 0.966735\n",
      "Train Epoch: 3 [57600/60000 (96%)]\tLoss: 1.014855\n",
      "\n",
      "Test set: Average loss: 0.9268, Accuracy: 45260/60000 (75%)\n",
      "\n",
      "Train Epoch: 4 [0/60000 (0%)]\tLoss: 0.936652\n",
      "Train Epoch: 4 [6400/60000 (11%)]\tLoss: 0.924614\n",
      "Train Epoch: 4 [12800/60000 (21%)]\tLoss: 0.890812\n",
      "Train Epoch: 4 [19200/60000 (32%)]\tLoss: 0.777797\n",
      "Train Epoch: 4 [25600/60000 (43%)]\tLoss: 0.692548\n",
      "Train Epoch: 4 [32000/60000 (53%)]\tLoss: 0.866574\n",
      "Train Epoch: 4 [38400/60000 (64%)]\tLoss: 0.875229\n",
      "Train Epoch: 4 [44800/60000 (75%)]\tLoss: 0.816575\n",
      "Train Epoch: 4 [51200/60000 (85%)]\tLoss: 0.802185\n",
      "Train Epoch: 4 [57600/60000 (96%)]\tLoss: 0.883845\n",
      "\n",
      "Test set: Average loss: 0.7927, Accuracy: 46121/60000 (77%)\n",
      "\n",
      "Train Epoch: 5 [0/60000 (0%)]\tLoss: 0.797789\n",
      "Train Epoch: 5 [6400/60000 (11%)]\tLoss: 0.807727\n",
      "Train Epoch: 5 [12800/60000 (21%)]\tLoss: 0.766917\n",
      "Train Epoch: 5 [19200/60000 (32%)]\tLoss: 0.682856\n",
      "Train Epoch: 5 [25600/60000 (43%)]\tLoss: 0.597885\n",
      "Train Epoch: 5 [32000/60000 (53%)]\tLoss: 0.769941\n",
      "Train Epoch: 5 [38400/60000 (64%)]\tLoss: 0.796269\n",
      "Train Epoch: 5 [44800/60000 (75%)]\tLoss: 0.735836\n",
      "Train Epoch: 5 [51200/60000 (85%)]\tLoss: 0.723555\n",
      "Train Epoch: 5 [57600/60000 (96%)]\tLoss: 0.824592\n",
      "\n",
      "Test set: Average loss: 0.7276, Accuracy: 46612/60000 (78%)\n",
      "\n",
      "Train Epoch: 6 [0/60000 (0%)]\tLoss: 0.723001\n",
      "Train Epoch: 6 [6400/60000 (11%)]\tLoss: 0.749109\n",
      "Train Epoch: 6 [12800/60000 (21%)]\tLoss: 0.704244\n",
      "Train Epoch: 6 [19200/60000 (32%)]\tLoss: 0.633270\n",
      "Train Epoch: 6 [25600/60000 (43%)]\tLoss: 0.544363\n",
      "Train Epoch: 6 [32000/60000 (53%)]\tLoss: 0.718154\n",
      "Train Epoch: 6 [38400/60000 (64%)]\tLoss: 0.751379\n",
      "Train Epoch: 6 [44800/60000 (75%)]\tLoss: 0.692432\n",
      "Train Epoch: 6 [51200/60000 (85%)]\tLoss: 0.676200\n",
      "Train Epoch: 6 [57600/60000 (96%)]\tLoss: 0.791701\n",
      "\n",
      "Test set: Average loss: 0.6883, Accuracy: 46962/60000 (78%)\n",
      "\n",
      "Train Epoch: 7 [0/60000 (0%)]\tLoss: 0.674238\n",
      "Train Epoch: 7 [6400/60000 (11%)]\tLoss: 0.713985\n",
      "Train Epoch: 7 [12800/60000 (21%)]\tLoss: 0.664369\n",
      "Train Epoch: 7 [19200/60000 (32%)]\tLoss: 0.601350\n",
      "Train Epoch: 7 [25600/60000 (43%)]\tLoss: 0.508732\n",
      "Train Epoch: 7 [32000/60000 (53%)]\tLoss: 0.685534\n",
      "Train Epoch: 7 [38400/60000 (64%)]\tLoss: 0.721416\n",
      "Train Epoch: 7 [44800/60000 (75%)]\tLoss: 0.665319\n",
      "Train Epoch: 7 [51200/60000 (85%)]\tLoss: 0.645631\n",
      "Train Epoch: 7 [57600/60000 (96%)]\tLoss: 0.771619\n",
      "\n",
      "Test set: Average loss: 0.6615, Accuracy: 47194/60000 (79%)\n",
      "\n",
      "Train Epoch: 8 [0/60000 (0%)]\tLoss: 0.638965\n",
      "Train Epoch: 8 [6400/60000 (11%)]\tLoss: 0.690548\n",
      "Train Epoch: 8 [12800/60000 (21%)]\tLoss: 0.636072\n",
      "Train Epoch: 8 [19200/60000 (32%)]\tLoss: 0.578550\n",
      "Train Epoch: 8 [25600/60000 (43%)]\tLoss: 0.482469\n",
      "Train Epoch: 8 [32000/60000 (53%)]\tLoss: 0.662586\n",
      "Train Epoch: 8 [38400/60000 (64%)]\tLoss: 0.700130\n",
      "Train Epoch: 8 [44800/60000 (75%)]\tLoss: 0.646281\n",
      "Train Epoch: 8 [51200/60000 (85%)]\tLoss: 0.623952\n",
      "Train Epoch: 8 [57600/60000 (96%)]\tLoss: 0.758897\n",
      "\n",
      "Test set: Average loss: 0.6418, Accuracy: 47407/60000 (79%)\n",
      "\n",
      "Train Epoch: 9 [0/60000 (0%)]\tLoss: 0.612075\n",
      "Train Epoch: 9 [6400/60000 (11%)]\tLoss: 0.674097\n",
      "Train Epoch: 9 [12800/60000 (21%)]\tLoss: 0.614408\n",
      "Train Epoch: 9 [19200/60000 (32%)]\tLoss: 0.561181\n",
      "Train Epoch: 9 [25600/60000 (43%)]\tLoss: 0.462030\n",
      "Train Epoch: 9 [32000/60000 (53%)]\tLoss: 0.646933\n",
      "Train Epoch: 9 [38400/60000 (64%)]\tLoss: 0.683693\n",
      "Train Epoch: 9 [44800/60000 (75%)]\tLoss: 0.632435\n",
      "Train Epoch: 9 [51200/60000 (85%)]\tLoss: 0.607484\n",
      "Train Epoch: 9 [57600/60000 (96%)]\tLoss: 0.749298\n",
      "\n",
      "Test set: Average loss: 0.6264, Accuracy: 47583/60000 (79%)\n",
      "\n",
      "Train Epoch: 10 [0/60000 (0%)]\tLoss: 0.590189\n",
      "Train Epoch: 10 [6400/60000 (11%)]\tLoss: 0.662012\n",
      "Train Epoch: 10 [12800/60000 (21%)]\tLoss: 0.597644\n",
      "Train Epoch: 10 [19200/60000 (32%)]\tLoss: 0.547133\n",
      "Train Epoch: 10 [25600/60000 (43%)]\tLoss: 0.445923\n",
      "Train Epoch: 10 [32000/60000 (53%)]\tLoss: 0.633784\n",
      "Train Epoch: 10 [38400/60000 (64%)]\tLoss: 0.670642\n",
      "Train Epoch: 10 [44800/60000 (75%)]\tLoss: 0.622273\n",
      "Train Epoch: 10 [51200/60000 (85%)]\tLoss: 0.593935\n",
      "Train Epoch: 10 [57600/60000 (96%)]\tLoss: 0.742145\n",
      "\n",
      "Test set: Average loss: 0.6140, Accuracy: 47711/60000 (80%)\n",
      "\n"
     ]
    }
   ],
   "source": [
    "model_r = mnist_network(num_hidden_layers=1,layer_size=20,activation='relu')\n",
    "optimizer = optim.SGD(model_r.parameters(),lr=lr)\n",
    "\n",
    "train_r = []\n",
    "\n",
    "for epoch in range(1, epochs + 1):\n",
    "        # Training\n",
    "        train(model_r, train_criterion, train_loader, optimizer, epoch)\n",
    "        train_r.append(test(model_r, test_criterion, train_loader))"
   ]
  },
  {
   "cell_type": "markdown",
   "metadata": {
    "id": "lYOANVPWd9E7"
   },
   "source": [
    "Test the trained ReLU-network on the test data. Print out the accuracy."
   ]
  },
  {
   "cell_type": "code",
   "execution_count": 64,
   "metadata": {
    "id": "Cw_lcZAsd9E8"
   },
   "outputs": [
    {
     "name": "stdout",
     "output_type": "stream",
     "text": [
      "\n",
      "Test set: Average loss: 0.6020, Accuracy: 7980/10000 (80%)\n",
      "\n"
     ]
    },
    {
     "data": {
      "text/plain": [
       "79.8"
      ]
     },
     "execution_count": 64,
     "metadata": {},
     "output_type": "execute_result"
    }
   ],
   "source": [
    "test(model_r, test_criterion, test_loader)"
   ]
  },
  {
   "cell_type": "markdown",
   "metadata": {
    "id": "66X8ymnLd9E8"
   },
   "source": [
    "Train the Tanh-network on the MNIST dataset for 10 epochs with learning rate 0.001. After each epoch, record the current training accuracy of the network. "
   ]
  },
  {
   "cell_type": "code",
   "execution_count": 65,
   "metadata": {
    "id": "m8HulP31d9E9"
   },
   "outputs": [
    {
     "name": "stdout",
     "output_type": "stream",
     "text": [
      "Train Epoch: 1 [0/60000 (0%)]\tLoss: 2.339976\n",
      "Train Epoch: 1 [6400/60000 (11%)]\tLoss: 2.083477\n",
      "Train Epoch: 1 [12800/60000 (21%)]\tLoss: 1.929702\n",
      "Train Epoch: 1 [19200/60000 (32%)]\tLoss: 1.899072\n",
      "Train Epoch: 1 [25600/60000 (43%)]\tLoss: 1.778455\n",
      "Train Epoch: 1 [32000/60000 (53%)]\tLoss: 1.760510\n",
      "Train Epoch: 1 [38400/60000 (64%)]\tLoss: 1.704436\n",
      "Train Epoch: 1 [44800/60000 (75%)]\tLoss: 1.745781\n",
      "Train Epoch: 1 [51200/60000 (85%)]\tLoss: 1.733356\n",
      "Train Epoch: 1 [57600/60000 (96%)]\tLoss: 1.657083\n",
      "\n",
      "Test set: Average loss: 1.6586, Accuracy: 43411/60000 (72%)\n",
      "\n",
      "Train Epoch: 2 [0/60000 (0%)]\tLoss: 1.653630\n",
      "Train Epoch: 2 [6400/60000 (11%)]\tLoss: 1.630653\n",
      "Train Epoch: 2 [12800/60000 (21%)]\tLoss: 1.619556\n",
      "Train Epoch: 2 [19200/60000 (32%)]\tLoss: 1.623303\n",
      "Train Epoch: 2 [25600/60000 (43%)]\tLoss: 1.578895\n",
      "Train Epoch: 2 [32000/60000 (53%)]\tLoss: 1.604777\n",
      "Train Epoch: 2 [38400/60000 (64%)]\tLoss: 1.546601\n",
      "Train Epoch: 2 [44800/60000 (75%)]\tLoss: 1.602877\n",
      "Train Epoch: 2 [51200/60000 (85%)]\tLoss: 1.608471\n",
      "Train Epoch: 2 [57600/60000 (96%)]\tLoss: 1.542407\n",
      "\n",
      "Test set: Average loss: 1.5460, Accuracy: 47812/60000 (80%)\n",
      "\n",
      "Train Epoch: 3 [0/60000 (0%)]\tLoss: 1.541033\n",
      "Train Epoch: 3 [6400/60000 (11%)]\tLoss: 1.518264\n",
      "Train Epoch: 3 [12800/60000 (21%)]\tLoss: 1.525522\n",
      "Train Epoch: 3 [19200/60000 (32%)]\tLoss: 1.526270\n",
      "Train Epoch: 3 [25600/60000 (43%)]\tLoss: 1.500430\n",
      "Train Epoch: 3 [32000/60000 (53%)]\tLoss: 1.529891\n",
      "Train Epoch: 3 [38400/60000 (64%)]\tLoss: 1.465365\n",
      "Train Epoch: 3 [44800/60000 (75%)]\tLoss: 1.530134\n",
      "Train Epoch: 3 [51200/60000 (85%)]\tLoss: 1.534062\n",
      "Train Epoch: 3 [57600/60000 (96%)]\tLoss: 1.474018\n",
      "\n",
      "Test set: Average loss: 1.4782, Accuracy: 49686/60000 (83%)\n",
      "\n",
      "Train Epoch: 4 [0/60000 (0%)]\tLoss: 1.471897\n",
      "Train Epoch: 4 [6400/60000 (11%)]\tLoss: 1.448209\n",
      "Train Epoch: 4 [12800/60000 (21%)]\tLoss: 1.465878\n",
      "Train Epoch: 4 [19200/60000 (32%)]\tLoss: 1.464414\n",
      "Train Epoch: 4 [25600/60000 (43%)]\tLoss: 1.446960\n",
      "Train Epoch: 4 [32000/60000 (53%)]\tLoss: 1.474476\n",
      "Train Epoch: 4 [38400/60000 (64%)]\tLoss: 1.407470\n",
      "Train Epoch: 4 [44800/60000 (75%)]\tLoss: 1.478619\n",
      "Train Epoch: 4 [51200/60000 (85%)]\tLoss: 1.479325\n",
      "Train Epoch: 4 [57600/60000 (96%)]\tLoss: 1.422948\n",
      "\n",
      "Test set: Average loss: 1.4276, Accuracy: 50649/60000 (84%)\n",
      "\n",
      "Train Epoch: 5 [0/60000 (0%)]\tLoss: 1.419244\n",
      "Train Epoch: 5 [6400/60000 (11%)]\tLoss: 1.396086\n",
      "Train Epoch: 5 [12800/60000 (21%)]\tLoss: 1.419674\n",
      "Train Epoch: 5 [19200/60000 (32%)]\tLoss: 1.418471\n",
      "Train Epoch: 5 [25600/60000 (43%)]\tLoss: 1.403967\n",
      "Train Epoch: 5 [32000/60000 (53%)]\tLoss: 1.428925\n",
      "Train Epoch: 5 [38400/60000 (64%)]\tLoss: 1.361804\n",
      "Train Epoch: 5 [44800/60000 (75%)]\tLoss: 1.437657\n",
      "Train Epoch: 5 [51200/60000 (85%)]\tLoss: 1.435258\n",
      "Train Epoch: 5 [57600/60000 (96%)]\tLoss: 1.381601\n",
      "\n",
      "Test set: Average loss: 1.3863, Accuracy: 51214/60000 (85%)\n",
      "\n",
      "Train Epoch: 6 [0/60000 (0%)]\tLoss: 1.375681\n",
      "Train Epoch: 6 [6400/60000 (11%)]\tLoss: 1.353973\n",
      "Train Epoch: 6 [12800/60000 (21%)]\tLoss: 1.380950\n",
      "Train Epoch: 6 [19200/60000 (32%)]\tLoss: 1.381694\n",
      "Train Epoch: 6 [25600/60000 (43%)]\tLoss: 1.367401\n",
      "Train Epoch: 6 [32000/60000 (53%)]\tLoss: 1.390481\n",
      "Train Epoch: 6 [38400/60000 (64%)]\tLoss: 1.324276\n",
      "Train Epoch: 6 [44800/60000 (75%)]\tLoss: 1.403409\n",
      "Train Epoch: 6 [51200/60000 (85%)]\tLoss: 1.397951\n",
      "Train Epoch: 6 [57600/60000 (96%)]\tLoss: 1.346887\n",
      "\n",
      "Test set: Average loss: 1.3515, Accuracy: 51648/60000 (86%)\n",
      "\n",
      "Train Epoch: 7 [0/60000 (0%)]\tLoss: 1.338529\n",
      "Train Epoch: 7 [6400/60000 (11%)]\tLoss: 1.318748\n",
      "Train Epoch: 7 [12800/60000 (21%)]\tLoss: 1.347319\n",
      "Train Epoch: 7 [19200/60000 (32%)]\tLoss: 1.351182\n",
      "Train Epoch: 7 [25600/60000 (43%)]\tLoss: 1.335975\n",
      "Train Epoch: 7 [32000/60000 (53%)]\tLoss: 1.358059\n",
      "Train Epoch: 7 [38400/60000 (64%)]\tLoss: 1.292866\n",
      "Train Epoch: 7 [44800/60000 (75%)]\tLoss: 1.374063\n",
      "Train Epoch: 7 [51200/60000 (85%)]\tLoss: 1.365597\n",
      "Train Epoch: 7 [57600/60000 (96%)]\tLoss: 1.317237\n",
      "\n",
      "Test set: Average loss: 1.3215, Accuracy: 51971/60000 (87%)\n",
      "\n",
      "Train Epoch: 8 [0/60000 (0%)]\tLoss: 1.306477\n",
      "Train Epoch: 8 [6400/60000 (11%)]\tLoss: 1.288790\n",
      "Train Epoch: 8 [12800/60000 (21%)]\tLoss: 1.317505\n",
      "Train Epoch: 8 [19200/60000 (32%)]\tLoss: 1.325275\n",
      "Train Epoch: 8 [25600/60000 (43%)]\tLoss: 1.308811\n",
      "Train Epoch: 8 [32000/60000 (53%)]\tLoss: 1.330597\n",
      "Train Epoch: 8 [38400/60000 (64%)]\tLoss: 1.266326\n",
      "Train Epoch: 8 [44800/60000 (75%)]\tLoss: 1.348563\n",
      "Train Epoch: 8 [51200/60000 (85%)]\tLoss: 1.337181\n",
      "Train Epoch: 8 [57600/60000 (96%)]\tLoss: 1.291643\n",
      "\n",
      "Test set: Average loss: 1.2954, Accuracy: 52252/60000 (87%)\n",
      "\n",
      "Train Epoch: 9 [0/60000 (0%)]\tLoss: 1.278593\n",
      "Train Epoch: 9 [6400/60000 (11%)]\tLoss: 1.263040\n",
      "Train Epoch: 9 [12800/60000 (21%)]\tLoss: 1.290709\n",
      "Train Epoch: 9 [19200/60000 (32%)]\tLoss: 1.302788\n",
      "Train Epoch: 9 [25600/60000 (43%)]\tLoss: 1.285059\n",
      "Train Epoch: 9 [32000/60000 (53%)]\tLoss: 1.307066\n",
      "Train Epoch: 9 [38400/60000 (64%)]\tLoss: 1.243746\n",
      "Train Epoch: 9 [44800/60000 (75%)]\tLoss: 1.326226\n",
      "Train Epoch: 9 [51200/60000 (85%)]\tLoss: 1.312101\n",
      "Train Epoch: 9 [57600/60000 (96%)]\tLoss: 1.269385\n",
      "\n",
      "Test set: Average loss: 1.2724, Accuracy: 52532/60000 (88%)\n",
      "\n",
      "Train Epoch: 10 [0/60000 (0%)]\tLoss: 1.254116\n",
      "Train Epoch: 10 [6400/60000 (11%)]\tLoss: 1.240688\n",
      "Train Epoch: 10 [12800/60000 (21%)]\tLoss: 1.266507\n",
      "Train Epoch: 10 [19200/60000 (32%)]\tLoss: 1.282884\n",
      "Train Epoch: 10 [25600/60000 (43%)]\tLoss: 1.264085\n",
      "Train Epoch: 10 [32000/60000 (53%)]\tLoss: 1.286670\n",
      "Train Epoch: 10 [38400/60000 (64%)]\tLoss: 1.224357\n",
      "Train Epoch: 10 [44800/60000 (75%)]\tLoss: 1.306602\n",
      "Train Epoch: 10 [51200/60000 (85%)]\tLoss: 1.289986\n",
      "Train Epoch: 10 [57600/60000 (96%)]\tLoss: 1.249912\n",
      "\n",
      "Test set: Average loss: 1.2522, Accuracy: 52733/60000 (88%)\n",
      "\n"
     ]
    }
   ],
   "source": [
    "model_t = mnist_network(num_hidden_layers=1,layer_size=20,activation='tanh')\n",
    "optimizer = optim.SGD(model_t.parameters(),lr=lr)\n",
    "\n",
    "train_t = []\n",
    "\n",
    "for epoch in range(1, epochs + 1):\n",
    "        # Training\n",
    "        train(model_t, train_criterion, train_loader, optimizer, epoch)\n",
    "        train_t.append(test(model_t, test_criterion, train_loader))"
   ]
  },
  {
   "cell_type": "markdown",
   "metadata": {
    "id": "qYt6o7Aed9E-"
   },
   "source": [
    "Test the trained Tanh-network on the test data. Print out the accuracy."
   ]
  },
  {
   "cell_type": "code",
   "execution_count": 66,
   "metadata": {
    "id": "q7-YK5gVd9E_"
   },
   "outputs": [
    {
     "name": "stdout",
     "output_type": "stream",
     "text": [
      "\n",
      "Test set: Average loss: 1.2454, Accuracy: 8842/10000 (88%)\n",
      "\n"
     ]
    },
    {
     "data": {
      "text/plain": [
       "88.42"
      ]
     },
     "execution_count": 66,
     "metadata": {},
     "output_type": "execute_result"
    }
   ],
   "source": [
    "test(model_t, test_criterion, test_loader)"
   ]
  },
  {
   "cell_type": "markdown",
   "metadata": {
    "id": "YIGx8kPTd9FA"
   },
   "source": [
    "Plot the training accuracies over the epochs of the networks on the same figure (there should 3 line plots/scatter plots). "
   ]
  },
  {
   "cell_type": "code",
   "execution_count": 67,
   "metadata": {
    "id": "MVy4iVnMd9FA"
   },
   "outputs": [
    {
     "data": {
      "text/plain": [
       "<matplotlib.legend.Legend at 0x7fb52f05eeb0>"
      ]
     },
     "execution_count": 67,
     "metadata": {},
     "output_type": "execute_result"
    },
    {
     "data": {
      "image/png": "[encoded data removed]",
      "text/plain": [
       "<Figure size 432x288 with 1 Axes>"
      ]
     },
     "metadata": {
      "needs_background": "light"
     },
     "output_type": "display_data"
    }
   ],
   "source": [
    "plt.plot(train_s, label = 'Sigmoid')\n",
    "plt.plot(train_r, label = 'Relu')\n",
    "plt.plot(train_t, label = 'Tanh')\n",
    "plt.legend()"
   ]
  },
  {
   "cell_type": "markdown",
   "metadata": {
    "id": "aCGjP911d9FB"
   },
   "source": [
    "What is your conclustion on the effect of varying the activation functions on the performance of a neural network trained on MNIST dataset?"
   ]
  },
  {
   "cell_type": "markdown",
   "metadata": {},
   "source": [
    "The tanh function appeared to give the highest accuracy, while the relu converged to a lower point and the sigmoid did not seem converge after 10 epochs, so perhaps the sigmoid still has potential as a slow learner."
   ]
  },
  {
   "cell_type": "markdown",
   "metadata": {
    "id": "KiAZ36IdhMvG"
   },
   "source": [
    "## Part d"
   ]
  },
  {
   "cell_type": "markdown",
   "metadata": {
    "id": "8H1N3i-derH7"
   },
   "source": [
    "Finally, we will look into the effect of varying the value of the learning rate on the performance of a neural network. Create a network with one hidden layer of size 20 and ReLU activation."
   ]
  },
  {
   "cell_type": "code",
   "execution_count": 68,
   "metadata": {
    "id": "WKp-TYHlea9w"
   },
   "outputs": [],
   "source": [
    "# Number of training epochs\n",
    "epochs = 10\n",
    "# Learning rate\n",
    "lr = 0.1\n",
    "\n",
    "# Define the training and testing loss\n",
    "train_criterion = nn.CrossEntropyLoss()\n",
    "test_criterion = nn.CrossEntropyLoss(reduction='sum')"
   ]
  },
  {
   "cell_type": "markdown",
   "metadata": {
    "id": "vUFgUcGUfG7z"
   },
   "source": [
    "Train the network on the MNIST dataset for 10 epochs. Set the learning rate to be 0.1. After each epoch, record the current training accuracy of the network. "
   ]
  },
  {
   "cell_type": "code",
   "execution_count": 69,
   "metadata": {
    "id": "KtLuEUNKfG72"
   },
   "outputs": [
    {
     "name": "stdout",
     "output_type": "stream",
     "text": [
      "Train Epoch: 1 [0/60000 (0%)]\tLoss: 2.324512\n",
      "Train Epoch: 1 [6400/60000 (11%)]\tLoss: 0.312341\n",
      "Train Epoch: 1 [12800/60000 (21%)]\tLoss: 0.254524\n",
      "Train Epoch: 1 [19200/60000 (32%)]\tLoss: 0.313385\n",
      "Train Epoch: 1 [25600/60000 (43%)]\tLoss: 0.211388\n",
      "Train Epoch: 1 [32000/60000 (53%)]\tLoss: 0.328997\n",
      "Train Epoch: 1 [38400/60000 (64%)]\tLoss: 0.222577\n",
      "Train Epoch: 1 [44800/60000 (75%)]\tLoss: 0.268873\n",
      "Train Epoch: 1 [51200/60000 (85%)]\tLoss: 0.236029\n",
      "Train Epoch: 1 [57600/60000 (96%)]\tLoss: 0.303315\n",
      "\n",
      "Test set: Average loss: 0.2253, Accuracy: 55840/60000 (93%)\n",
      "\n",
      "Train Epoch: 2 [0/60000 (0%)]\tLoss: 0.139828\n",
      "Train Epoch: 2 [6400/60000 (11%)]\tLoss: 0.197228\n",
      "Train Epoch: 2 [12800/60000 (21%)]\tLoss: 0.132884\n",
      "Train Epoch: 2 [19200/60000 (32%)]\tLoss: 0.228968\n",
      "Train Epoch: 2 [25600/60000 (43%)]\tLoss: 0.161075\n",
      "Train Epoch: 2 [32000/60000 (53%)]\tLoss: 0.236868\n",
      "Train Epoch: 2 [38400/60000 (64%)]\tLoss: 0.160275\n",
      "Train Epoch: 2 [44800/60000 (75%)]\tLoss: 0.241555\n",
      "Train Epoch: 2 [51200/60000 (85%)]\tLoss: 0.163595\n",
      "Train Epoch: 2 [57600/60000 (96%)]\tLoss: 0.269563\n",
      "\n",
      "Test set: Average loss: 0.1685, Accuracy: 56862/60000 (95%)\n",
      "\n",
      "Train Epoch: 3 [0/60000 (0%)]\tLoss: 0.112471\n",
      "Train Epoch: 3 [6400/60000 (11%)]\tLoss: 0.124982\n",
      "Train Epoch: 3 [12800/60000 (21%)]\tLoss: 0.110417\n",
      "Train Epoch: 3 [19200/60000 (32%)]\tLoss: 0.224524\n",
      "Train Epoch: 3 [25600/60000 (43%)]\tLoss: 0.150086\n",
      "Train Epoch: 3 [32000/60000 (53%)]\tLoss: 0.196960\n",
      "Train Epoch: 3 [38400/60000 (64%)]\tLoss: 0.100432\n",
      "Train Epoch: 3 [44800/60000 (75%)]\tLoss: 0.195327\n",
      "Train Epoch: 3 [51200/60000 (85%)]\tLoss: 0.163248\n",
      "Train Epoch: 3 [57600/60000 (96%)]\tLoss: 0.251062\n",
      "\n",
      "Test set: Average loss: 0.1504, Accuracy: 57184/60000 (95%)\n",
      "\n",
      "Train Epoch: 4 [0/60000 (0%)]\tLoss: 0.111182\n",
      "Train Epoch: 4 [6400/60000 (11%)]\tLoss: 0.092998\n",
      "Train Epoch: 4 [12800/60000 (21%)]\tLoss: 0.098265\n",
      "Train Epoch: 4 [19200/60000 (32%)]\tLoss: 0.173106\n",
      "Train Epoch: 4 [25600/60000 (43%)]\tLoss: 0.126528\n",
      "Train Epoch: 4 [32000/60000 (53%)]\tLoss: 0.194421\n",
      "Train Epoch: 4 [38400/60000 (64%)]\tLoss: 0.112932\n",
      "Train Epoch: 4 [44800/60000 (75%)]\tLoss: 0.166068\n",
      "Train Epoch: 4 [51200/60000 (85%)]\tLoss: 0.156627\n",
      "Train Epoch: 4 [57600/60000 (96%)]\tLoss: 0.228048\n",
      "\n",
      "Test set: Average loss: 0.1362, Accuracy: 57454/60000 (96%)\n",
      "\n",
      "Train Epoch: 5 [0/60000 (0%)]\tLoss: 0.104668\n",
      "Train Epoch: 5 [6400/60000 (11%)]\tLoss: 0.077030\n",
      "Train Epoch: 5 [12800/60000 (21%)]\tLoss: 0.079599\n",
      "Train Epoch: 5 [19200/60000 (32%)]\tLoss: 0.141657\n",
      "Train Epoch: 5 [25600/60000 (43%)]\tLoss: 0.112371\n",
      "Train Epoch: 5 [32000/60000 (53%)]\tLoss: 0.201750\n",
      "Train Epoch: 5 [38400/60000 (64%)]\tLoss: 0.135284\n",
      "Train Epoch: 5 [44800/60000 (75%)]\tLoss: 0.148029\n",
      "Train Epoch: 5 [51200/60000 (85%)]\tLoss: 0.161087\n",
      "Train Epoch: 5 [57600/60000 (96%)]\tLoss: 0.209256\n",
      "\n",
      "Test set: Average loss: 0.1322, Accuracy: 57533/60000 (96%)\n",
      "\n",
      "Train Epoch: 6 [0/60000 (0%)]\tLoss: 0.115813\n",
      "Train Epoch: 6 [6400/60000 (11%)]\tLoss: 0.071467\n",
      "Train Epoch: 6 [12800/60000 (21%)]\tLoss: 0.068759\n",
      "Train Epoch: 6 [19200/60000 (32%)]\tLoss: 0.116211\n",
      "Train Epoch: 6 [25600/60000 (43%)]\tLoss: 0.094429\n",
      "Train Epoch: 6 [32000/60000 (53%)]\tLoss: 0.208769\n",
      "Train Epoch: 6 [38400/60000 (64%)]\tLoss: 0.145213\n",
      "Train Epoch: 6 [44800/60000 (75%)]\tLoss: 0.127880\n",
      "Train Epoch: 6 [51200/60000 (85%)]\tLoss: 0.151395\n",
      "Train Epoch: 6 [57600/60000 (96%)]\tLoss: 0.181021\n",
      "\n",
      "Test set: Average loss: 0.1244, Accuracy: 57652/60000 (96%)\n",
      "\n",
      "Train Epoch: 7 [0/60000 (0%)]\tLoss: 0.112015\n",
      "Train Epoch: 7 [6400/60000 (11%)]\tLoss: 0.057496\n",
      "Train Epoch: 7 [12800/60000 (21%)]\tLoss: 0.071202\n",
      "Train Epoch: 7 [19200/60000 (32%)]\tLoss: 0.098883\n",
      "Train Epoch: 7 [25600/60000 (43%)]\tLoss: 0.096744\n",
      "Train Epoch: 7 [32000/60000 (53%)]\tLoss: 0.195164\n",
      "Train Epoch: 7 [38400/60000 (64%)]\tLoss: 0.140555\n",
      "Train Epoch: 7 [44800/60000 (75%)]\tLoss: 0.116852\n",
      "Train Epoch: 7 [51200/60000 (85%)]\tLoss: 0.144675\n",
      "Train Epoch: 7 [57600/60000 (96%)]\tLoss: 0.171584\n",
      "\n",
      "Test set: Average loss: 0.1157, Accuracy: 57846/60000 (96%)\n",
      "\n",
      "Train Epoch: 8 [0/60000 (0%)]\tLoss: 0.100874\n",
      "Train Epoch: 8 [6400/60000 (11%)]\tLoss: 0.049888\n",
      "Train Epoch: 8 [12800/60000 (21%)]\tLoss: 0.065431\n",
      "Train Epoch: 8 [19200/60000 (32%)]\tLoss: 0.098656\n",
      "Train Epoch: 8 [25600/60000 (43%)]\tLoss: 0.091312\n",
      "Train Epoch: 8 [32000/60000 (53%)]\tLoss: 0.178458\n",
      "Train Epoch: 8 [38400/60000 (64%)]\tLoss: 0.141795\n",
      "Train Epoch: 8 [44800/60000 (75%)]\tLoss: 0.101325\n",
      "Train Epoch: 8 [51200/60000 (85%)]\tLoss: 0.149491\n",
      "Train Epoch: 8 [57600/60000 (96%)]\tLoss: 0.160454\n",
      "\n",
      "Test set: Average loss: 0.1144, Accuracy: 57871/60000 (96%)\n",
      "\n",
      "Train Epoch: 9 [0/60000 (0%)]\tLoss: 0.097544\n",
      "Train Epoch: 9 [6400/60000 (11%)]\tLoss: 0.042563\n",
      "Train Epoch: 9 [12800/60000 (21%)]\tLoss: 0.057320\n",
      "Train Epoch: 9 [19200/60000 (32%)]\tLoss: 0.081184\n",
      "Train Epoch: 9 [25600/60000 (43%)]\tLoss: 0.093119\n",
      "Train Epoch: 9 [32000/60000 (53%)]\tLoss: 0.171133\n",
      "Train Epoch: 9 [38400/60000 (64%)]\tLoss: 0.133179\n",
      "Train Epoch: 9 [44800/60000 (75%)]\tLoss: 0.097496\n",
      "Train Epoch: 9 [51200/60000 (85%)]\tLoss: 0.144246\n",
      "Train Epoch: 9 [57600/60000 (96%)]\tLoss: 0.158419\n",
      "\n",
      "Test set: Average loss: 0.1114, Accuracy: 57920/60000 (97%)\n",
      "\n",
      "Train Epoch: 10 [0/60000 (0%)]\tLoss: 0.088668\n",
      "Train Epoch: 10 [6400/60000 (11%)]\tLoss: 0.036727\n",
      "Train Epoch: 10 [12800/60000 (21%)]\tLoss: 0.055895\n",
      "Train Epoch: 10 [19200/60000 (32%)]\tLoss: 0.075764\n",
      "Train Epoch: 10 [25600/60000 (43%)]\tLoss: 0.089220\n",
      "Train Epoch: 10 [32000/60000 (53%)]\tLoss: 0.145999\n",
      "Train Epoch: 10 [38400/60000 (64%)]\tLoss: 0.131782\n",
      "Train Epoch: 10 [44800/60000 (75%)]\tLoss: 0.099017\n",
      "Train Epoch: 10 [51200/60000 (85%)]\tLoss: 0.146621\n",
      "Train Epoch: 10 [57600/60000 (96%)]\tLoss: 0.144274\n",
      "\n",
      "Test set: Average loss: 0.1098, Accuracy: 57939/60000 (97%)\n",
      "\n"
     ]
    }
   ],
   "source": [
    "model_a = mnist_network(num_hidden_layers=1,layer_size=20,activation='relu')\n",
    "lr = 0.1\n",
    "optimizer = optim.SGD(model_a.parameters(),lr=lr)\n",
    "\n",
    "train_a = []\n",
    "\n",
    "for epoch in range(1, epochs + 1):\n",
    "        # Training\n",
    "        train(model_a, train_criterion, train_loader, optimizer, epoch)\n",
    "        train_a.append(test(model_a, test_criterion, train_loader))"
   ]
  },
  {
   "cell_type": "markdown",
   "metadata": {
    "id": "oC5CD3zmfG73"
   },
   "source": [
    "Test the trained network on the test data. Print out the accuracy."
   ]
  },
  {
   "cell_type": "code",
   "execution_count": 70,
   "metadata": {
    "id": "yT04G-BLfG74"
   },
   "outputs": [
    {
     "name": "stdout",
     "output_type": "stream",
     "text": [
      "\n",
      "Test set: Average loss: 0.1575, Accuracy: 9559/10000 (96%)\n",
      "\n"
     ]
    },
    {
     "data": {
      "text/plain": [
       "95.59"
      ]
     },
     "execution_count": 70,
     "metadata": {},
     "output_type": "execute_result"
    }
   ],
   "source": [
    "test(model_a, test_criterion, test_loader)"
   ]
  },
  {
   "cell_type": "markdown",
   "metadata": {
    "id": "REVtrsiqfG75"
   },
   "source": [
    "Train the network on the MNIST dataset for 10 epochs. Set the learning rate to be 0.01. After each epoch, record the current training accuracy of the network. "
   ]
  },
  {
   "cell_type": "code",
   "execution_count": 71,
   "metadata": {
    "id": "aEXtS_XEfG76"
   },
   "outputs": [
    {
     "name": "stdout",
     "output_type": "stream",
     "text": [
      "Train Epoch: 1 [0/60000 (0%)]\tLoss: 2.298980\n",
      "Train Epoch: 1 [6400/60000 (11%)]\tLoss: 1.415908\n",
      "Train Epoch: 1 [12800/60000 (21%)]\tLoss: 1.323044\n",
      "Train Epoch: 1 [19200/60000 (32%)]\tLoss: 1.202785\n",
      "Train Epoch: 1 [25600/60000 (43%)]\tLoss: 0.837407\n",
      "Train Epoch: 1 [32000/60000 (53%)]\tLoss: 0.798797\n",
      "Train Epoch: 1 [38400/60000 (64%)]\tLoss: 0.765324\n",
      "Train Epoch: 1 [44800/60000 (75%)]\tLoss: 0.963126\n",
      "Train Epoch: 1 [51200/60000 (85%)]\tLoss: 0.911553\n",
      "Train Epoch: 1 [57600/60000 (96%)]\tLoss: 0.979912\n",
      "\n",
      "Test set: Average loss: 0.8162, Accuracy: 43478/60000 (72%)\n",
      "\n",
      "Train Epoch: 2 [0/60000 (0%)]\tLoss: 0.675400\n",
      "Train Epoch: 2 [6400/60000 (11%)]\tLoss: 0.627203\n",
      "Train Epoch: 2 [12800/60000 (21%)]\tLoss: 0.695437\n",
      "Train Epoch: 2 [19200/60000 (32%)]\tLoss: 0.908638\n",
      "Train Epoch: 2 [25600/60000 (43%)]\tLoss: 0.662911\n",
      "Train Epoch: 2 [32000/60000 (53%)]\tLoss: 0.675273\n",
      "Train Epoch: 2 [38400/60000 (64%)]\tLoss: 0.636540\n",
      "Train Epoch: 2 [44800/60000 (75%)]\tLoss: 0.893298\n",
      "Train Epoch: 2 [51200/60000 (85%)]\tLoss: 0.800239\n",
      "Train Epoch: 2 [57600/60000 (96%)]\tLoss: 0.931625\n",
      "\n",
      "Test set: Average loss: 0.7446, Accuracy: 44339/60000 (74%)\n",
      "\n",
      "Train Epoch: 3 [0/60000 (0%)]\tLoss: 0.583531\n",
      "Train Epoch: 3 [6400/60000 (11%)]\tLoss: 0.592212\n",
      "Train Epoch: 3 [12800/60000 (21%)]\tLoss: 0.620640\n",
      "Train Epoch: 3 [19200/60000 (32%)]\tLoss: 0.878048\n",
      "Train Epoch: 3 [25600/60000 (43%)]\tLoss: 0.623821\n",
      "Train Epoch: 3 [32000/60000 (53%)]\tLoss: 0.640307\n",
      "Train Epoch: 3 [38400/60000 (64%)]\tLoss: 0.600952\n",
      "Train Epoch: 3 [44800/60000 (75%)]\tLoss: 0.887341\n",
      "Train Epoch: 3 [51200/60000 (85%)]\tLoss: 0.756342\n",
      "Train Epoch: 3 [57600/60000 (96%)]\tLoss: 0.910970\n",
      "\n",
      "Test set: Average loss: 0.7137, Accuracy: 44703/60000 (75%)\n",
      "\n",
      "Train Epoch: 4 [0/60000 (0%)]\tLoss: 0.550697\n",
      "Train Epoch: 4 [6400/60000 (11%)]\tLoss: 0.568239\n",
      "Train Epoch: 4 [12800/60000 (21%)]\tLoss: 0.588444\n",
      "Train Epoch: 4 [19200/60000 (32%)]\tLoss: 0.865209\n",
      "Train Epoch: 4 [25600/60000 (43%)]\tLoss: 0.600921\n",
      "Train Epoch: 4 [32000/60000 (53%)]\tLoss: 0.621725\n",
      "Train Epoch: 4 [38400/60000 (64%)]\tLoss: 0.584999\n",
      "Train Epoch: 4 [44800/60000 (75%)]\tLoss: 0.888465\n",
      "Train Epoch: 4 [51200/60000 (85%)]\tLoss: 0.731478\n",
      "Train Epoch: 4 [57600/60000 (96%)]\tLoss: 0.893326\n",
      "\n",
      "Test set: Average loss: 0.6933, Accuracy: 44926/60000 (75%)\n",
      "\n",
      "Train Epoch: 5 [0/60000 (0%)]\tLoss: 0.536483\n",
      "Train Epoch: 5 [6400/60000 (11%)]\tLoss: 0.543123\n",
      "Train Epoch: 5 [12800/60000 (21%)]\tLoss: 0.567843\n",
      "Train Epoch: 5 [19200/60000 (32%)]\tLoss: 0.850565\n",
      "Train Epoch: 5 [25600/60000 (43%)]\tLoss: 0.588987\n",
      "Train Epoch: 5 [32000/60000 (53%)]\tLoss: 0.613429\n",
      "Train Epoch: 5 [38400/60000 (64%)]\tLoss: 0.573629\n",
      "Train Epoch: 5 [44800/60000 (75%)]\tLoss: 0.886284\n",
      "Train Epoch: 5 [51200/60000 (85%)]\tLoss: 0.710770\n",
      "Train Epoch: 5 [57600/60000 (96%)]\tLoss: 0.879190\n",
      "\n",
      "Test set: Average loss: 0.6778, Accuracy: 45138/60000 (75%)\n",
      "\n",
      "Train Epoch: 6 [0/60000 (0%)]\tLoss: 0.528496\n",
      "Train Epoch: 6 [6400/60000 (11%)]\tLoss: 0.522225\n",
      "Train Epoch: 6 [12800/60000 (21%)]\tLoss: 0.554385\n",
      "Train Epoch: 6 [19200/60000 (32%)]\tLoss: 0.831553\n",
      "Train Epoch: 6 [25600/60000 (43%)]\tLoss: 0.574143\n",
      "Train Epoch: 6 [32000/60000 (53%)]\tLoss: 0.607277\n",
      "Train Epoch: 6 [38400/60000 (64%)]\tLoss: 0.562679\n",
      "Train Epoch: 6 [44800/60000 (75%)]\tLoss: 0.885489\n",
      "Train Epoch: 6 [51200/60000 (85%)]\tLoss: 0.696746\n",
      "Train Epoch: 6 [57600/60000 (96%)]\tLoss: 0.866379\n",
      "\n",
      "Test set: Average loss: 0.6653, Accuracy: 45300/60000 (76%)\n",
      "\n",
      "Train Epoch: 7 [0/60000 (0%)]\tLoss: 0.517867\n",
      "Train Epoch: 7 [6400/60000 (11%)]\tLoss: 0.509298\n",
      "Train Epoch: 7 [12800/60000 (21%)]\tLoss: 0.544725\n",
      "Train Epoch: 7 [19200/60000 (32%)]\tLoss: 0.813968\n",
      "Train Epoch: 7 [25600/60000 (43%)]\tLoss: 0.563698\n",
      "Train Epoch: 7 [32000/60000 (53%)]\tLoss: 0.588916\n",
      "Train Epoch: 7 [38400/60000 (64%)]\tLoss: 0.551228\n",
      "Train Epoch: 7 [44800/60000 (75%)]\tLoss: 0.879637\n",
      "Train Epoch: 7 [51200/60000 (85%)]\tLoss: 0.675821\n",
      "Train Epoch: 7 [57600/60000 (96%)]\tLoss: 0.856169\n",
      "\n",
      "Test set: Average loss: 0.6543, Accuracy: 45436/60000 (76%)\n",
      "\n",
      "Train Epoch: 8 [0/60000 (0%)]\tLoss: 0.509052\n",
      "Train Epoch: 8 [6400/60000 (11%)]\tLoss: 0.495396\n",
      "Train Epoch: 8 [12800/60000 (21%)]\tLoss: 0.537554\n",
      "Train Epoch: 8 [19200/60000 (32%)]\tLoss: 0.799301\n",
      "Train Epoch: 8 [25600/60000 (43%)]\tLoss: 0.552130\n",
      "Train Epoch: 8 [32000/60000 (53%)]\tLoss: 0.579908\n",
      "Train Epoch: 8 [38400/60000 (64%)]\tLoss: 0.541948\n",
      "Train Epoch: 8 [44800/60000 (75%)]\tLoss: 0.874071\n",
      "Train Epoch: 8 [51200/60000 (85%)]\tLoss: 0.661048\n",
      "Train Epoch: 8 [57600/60000 (96%)]\tLoss: 0.845504\n",
      "\n",
      "Test set: Average loss: 0.6451, Accuracy: 45549/60000 (76%)\n",
      "\n",
      "Train Epoch: 9 [0/60000 (0%)]\tLoss: 0.497810\n",
      "Train Epoch: 9 [6400/60000 (11%)]\tLoss: 0.481755\n",
      "Train Epoch: 9 [12800/60000 (21%)]\tLoss: 0.533681\n",
      "Train Epoch: 9 [19200/60000 (32%)]\tLoss: 0.784368\n",
      "Train Epoch: 9 [25600/60000 (43%)]\tLoss: 0.544574\n",
      "Train Epoch: 9 [32000/60000 (53%)]\tLoss: 0.570323\n",
      "Train Epoch: 9 [38400/60000 (64%)]\tLoss: 0.535745\n",
      "Train Epoch: 9 [44800/60000 (75%)]\tLoss: 0.865992\n",
      "Train Epoch: 9 [51200/60000 (85%)]\tLoss: 0.650129\n",
      "Train Epoch: 9 [57600/60000 (96%)]\tLoss: 0.834754\n",
      "\n",
      "Test set: Average loss: 0.6371, Accuracy: 45663/60000 (76%)\n",
      "\n",
      "Train Epoch: 10 [0/60000 (0%)]\tLoss: 0.486285\n",
      "Train Epoch: 10 [6400/60000 (11%)]\tLoss: 0.469220\n",
      "Train Epoch: 10 [12800/60000 (21%)]\tLoss: 0.528691\n",
      "Train Epoch: 10 [19200/60000 (32%)]\tLoss: 0.770642\n",
      "Train Epoch: 10 [25600/60000 (43%)]\tLoss: 0.537360\n",
      "Train Epoch: 10 [32000/60000 (53%)]\tLoss: 0.562156\n",
      "Train Epoch: 10 [38400/60000 (64%)]\tLoss: 0.531304\n",
      "Train Epoch: 10 [44800/60000 (75%)]\tLoss: 0.856225\n",
      "Train Epoch: 10 [51200/60000 (85%)]\tLoss: 0.638969\n",
      "Train Epoch: 10 [57600/60000 (96%)]\tLoss: 0.825931\n",
      "\n",
      "Test set: Average loss: 0.6304, Accuracy: 45740/60000 (76%)\n",
      "\n"
     ]
    }
   ],
   "source": [
    "model_b = mnist_network(num_hidden_layers=1,layer_size=20,activation='relu')\n",
    "lr = 0.01\n",
    "optimizer = optim.SGD(model_b.parameters(),lr=lr)\n",
    "\n",
    "train_b = []\n",
    "\n",
    "for epoch in range(1, epochs + 1):\n",
    "        # Training\n",
    "        train(model_b, train_criterion, train_loader, optimizer, epoch)\n",
    "        train_b.append(test(model_b, test_criterion, train_loader))"
   ]
  },
  {
   "cell_type": "markdown",
   "metadata": {
    "id": "z2dLcxgdfG77"
   },
   "source": [
    "Test the trained network on the test data. Print out the accuracy."
   ]
  },
  {
   "cell_type": "code",
   "execution_count": 72,
   "metadata": {
    "id": "pT9_RHk_fG78"
   },
   "outputs": [
    {
     "name": "stdout",
     "output_type": "stream",
     "text": [
      "\n",
      "Test set: Average loss: 0.6322, Accuracy: 7638/10000 (76%)\n",
      "\n"
     ]
    },
    {
     "data": {
      "text/plain": [
       "76.38"
      ]
     },
     "execution_count": 72,
     "metadata": {},
     "output_type": "execute_result"
    }
   ],
   "source": [
    "test(model_b, test_criterion, test_loader)"
   ]
  },
  {
   "cell_type": "markdown",
   "metadata": {
    "id": "iJu3jwdKfG79"
   },
   "source": [
    "Train the network on the MNIST dataset for 10 epochs. Set the learning rate to 0.001. After each epoch, record the current training accuracy of the network. "
   ]
  },
  {
   "cell_type": "code",
   "execution_count": 73,
   "metadata": {
    "id": "U_GDwCxkfG7-"
   },
   "outputs": [
    {
     "name": "stdout",
     "output_type": "stream",
     "text": [
      "Train Epoch: 1 [0/60000 (0%)]\tLoss: 2.353023\n",
      "Train Epoch: 1 [6400/60000 (11%)]\tLoss: 2.293145\n",
      "Train Epoch: 1 [12800/60000 (21%)]\tLoss: 2.178953\n",
      "Train Epoch: 1 [19200/60000 (32%)]\tLoss: 2.157175\n",
      "Train Epoch: 1 [25600/60000 (43%)]\tLoss: 2.056528\n",
      "Train Epoch: 1 [32000/60000 (53%)]\tLoss: 2.012466\n",
      "Train Epoch: 1 [38400/60000 (64%)]\tLoss: 1.778736\n",
      "Train Epoch: 1 [44800/60000 (75%)]\tLoss: 1.817686\n",
      "Train Epoch: 1 [51200/60000 (85%)]\tLoss: 1.699716\n",
      "Train Epoch: 1 [57600/60000 (96%)]\tLoss: 1.477475\n",
      "\n",
      "Test set: Average loss: 1.5282, Accuracy: 39361/60000 (66%)\n",
      "\n",
      "Train Epoch: 2 [0/60000 (0%)]\tLoss: 1.623578\n",
      "Train Epoch: 2 [6400/60000 (11%)]\tLoss: 1.456735\n",
      "Train Epoch: 2 [12800/60000 (21%)]\tLoss: 1.307255\n",
      "Train Epoch: 2 [19200/60000 (32%)]\tLoss: 1.257192\n",
      "Train Epoch: 2 [25600/60000 (43%)]\tLoss: 1.343965\n",
      "Train Epoch: 2 [32000/60000 (53%)]\tLoss: 1.304283\n",
      "Train Epoch: 2 [38400/60000 (64%)]\tLoss: 0.936449\n",
      "Train Epoch: 2 [44800/60000 (75%)]\tLoss: 1.201425\n",
      "Train Epoch: 2 [51200/60000 (85%)]\tLoss: 1.149564\n",
      "Train Epoch: 2 [57600/60000 (96%)]\tLoss: 0.922443\n",
      "\n",
      "Test set: Average loss: 1.0156, Accuracy: 45395/60000 (76%)\n",
      "\n",
      "Train Epoch: 3 [0/60000 (0%)]\tLoss: 1.113865\n",
      "Train Epoch: 3 [6400/60000 (11%)]\tLoss: 0.934241\n",
      "Train Epoch: 3 [12800/60000 (21%)]\tLoss: 0.871322\n",
      "Train Epoch: 3 [19200/60000 (32%)]\tLoss: 0.878541\n",
      "Train Epoch: 3 [25600/60000 (43%)]\tLoss: 1.080655\n",
      "Train Epoch: 3 [32000/60000 (53%)]\tLoss: 1.046979\n",
      "Train Epoch: 3 [38400/60000 (64%)]\tLoss: 0.659038\n",
      "Train Epoch: 3 [44800/60000 (75%)]\tLoss: 0.930863\n",
      "Train Epoch: 3 [51200/60000 (85%)]\tLoss: 0.927686\n",
      "Train Epoch: 3 [57600/60000 (96%)]\tLoss: 0.744721\n",
      "\n",
      "Test set: Average loss: 0.8352, Accuracy: 46789/60000 (78%)\n",
      "\n",
      "Train Epoch: 4 [0/60000 (0%)]\tLoss: 0.937301\n",
      "Train Epoch: 4 [6400/60000 (11%)]\tLoss: 0.753811\n",
      "Train Epoch: 4 [12800/60000 (21%)]\tLoss: 0.700586\n",
      "Train Epoch: 4 [19200/60000 (32%)]\tLoss: 0.741067\n",
      "Train Epoch: 4 [25600/60000 (43%)]\tLoss: 0.973972\n",
      "Train Epoch: 4 [32000/60000 (53%)]\tLoss: 0.922415\n",
      "Train Epoch: 4 [38400/60000 (64%)]\tLoss: 0.550535\n",
      "Train Epoch: 4 [44800/60000 (75%)]\tLoss: 0.804712\n",
      "Train Epoch: 4 [51200/60000 (85%)]\tLoss: 0.815086\n",
      "Train Epoch: 4 [57600/60000 (96%)]\tLoss: 0.666530\n",
      "\n",
      "Test set: Average loss: 0.7466, Accuracy: 47537/60000 (79%)\n",
      "\n",
      "Train Epoch: 5 [0/60000 (0%)]\tLoss: 0.844682\n",
      "Train Epoch: 5 [6400/60000 (11%)]\tLoss: 0.662456\n",
      "Train Epoch: 5 [12800/60000 (21%)]\tLoss: 0.614482\n",
      "Train Epoch: 5 [19200/60000 (32%)]\tLoss: 0.673963\n",
      "Train Epoch: 5 [25600/60000 (43%)]\tLoss: 0.908774\n",
      "Train Epoch: 5 [32000/60000 (53%)]\tLoss: 0.849929\n",
      "Train Epoch: 5 [38400/60000 (64%)]\tLoss: 0.489985\n",
      "Train Epoch: 5 [44800/60000 (75%)]\tLoss: 0.732203\n",
      "Train Epoch: 5 [51200/60000 (85%)]\tLoss: 0.745532\n",
      "Train Epoch: 5 [57600/60000 (96%)]\tLoss: 0.622307\n",
      "\n",
      "Test set: Average loss: 0.6925, Accuracy: 47901/60000 (80%)\n",
      "\n",
      "Train Epoch: 6 [0/60000 (0%)]\tLoss: 0.782359\n",
      "Train Epoch: 6 [6400/60000 (11%)]\tLoss: 0.606320\n",
      "Train Epoch: 6 [12800/60000 (21%)]\tLoss: 0.562650\n",
      "Train Epoch: 6 [19200/60000 (32%)]\tLoss: 0.632474\n",
      "Train Epoch: 6 [25600/60000 (43%)]\tLoss: 0.862520\n",
      "Train Epoch: 6 [32000/60000 (53%)]\tLoss: 0.803974\n",
      "Train Epoch: 6 [38400/60000 (64%)]\tLoss: 0.450305\n",
      "Train Epoch: 6 [44800/60000 (75%)]\tLoss: 0.685472\n",
      "Train Epoch: 6 [51200/60000 (85%)]\tLoss: 0.698506\n",
      "Train Epoch: 6 [57600/60000 (96%)]\tLoss: 0.593154\n",
      "\n",
      "Test set: Average loss: 0.6556, Accuracy: 48193/60000 (80%)\n",
      "\n",
      "Train Epoch: 7 [0/60000 (0%)]\tLoss: 0.737935\n",
      "Train Epoch: 7 [6400/60000 (11%)]\tLoss: 0.569005\n",
      "Train Epoch: 7 [12800/60000 (21%)]\tLoss: 0.527740\n",
      "Train Epoch: 7 [19200/60000 (32%)]\tLoss: 0.604454\n",
      "Train Epoch: 7 [25600/60000 (43%)]\tLoss: 0.828974\n",
      "Train Epoch: 7 [32000/60000 (53%)]\tLoss: 0.773334\n",
      "Train Epoch: 7 [38400/60000 (64%)]\tLoss: 0.421254\n",
      "Train Epoch: 7 [44800/60000 (75%)]\tLoss: 0.652739\n",
      "Train Epoch: 7 [51200/60000 (85%)]\tLoss: 0.664618\n",
      "Train Epoch: 7 [57600/60000 (96%)]\tLoss: 0.572006\n",
      "\n",
      "Test set: Average loss: 0.6288, Accuracy: 48440/60000 (81%)\n",
      "\n",
      "Train Epoch: 8 [0/60000 (0%)]\tLoss: 0.704114\n",
      "Train Epoch: 8 [6400/60000 (11%)]\tLoss: 0.543282\n",
      "Train Epoch: 8 [12800/60000 (21%)]\tLoss: 0.501873\n",
      "Train Epoch: 8 [19200/60000 (32%)]\tLoss: 0.584986\n",
      "Train Epoch: 8 [25600/60000 (43%)]\tLoss: 0.802990\n",
      "Train Epoch: 8 [32000/60000 (53%)]\tLoss: 0.751637\n",
      "Train Epoch: 8 [38400/60000 (64%)]\tLoss: 0.399112\n",
      "Train Epoch: 8 [44800/60000 (75%)]\tLoss: 0.628883\n",
      "Train Epoch: 8 [51200/60000 (85%)]\tLoss: 0.639128\n",
      "Train Epoch: 8 [57600/60000 (96%)]\tLoss: 0.556578\n",
      "\n",
      "Test set: Average loss: 0.6085, Accuracy: 48618/60000 (81%)\n",
      "\n",
      "Train Epoch: 9 [0/60000 (0%)]\tLoss: 0.677444\n",
      "Train Epoch: 9 [6400/60000 (11%)]\tLoss: 0.524357\n",
      "Train Epoch: 9 [12800/60000 (21%)]\tLoss: 0.481715\n",
      "Train Epoch: 9 [19200/60000 (32%)]\tLoss: 0.570264\n",
      "Train Epoch: 9 [25600/60000 (43%)]\tLoss: 0.782828\n",
      "Train Epoch: 9 [32000/60000 (53%)]\tLoss: 0.735200\n",
      "Train Epoch: 9 [38400/60000 (64%)]\tLoss: 0.381736\n",
      "Train Epoch: 9 [44800/60000 (75%)]\tLoss: 0.611363\n",
      "Train Epoch: 9 [51200/60000 (85%)]\tLoss: 0.618929\n",
      "Train Epoch: 9 [57600/60000 (96%)]\tLoss: 0.544350\n",
      "\n",
      "Test set: Average loss: 0.5924, Accuracy: 48791/60000 (81%)\n",
      "\n",
      "Train Epoch: 10 [0/60000 (0%)]\tLoss: 0.655728\n",
      "Train Epoch: 10 [6400/60000 (11%)]\tLoss: 0.510754\n",
      "Train Epoch: 10 [12800/60000 (21%)]\tLoss: 0.465433\n",
      "Train Epoch: 10 [19200/60000 (32%)]\tLoss: 0.558340\n",
      "Train Epoch: 10 [25600/60000 (43%)]\tLoss: 0.766528\n",
      "Train Epoch: 10 [32000/60000 (53%)]\tLoss: 0.722264\n",
      "Train Epoch: 10 [38400/60000 (64%)]\tLoss: 0.367999\n",
      "Train Epoch: 10 [44800/60000 (75%)]\tLoss: 0.597598\n",
      "Train Epoch: 10 [51200/60000 (85%)]\tLoss: 0.602003\n",
      "Train Epoch: 10 [57600/60000 (96%)]\tLoss: 0.534860\n",
      "\n",
      "Test set: Average loss: 0.5793, Accuracy: 48920/60000 (82%)\n",
      "\n"
     ]
    }
   ],
   "source": [
    "model_c = mnist_network(num_hidden_layers=1,layer_size=20,activation='relu')\n",
    "lr = 0.001\n",
    "optimizer = optim.SGD(model_c.parameters(),lr=lr)\n",
    "\n",
    "train_c = []\n",
    "\n",
    "for epoch in range(1, epochs + 1):\n",
    "        # Training\n",
    "        train(model_c, train_criterion, train_loader, optimizer, epoch)\n",
    "        train_c.append(test(model_c, test_criterion, train_loader))"
   ]
  },
  {
   "cell_type": "markdown",
   "metadata": {
    "id": "3HbaGOWRfG7_"
   },
   "source": [
    "Test the trained network on the test data. Print out the accuracy."
   ]
  },
  {
   "cell_type": "code",
   "execution_count": 74,
   "metadata": {
    "id": "hp6jgPocfG8A"
   },
   "outputs": [
    {
     "name": "stdout",
     "output_type": "stream",
     "text": [
      "\n",
      "Test set: Average loss: 0.5652, Accuracy: 8212/10000 (82%)\n",
      "\n"
     ]
    },
    {
     "data": {
      "text/plain": [
       "82.12"
      ]
     },
     "execution_count": 74,
     "metadata": {},
     "output_type": "execute_result"
    }
   ],
   "source": [
    "test(model_c, test_criterion, test_loader)"
   ]
  },
  {
   "cell_type": "markdown",
   "metadata": {
    "id": "gCAv1ujIfG8A"
   },
   "source": [
    "Plot the training accuracies over the epochs of the scenarios on the same figure (there should 3 line plots/scatter plots). "
   ]
  },
  {
   "cell_type": "code",
   "execution_count": 75,
   "metadata": {
    "id": "iTazEXPkfG8B"
   },
   "outputs": [
    {
     "data": {
      "text/plain": [
       "<matplotlib.legend.Legend at 0x7fb55641b940>"
      ]
     },
     "execution_count": 75,
     "metadata": {},
     "output_type": "execute_result"
    },
    {
     "data": {
      "image/png": "[encoded data removed]",
      "text/plain": [
       "<Figure size 432x288 with 1 Axes>"
      ]
     },
     "metadata": {
      "needs_background": "light"
     },
     "output_type": "display_data"
    }
   ],
   "source": [
    "plt.plot(train_a, label = '0.1')\n",
    "plt.plot(train_b, label = '0.01')\n",
    "plt.plot(train_c, label = '0.001')\n",
    "plt.legend()"
   ]
  },
  {
   "cell_type": "markdown",
   "metadata": {
    "id": "XLal-1hxfG8B"
   },
   "source": [
    "What is your conclustion on the effect of varying the learning rate on the performance of a neural network?"
   ]
  },
  {
   "cell_type": "markdown",
   "metadata": {},
   "source": [
    "The learning rate of 0.1 produced the best results, and the general trend that I saw in these three learning rates was that the smaller the learning rate, the longer it took the network to converge to a value of accuracy."
   ]
  },
  {
   "cell_type": "markdown",
   "metadata": {
    "id": "p9FJtJgufv-n"
   },
   "source": [
    "## REMARK for Problem 2\n",
    "\n",
    "You have observed the effects of varying different hyperparameters on the performance of a neural network **on the MNIST dataset**. However, keep in mind that these trends only apply for **the MNIST dataset** and should not be carried to another problem. There is no single hyperparameter settings that works for all problems. As you do more problems, you will build up your intuitions about the hyperparameters so that you can quickly deploy a good model. For example, people observed that setting the learning rate = 0.001 often works the best, though it is not always the case."
   ]
  },
  {
   "cell_type": "markdown",
   "metadata": {
    "id": "cHSaycfVdHRJ"
   },
   "source": [
    "## Problem 3\n",
    "\n",
    "Experimenting with **k-anonimity, i-diversity, and t-closeness**. \n",
    "\n",
    "Consider a dataset, for example, with 3 ordinary attributes and 1 sensitive attribute. Let the 3 ordinary attributes be Age, Sex, and Education and the sensitive attribute be Income, each row in this dataset is of the form:\n",
    "\n",
    "$$\n",
    "    [Age, Sex, Education, Income]\n",
    "$$\n",
    "\n",
    "A hacker is interested in knowing the sensitive attribute Income. When the dataset is designed so that if complies with either **k-anomity**, **i-diversity**, and/or **t-closeness**, even if he or she somehow figures out the values of the three, the hacker may not retrive the sensitive information accurately. In general, **k-anomity** is weaker than **i-diversity**, which, in turn, is weaker than **t-closeness**.\n",
    "\n",
    "By definition, **k-anomity** means that there is at least **k** different rows in the table of which ordinary values are a particular combination of Age, Sex, and Education. For example, the hacker knows the information of the person of interest is Age = 31, Sex = Female, and Education = BS. He or she looks into the data table and found that there are 3 rows with that combination:\n",
    "\n",
    "$$\n",
    "    [Age=31, Sex=Female, Education=BS, Income=300k]\n",
    "$$\n",
    "$$\n",
    "    [Age=31, Sex=Female, Education=BS, Income=70k]\n",
    "$$\n",
    "$$\n",
    "    [Age=31, Sex=Female, Education=BS, Income=20k]\n",
    "$$\n",
    "\n",
    "The hacker cannot tell accurately what the income of the person is because it can be one of the 3 values shown. This particular combination of information has 3-anomity. If every combination corresponds to at least 3 rows, then the dataset has 3-anomity.\n",
    "\n",
    "a) Let's look at the dataset **\"table.csv\"**. Let the sensitive attribute be **education** and others be ordinary attributes. Calculate the anomity of the dataset (the value **k**). First, find all the posible combinations of the ordinary attributes that exists in the dataset. After that, determine the anomity for each combination. The anomity of the dataset is the smallest anomity among the combinations."
   ]
  },
  {
   "cell_type": "code",
   "execution_count": 90,
   "metadata": {
    "id": "Qrm7S5y5dHRJ"
   },
   "outputs": [
    {
     "data": {
      "text/html": [
       "<div>\n",
       "<style scoped>\n",
       "    .dataframe tbody tr th:only-of-type {\n",
       "        vertical-align: middle;\n",
       "    }\n",
       "\n",
       "    .dataframe tbody tr th {\n",
       "        vertical-align: top;\n",
       "    }\n",
       "\n",
       "    .dataframe thead th {\n",
       "        text-align: right;\n",
       "    }\n",
       "</style>\n",
       "<table border=\"1\" class=\"dataframe\">\n",
       "  <thead>\n",
       "    <tr style=\"text-align: right;\">\n",
       "      <th></th>\n",
       "      <th>Unnamed: 0</th>\n",
       "      <th>age</th>\n",
       "      <th>education</th>\n",
       "      <th>race</th>\n",
       "      <th>sex</th>\n",
       "    </tr>\n",
       "  </thead>\n",
       "  <tbody>\n",
       "    <tr>\n",
       "      <th>0</th>\n",
       "      <td>0</td>\n",
       "      <td>39</td>\n",
       "      <td>Bachelors</td>\n",
       "      <td>White</td>\n",
       "      <td>Male</td>\n",
       "    </tr>\n",
       "    <tr>\n",
       "      <th>1</th>\n",
       "      <td>1</td>\n",
       "      <td>50</td>\n",
       "      <td>Bachelors</td>\n",
       "      <td>White</td>\n",
       "      <td>Male</td>\n",
       "    </tr>\n",
       "    <tr>\n",
       "      <th>2</th>\n",
       "      <td>2</td>\n",
       "      <td>38</td>\n",
       "      <td>HS-grad</td>\n",
       "      <td>White</td>\n",
       "      <td>Male</td>\n",
       "    </tr>\n",
       "    <tr>\n",
       "      <th>3</th>\n",
       "      <td>3</td>\n",
       "      <td>53</td>\n",
       "      <td>11th</td>\n",
       "      <td>Black</td>\n",
       "      <td>Male</td>\n",
       "    </tr>\n",
       "    <tr>\n",
       "      <th>4</th>\n",
       "      <td>4</td>\n",
       "      <td>28</td>\n",
       "      <td>Bachelors</td>\n",
       "      <td>Black</td>\n",
       "      <td>Female</td>\n",
       "    </tr>\n",
       "  </tbody>\n",
       "</table>\n",
       "</div>"
      ],
      "text/plain": [
       "   Unnamed: 0  age  education   race     sex\n",
       "0           0   39  Bachelors  White    Male\n",
       "1           1   50  Bachelors  White    Male\n",
       "2           2   38    HS-grad  White    Male\n",
       "3           3   53       11th  Black    Male\n",
       "4           4   28  Bachelors  Black  Female"
      ]
     },
     "execution_count": 90,
     "metadata": {},
     "output_type": "execute_result"
    }
   ],
   "source": [
    "import pandas as pd\n",
    "table = pd.read_csv('table.csv')\n",
    "table.head(5)"
   ]
  },
  {
   "cell_type": "code",
   "execution_count": 107,
   "metadata": {
    "id": "AGqI5mltdHRK"
   },
   "outputs": [
    {
     "name": "stdout",
     "output_type": "stream",
     "text": [
      "Anonimity is 1\n"
     ]
    }
   ],
   "source": [
    "anonimity = min(table.groupby(['age', 'race', 'sex']).count()['education'])\n",
    "print(f'Anonimity is {anonimity}')"
   ]
  },
  {
   "cell_type": "markdown",
   "metadata": {
    "id": "ixGLowBjdHRK"
   },
   "source": [
    "We can improve the **k-anomity** of the dataset by \"suppressing\" the ordinary attributes. Suppressing means reducing the resolution of the attribute's value. For this problem, let's suppress Age by replacing the exact age with an age range. For example, instead of leaving age = 32, replace it with age = 30-40. Apply this to **\"table.csv\"** with the ranges {<20, 20-30, 30-50, >50}. Check if the anomity improves. "
   ]
  },
  {
   "cell_type": "code",
   "execution_count": 111,
   "metadata": {},
   "outputs": [],
   "source": [
    "def ageRange(age):\n",
    "    if age < 20:\n",
    "        return '<20'\n",
    "    elif age <= 30:\n",
    "        return '20-30'\n",
    "    elif age <=50:\n",
    "        return '30-50'\n",
    "    else:\n",
    "        return '>50'\n",
    "\n",
    "table['age_range'] = table['age'].apply(ageRange)"
   ]
  },
  {
   "cell_type": "code",
   "execution_count": 113,
   "metadata": {},
   "outputs": [
    {
     "name": "stdout",
     "output_type": "stream",
     "text": [
      "Anonimity is 4\n"
     ]
    }
   ],
   "source": [
    "anonimity = min(table.groupby(['age_range', 'race', 'sex']).count()['education'])\n",
    "print(f'Anonimity is {anonimity}')"
   ]
  },
  {
   "cell_type": "markdown",
   "metadata": {},
   "source": [
    "The anonimity improves by 3."
   ]
  },
  {
   "cell_type": "markdown",
   "metadata": {
    "id": "Pv-RmXqCdHRK"
   },
   "source": [
    "**K-anomity** is nice, however, it fails in many cases. If the rows which share a combination of ordinary attributes have only a few values for the sensitive attribute, then it is not much better than having no anomity at all. For example, consider:\n",
    "\n",
    "$$\n",
    "    [Age=31, Sex=Female, Education=BS, Income=300k]\n",
    "$$\n",
    "$$\n",
    "    [Age=31, Sex=Female, Education=BS, Income=20k]\n",
    "$$\n",
    "$$\n",
    "    [Age=31, Sex=Female, Education=BS, Income=20k]\n",
    "$$\n",
    "$$\n",
    "    [Age=31, Sex=Female, Education=BS, Income=20k]\n",
    "$$\n",
    "\n",
    "When **k-anomity** fails in the second case, **i-diversity** comes to the rescue. **I-diversity** states that the rows of a particular combination of information must have at least i different values for the sensitive attribute. The above example has 2-diversity, which is not good. \n",
    "\n",
    "b) Calculate the **i-diversity** of the dataset **\"table.csv\"**. Follow similar steps as in part a. "
   ]
  },
  {
   "cell_type": "code",
   "execution_count": 127,
   "metadata": {
    "id": "eZYCvcukdHRK"
   },
   "outputs": [
    {
     "data": {
      "text/html": [
       "<div>\n",
       "<style scoped>\n",
       "    .dataframe tbody tr th:only-of-type {\n",
       "        vertical-align: middle;\n",
       "    }\n",
       "\n",
       "    .dataframe tbody tr th {\n",
       "        vertical-align: top;\n",
       "    }\n",
       "\n",
       "    .dataframe thead th {\n",
       "        text-align: right;\n",
       "    }\n",
       "</style>\n",
       "<table border=\"1\" class=\"dataframe\">\n",
       "  <thead>\n",
       "    <tr style=\"text-align: right;\">\n",
       "      <th></th>\n",
       "      <th>Unnamed: 0</th>\n",
       "      <th>age</th>\n",
       "      <th>education</th>\n",
       "      <th>race</th>\n",
       "      <th>sex</th>\n",
       "    </tr>\n",
       "  </thead>\n",
       "  <tbody>\n",
       "    <tr>\n",
       "      <th>0</th>\n",
       "      <td>0</td>\n",
       "      <td>39</td>\n",
       "      <td>Bachelors</td>\n",
       "      <td>White</td>\n",
       "      <td>Male</td>\n",
       "    </tr>\n",
       "    <tr>\n",
       "      <th>1</th>\n",
       "      <td>1</td>\n",
       "      <td>50</td>\n",
       "      <td>Bachelors</td>\n",
       "      <td>White</td>\n",
       "      <td>Male</td>\n",
       "    </tr>\n",
       "    <tr>\n",
       "      <th>2</th>\n",
       "      <td>2</td>\n",
       "      <td>38</td>\n",
       "      <td>HS-grad</td>\n",
       "      <td>White</td>\n",
       "      <td>Male</td>\n",
       "    </tr>\n",
       "    <tr>\n",
       "      <th>3</th>\n",
       "      <td>3</td>\n",
       "      <td>53</td>\n",
       "      <td>11th</td>\n",
       "      <td>Black</td>\n",
       "      <td>Male</td>\n",
       "    </tr>\n",
       "    <tr>\n",
       "      <th>4</th>\n",
       "      <td>4</td>\n",
       "      <td>28</td>\n",
       "      <td>Bachelors</td>\n",
       "      <td>Black</td>\n",
       "      <td>Female</td>\n",
       "    </tr>\n",
       "  </tbody>\n",
       "</table>\n",
       "</div>"
      ],
      "text/plain": [
       "   Unnamed: 0  age  education   race     sex\n",
       "0           0   39  Bachelors  White    Male\n",
       "1           1   50  Bachelors  White    Male\n",
       "2           2   38    HS-grad  White    Male\n",
       "3           3   53       11th  Black    Male\n",
       "4           4   28  Bachelors  Black  Female"
      ]
     },
     "execution_count": 127,
     "metadata": {},
     "output_type": "execute_result"
    }
   ],
   "source": [
    "table = pd.read_csv('table.csv')\n",
    "table.head(5)"
   ]
  },
  {
   "cell_type": "code",
   "execution_count": 142,
   "metadata": {},
   "outputs": [
    {
     "data": {
      "text/html": [
       "<div>\n",
       "<style scoped>\n",
       "    .dataframe tbody tr th:only-of-type {\n",
       "        vertical-align: middle;\n",
       "    }\n",
       "\n",
       "    .dataframe tbody tr th {\n",
       "        vertical-align: top;\n",
       "    }\n",
       "\n",
       "    .dataframe thead th {\n",
       "        text-align: right;\n",
       "    }\n",
       "</style>\n",
       "<table border=\"1\" class=\"dataframe\">\n",
       "  <thead>\n",
       "    <tr style=\"text-align: right;\">\n",
       "      <th></th>\n",
       "      <th></th>\n",
       "      <th></th>\n",
       "      <th>education</th>\n",
       "    </tr>\n",
       "    <tr>\n",
       "      <th>age</th>\n",
       "      <th>race</th>\n",
       "      <th>sex</th>\n",
       "      <th></th>\n",
       "    </tr>\n",
       "  </thead>\n",
       "  <tbody>\n",
       "    <tr>\n",
       "      <th>41</th>\n",
       "      <th>Amer-Indian-Eskimo</th>\n",
       "      <th>Female</th>\n",
       "      <td>1</td>\n",
       "    </tr>\n",
       "    <tr>\n",
       "      <th rowspan=\"2\" valign=\"top\">67</th>\n",
       "      <th>Asian-Pac-Islander</th>\n",
       "      <th>Male</th>\n",
       "      <td>1</td>\n",
       "    </tr>\n",
       "    <tr>\n",
       "      <th>Amer-Indian-Eskimo</th>\n",
       "      <th>Male</th>\n",
       "      <td>1</td>\n",
       "    </tr>\n",
       "    <tr>\n",
       "      <th>39</th>\n",
       "      <th>Amer-Indian-Eskimo</th>\n",
       "      <th>Male</th>\n",
       "      <td>1</td>\n",
       "    </tr>\n",
       "    <tr>\n",
       "      <th>66</th>\n",
       "      <th>Other</th>\n",
       "      <th>Female</th>\n",
       "      <td>1</td>\n",
       "    </tr>\n",
       "  </tbody>\n",
       "</table>\n",
       "</div>"
      ],
      "text/plain": [
       "                               education\n",
       "age race               sex              \n",
       "41  Amer-Indian-Eskimo Female          1\n",
       "67  Asian-Pac-Islander Male            1\n",
       "    Amer-Indian-Eskimo Male            1\n",
       "39  Amer-Indian-Eskimo Male            1\n",
       "66  Other              Female          1"
      ]
     },
     "execution_count": 142,
     "metadata": {},
     "output_type": "execute_result"
    }
   ],
   "source": [
    "table.groupby([\"age\",\"race\", \"sex\"]).agg({\"education\":\"nunique\"}).sort_values('education').head(5)"
   ]
  },
  {
   "cell_type": "markdown",
   "metadata": {},
   "source": [
    "The i-diversity is 1."
   ]
  },
  {
   "cell_type": "markdown",
   "metadata": {
    "id": "6qWt9JvTdHRK"
   },
   "source": [
    "Suppressing an attribute can also improve the **i-diversity** of the dataset. Repeat the suppression as in **part a** and check if the diversity improves. If it does not, consider further suppress age by using the range {<20, 20-50, >50}."
   ]
  },
  {
   "cell_type": "code",
   "execution_count": 143,
   "metadata": {},
   "outputs": [
    {
     "data": {
      "text/html": [
       "<div>\n",
       "<style scoped>\n",
       "    .dataframe tbody tr th:only-of-type {\n",
       "        vertical-align: middle;\n",
       "    }\n",
       "\n",
       "    .dataframe tbody tr th {\n",
       "        vertical-align: top;\n",
       "    }\n",
       "\n",
       "    .dataframe thead th {\n",
       "        text-align: right;\n",
       "    }\n",
       "</style>\n",
       "<table border=\"1\" class=\"dataframe\">\n",
       "  <thead>\n",
       "    <tr style=\"text-align: right;\">\n",
       "      <th></th>\n",
       "      <th></th>\n",
       "      <th></th>\n",
       "      <th>education</th>\n",
       "    </tr>\n",
       "    <tr>\n",
       "      <th>age_range</th>\n",
       "      <th>race</th>\n",
       "      <th>sex</th>\n",
       "      <th></th>\n",
       "    </tr>\n",
       "  </thead>\n",
       "  <tbody>\n",
       "    <tr>\n",
       "      <th>&lt;20</th>\n",
       "      <th>Amer-Indian-Eskimo</th>\n",
       "      <th>Male</th>\n",
       "      <td>3</td>\n",
       "    </tr>\n",
       "    <tr>\n",
       "      <th>&gt;50</th>\n",
       "      <th>Other</th>\n",
       "      <th>Female</th>\n",
       "      <td>4</td>\n",
       "    </tr>\n",
       "    <tr>\n",
       "      <th rowspan=\"3\" valign=\"top\">&lt;20</th>\n",
       "      <th>Amer-Indian-Eskimo</th>\n",
       "      <th>Female</th>\n",
       "      <td>4</td>\n",
       "    </tr>\n",
       "    <tr>\n",
       "      <th>Asian-Pac-Islander</th>\n",
       "      <th>Male</th>\n",
       "      <td>4</td>\n",
       "    </tr>\n",
       "    <tr>\n",
       "      <th>Other</th>\n",
       "      <th>Male</th>\n",
       "      <td>5</td>\n",
       "    </tr>\n",
       "  </tbody>\n",
       "</table>\n",
       "</div>"
      ],
      "text/plain": [
       "                                     education\n",
       "age_range race               sex              \n",
       "<20       Amer-Indian-Eskimo Male            3\n",
       ">50       Other              Female          4\n",
       "<20       Amer-Indian-Eskimo Female          4\n",
       "          Asian-Pac-Islander Male            4\n",
       "          Other              Male            5"
      ]
     },
     "execution_count": 143,
     "metadata": {},
     "output_type": "execute_result"
    }
   ],
   "source": [
    "def ageRange_i (age):\n",
    "    if age < 20:\n",
    "        return '<20'\n",
    "    elif age <=50:\n",
    "        return '20-50'\n",
    "    else:\n",
    "        return '>50'\n",
    "\n",
    "table['age_range'] = table['age'].apply(ageRange_i)\n",
    "table.groupby([\"age_range\",\"race\", \"sex\"]).agg({\"education\":\"nunique\"}).sort_values('education').head(5)"
   ]
  },
  {
   "cell_type": "markdown",
   "metadata": {},
   "source": [
    "The i-diversity is improved from 1 to 3."
   ]
  },
  {
   "cell_type": "markdown",
   "metadata": {
    "id": "TX1lsm8ydHRK"
   },
   "source": [
    "**T-closeness** is even better than **i-diversity**. **T-closeness** requires that for every combination of information, the distribution of the sensitive attribute's value among the corresponding rows must be close to the overall distribution of the sensitive attribute's value for the whole dataset. Distance between distribution is calculated using the Earth Mover Distance (EMD). The dataset has **t-closeness** if no distance exceeds **t**. \n",
    "\n",
    "c) Calculate the overall distribution of **education**. Find the **t-closeness** of the dataset (largest distance between any combination's distribution of marital-status and the overall distribution).\n",
    "\n",
    "You can use **scipy.stats.wasserstein_distance** to calculate the EMD."
   ]
  },
  {
   "cell_type": "code",
   "execution_count": 144,
   "metadata": {
    "id": "BjR4iG2bdHRK"
   },
   "outputs": [],
   "source": [
    "from scipy.stats import wasserstein_distance\n",
    "\n",
    "table = pd.read_csv('table.csv')"
   ]
  },
  {
   "cell_type": "code",
   "execution_count": 148,
   "metadata": {},
   "outputs": [],
   "source": [
    "table['race'] = pd.factorize(table['race'])[0]\n",
    "table['sex'] = pd.factorize(table['sex'])[0]\n",
    "table['education'] = pd.factorize(table['education'])[0]\n",
    "\n",
    "ages = np.unique(table['age'])\n",
    "races = np.unique(table['race'])\n",
    "sexes = np.unique(table['sex'])"
   ]
  },
  {
   "cell_type": "code",
   "execution_count": 149,
   "metadata": {},
   "outputs": [],
   "source": [
    "education = (table['education'])\n",
    "distances = []\n",
    "\n",
    "for age in range(len(ages)):\n",
    "    for race in range(len(races)):\n",
    "        for sex in range(len(sexes)):\n",
    "            temp = table[(table['age']==age) & (table['race']==race) & (table['sex']==sex)]\n",
    "            if temp.empty:\n",
    "                distances.append(wasserstein_distance([0], education)) \n",
    "            else:\n",
    "                use = temp.iloc[:, 2]\n",
    "                distances.append(wasserstein_distance(use, education))"
   ]
  },
  {
   "cell_type": "code",
   "execution_count": 155,
   "metadata": {},
   "outputs": [
    {
     "data": {
      "text/plain": [
       "11.44312068583628"
      ]
     },
     "execution_count": 155,
     "metadata": {},
     "output_type": "execute_result"
    }
   ],
   "source": [
    "closeness = max(distances) - min(distances)\n",
    "closeness"
   ]
  },
  {
   "cell_type": "code",
   "execution_count": null,
   "metadata": {},
   "outputs": [],
   "source": []
  }
 ],
 "metadata": {
  "colab": {
   "collapsed_sections": [
    "p9FJtJgufv-n"
   ],
   "name": "HW3_F21.ipynb",
   "provenance": []
  },
  "kernelspec": {
   "display_name": "Python 3 (ipykernel)",
   "language": "python",
   "name": "python3"
  },
  "language_info": {
   "codemirror_mode": {
    "name": "ipython",
    "version": 3
   },
   "file_extension": ".py",
   "mimetype": "text/x-python",
   "name": "python",
   "nbconvert_exporter": "python",
   "pygments_lexer": "ipython3",
   "version": "3.8.12"
  }
 },
 "nbformat": 4,
 "nbformat_minor": 1
}
